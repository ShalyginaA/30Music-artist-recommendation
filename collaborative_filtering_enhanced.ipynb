{
 "cells": [
  {
   "cell_type": "code",
   "execution_count": 1,
   "metadata": {},
   "outputs": [],
   "source": [
    "import pandas as pd\n",
    "import numpy as np"
   ]
  },
  {
   "cell_type": "code",
   "execution_count": 2,
   "metadata": {},
   "outputs": [],
   "source": [
    "import implicit"
   ]
  },
  {
   "cell_type": "code",
   "execution_count": 3,
   "metadata": {},
   "outputs": [],
   "source": [
    "import pickle"
   ]
  },
  {
   "cell_type": "code",
   "execution_count": 4,
   "metadata": {},
   "outputs": [],
   "source": [
    "from scipy.sparse import coo_matrix"
   ]
  },
  {
   "cell_type": "code",
   "execution_count": 5,
   "metadata": {},
   "outputs": [],
   "source": [
    "from utils.CF_recommender_utils import recommend_by_average, calculate_hit_rate, recommend_by_user\n",
    "from utils.metrics import *"
   ]
  },
  {
   "cell_type": "code",
   "execution_count": 6,
   "metadata": {},
   "outputs": [],
   "source": [
    "! export MKL_NUM_THREADS=1"
   ]
  },
  {
   "cell_type": "markdown",
   "metadata": {},
   "source": [
    "### 1. Load prepared data"
   ]
  },
  {
   "cell_type": "code",
   "execution_count": 7,
   "metadata": {},
   "outputs": [],
   "source": [
    "train_df = pd.read_pickle('data/train_mod.pickle')\n",
    "test_df = pd.read_pickle('data/test_grouped.pickle')\n",
    "left_out_df = pd.read_pickle('data/left_out_df.pickle')\n",
    "likes_df = pd.read_pickle('data/likes_df.pickle')"
   ]
  },
  {
   "cell_type": "code",
   "execution_count": 8,
   "metadata": {},
   "outputs": [],
   "source": [
    "#count number of interactions for each user and artist\n",
    "train_df2 = train_df[['user_id', 'person_id']].groupby(['user_id', 'person_id']).size().reset_index(name='plays')"
   ]
  },
  {
   "cell_type": "code",
   "execution_count": 9,
   "metadata": {},
   "outputs": [],
   "source": [
    "likes_df['person_id'] = likes_df['person_id'].astype(str)"
   ]
  },
  {
   "cell_type": "code",
   "execution_count": 10,
   "metadata": {},
   "outputs": [
    {
     "data": {
      "text/html": [
       "<div>\n",
       "<style scoped>\n",
       "    .dataframe tbody tr th:only-of-type {\n",
       "        vertical-align: middle;\n",
       "    }\n",
       "\n",
       "    .dataframe tbody tr th {\n",
       "        vertical-align: top;\n",
       "    }\n",
       "\n",
       "    .dataframe thead th {\n",
       "        text-align: right;\n",
       "    }\n",
       "</style>\n",
       "<table border=\"1\" class=\"dataframe\">\n",
       "  <thead>\n",
       "    <tr style=\"text-align: right;\">\n",
       "      <th></th>\n",
       "      <th>user_id</th>\n",
       "      <th>person_id</th>\n",
       "      <th>plays</th>\n",
       "    </tr>\n",
       "  </thead>\n",
       "  <tbody>\n",
       "    <tr>\n",
       "      <th>0</th>\n",
       "      <td>1</td>\n",
       "      <td>104136</td>\n",
       "      <td>72</td>\n",
       "    </tr>\n",
       "    <tr>\n",
       "      <th>1</th>\n",
       "      <td>1</td>\n",
       "      <td>11467</td>\n",
       "      <td>63</td>\n",
       "    </tr>\n",
       "    <tr>\n",
       "      <th>2</th>\n",
       "      <td>1</td>\n",
       "      <td>11617</td>\n",
       "      <td>13</td>\n",
       "    </tr>\n",
       "    <tr>\n",
       "      <th>3</th>\n",
       "      <td>1</td>\n",
       "      <td>153765</td>\n",
       "      <td>32</td>\n",
       "    </tr>\n",
       "    <tr>\n",
       "      <th>4</th>\n",
       "      <td>1</td>\n",
       "      <td>168705</td>\n",
       "      <td>40</td>\n",
       "    </tr>\n",
       "    <tr>\n",
       "      <th>...</th>\n",
       "      <td>...</td>\n",
       "      <td>...</td>\n",
       "      <td>...</td>\n",
       "    </tr>\n",
       "    <tr>\n",
       "      <th>5907655</th>\n",
       "      <td>45174</td>\n",
       "      <td>83375</td>\n",
       "      <td>1</td>\n",
       "    </tr>\n",
       "    <tr>\n",
       "      <th>5907656</th>\n",
       "      <td>45174</td>\n",
       "      <td>86122</td>\n",
       "      <td>1</td>\n",
       "    </tr>\n",
       "    <tr>\n",
       "      <th>5907657</th>\n",
       "      <td>45174</td>\n",
       "      <td>87296</td>\n",
       "      <td>1</td>\n",
       "    </tr>\n",
       "    <tr>\n",
       "      <th>5907658</th>\n",
       "      <td>45174</td>\n",
       "      <td>87766</td>\n",
       "      <td>1</td>\n",
       "    </tr>\n",
       "    <tr>\n",
       "      <th>5907659</th>\n",
       "      <td>45174</td>\n",
       "      <td>88889</td>\n",
       "      <td>1</td>\n",
       "    </tr>\n",
       "  </tbody>\n",
       "</table>\n",
       "<p>5907660 rows × 3 columns</p>\n",
       "</div>"
      ],
      "text/plain": [
       "         user_id person_id  plays\n",
       "0              1    104136     72\n",
       "1              1     11467     63\n",
       "2              1     11617     13\n",
       "3              1    153765     32\n",
       "4              1    168705     40\n",
       "...          ...       ...    ...\n",
       "5907655    45174     83375      1\n",
       "5907656    45174     86122      1\n",
       "5907657    45174     87296      1\n",
       "5907658    45174     87766      1\n",
       "5907659    45174     88889      1\n",
       "\n",
       "[5907660 rows x 3 columns]"
      ]
     },
     "execution_count": 10,
     "metadata": {},
     "output_type": "execute_result"
    }
   ],
   "source": [
    "train_df2"
   ]
  },
  {
   "cell_type": "code",
   "execution_count": 11,
   "metadata": {},
   "outputs": [
    {
     "data": {
      "text/html": [
       "<div>\n",
       "<style scoped>\n",
       "    .dataframe tbody tr th:only-of-type {\n",
       "        vertical-align: middle;\n",
       "    }\n",
       "\n",
       "    .dataframe tbody tr th {\n",
       "        vertical-align: top;\n",
       "    }\n",
       "\n",
       "    .dataframe thead th {\n",
       "        text-align: right;\n",
       "    }\n",
       "</style>\n",
       "<table border=\"1\" class=\"dataframe\">\n",
       "  <thead>\n",
       "    <tr style=\"text-align: right;\">\n",
       "      <th></th>\n",
       "      <th>user_id</th>\n",
       "      <th>person_id</th>\n",
       "      <th>likes_count</th>\n",
       "    </tr>\n",
       "  </thead>\n",
       "  <tbody>\n",
       "    <tr>\n",
       "      <th>0</th>\n",
       "      <td>1</td>\n",
       "      <td>87999</td>\n",
       "      <td>2</td>\n",
       "    </tr>\n",
       "    <tr>\n",
       "      <th>1</th>\n",
       "      <td>2</td>\n",
       "      <td>184769</td>\n",
       "      <td>1</td>\n",
       "    </tr>\n",
       "    <tr>\n",
       "      <th>2</th>\n",
       "      <td>2</td>\n",
       "      <td>408273</td>\n",
       "      <td>2</td>\n",
       "    </tr>\n",
       "    <tr>\n",
       "      <th>3</th>\n",
       "      <td>2</td>\n",
       "      <td>459046</td>\n",
       "      <td>2</td>\n",
       "    </tr>\n",
       "    <tr>\n",
       "      <th>4</th>\n",
       "      <td>2</td>\n",
       "      <td>464952</td>\n",
       "      <td>1</td>\n",
       "    </tr>\n",
       "    <tr>\n",
       "      <th>...</th>\n",
       "      <td>...</td>\n",
       "      <td>...</td>\n",
       "      <td>...</td>\n",
       "    </tr>\n",
       "    <tr>\n",
       "      <th>874471</th>\n",
       "      <td>45174</td>\n",
       "      <td>338132</td>\n",
       "      <td>1</td>\n",
       "    </tr>\n",
       "    <tr>\n",
       "      <th>874472</th>\n",
       "      <td>45174</td>\n",
       "      <td>349288</td>\n",
       "      <td>1</td>\n",
       "    </tr>\n",
       "    <tr>\n",
       "      <th>874473</th>\n",
       "      <td>45174</td>\n",
       "      <td>357381</td>\n",
       "      <td>2</td>\n",
       "    </tr>\n",
       "    <tr>\n",
       "      <th>874474</th>\n",
       "      <td>45174</td>\n",
       "      <td>378192</td>\n",
       "      <td>1</td>\n",
       "    </tr>\n",
       "    <tr>\n",
       "      <th>874475</th>\n",
       "      <td>45174</td>\n",
       "      <td>403129</td>\n",
       "      <td>1</td>\n",
       "    </tr>\n",
       "  </tbody>\n",
       "</table>\n",
       "<p>874476 rows × 3 columns</p>\n",
       "</div>"
      ],
      "text/plain": [
       "        user_id person_id  likes_count\n",
       "0             1     87999            2\n",
       "1             2    184769            1\n",
       "2             2    408273            2\n",
       "3             2    459046            2\n",
       "4             2    464952            1\n",
       "...         ...       ...          ...\n",
       "874471    45174    338132            1\n",
       "874472    45174    349288            1\n",
       "874473    45174    357381            2\n",
       "874474    45174    378192            1\n",
       "874475    45174    403129            1\n",
       "\n",
       "[874476 rows x 3 columns]"
      ]
     },
     "execution_count": 11,
     "metadata": {},
     "output_type": "execute_result"
    }
   ],
   "source": [
    "likes_df"
   ]
  },
  {
   "cell_type": "code",
   "execution_count": 12,
   "metadata": {},
   "outputs": [],
   "source": [
    "train_df2 = train_df2.merge(likes_df, on = ['user_id', 'person_id'], how='outer').dropna(subset = ['plays'])"
   ]
  },
  {
   "cell_type": "code",
   "execution_count": 13,
   "metadata": {},
   "outputs": [],
   "source": [
    "train_df2['likes_count'] = train_df2['likes_count'].fillna(0)"
   ]
  },
  {
   "cell_type": "code",
   "execution_count": 14,
   "metadata": {},
   "outputs": [
    {
     "data": {
      "text/html": [
       "<div>\n",
       "<style scoped>\n",
       "    .dataframe tbody tr th:only-of-type {\n",
       "        vertical-align: middle;\n",
       "    }\n",
       "\n",
       "    .dataframe tbody tr th {\n",
       "        vertical-align: top;\n",
       "    }\n",
       "\n",
       "    .dataframe thead th {\n",
       "        text-align: right;\n",
       "    }\n",
       "</style>\n",
       "<table border=\"1\" class=\"dataframe\">\n",
       "  <thead>\n",
       "    <tr style=\"text-align: right;\">\n",
       "      <th></th>\n",
       "      <th>user_id</th>\n",
       "      <th>person_id</th>\n",
       "      <th>plays</th>\n",
       "      <th>likes_count</th>\n",
       "    </tr>\n",
       "  </thead>\n",
       "  <tbody>\n",
       "    <tr>\n",
       "      <th>0</th>\n",
       "      <td>1</td>\n",
       "      <td>104136</td>\n",
       "      <td>72.0</td>\n",
       "      <td>0.0</td>\n",
       "    </tr>\n",
       "    <tr>\n",
       "      <th>1</th>\n",
       "      <td>1</td>\n",
       "      <td>11467</td>\n",
       "      <td>63.0</td>\n",
       "      <td>0.0</td>\n",
       "    </tr>\n",
       "    <tr>\n",
       "      <th>2</th>\n",
       "      <td>1</td>\n",
       "      <td>11617</td>\n",
       "      <td>13.0</td>\n",
       "      <td>0.0</td>\n",
       "    </tr>\n",
       "    <tr>\n",
       "      <th>3</th>\n",
       "      <td>1</td>\n",
       "      <td>153765</td>\n",
       "      <td>32.0</td>\n",
       "      <td>0.0</td>\n",
       "    </tr>\n",
       "    <tr>\n",
       "      <th>4</th>\n",
       "      <td>1</td>\n",
       "      <td>168705</td>\n",
       "      <td>40.0</td>\n",
       "      <td>0.0</td>\n",
       "    </tr>\n",
       "    <tr>\n",
       "      <th>...</th>\n",
       "      <td>...</td>\n",
       "      <td>...</td>\n",
       "      <td>...</td>\n",
       "      <td>...</td>\n",
       "    </tr>\n",
       "    <tr>\n",
       "      <th>5907655</th>\n",
       "      <td>45174</td>\n",
       "      <td>83375</td>\n",
       "      <td>1.0</td>\n",
       "      <td>0.0</td>\n",
       "    </tr>\n",
       "    <tr>\n",
       "      <th>5907656</th>\n",
       "      <td>45174</td>\n",
       "      <td>86122</td>\n",
       "      <td>1.0</td>\n",
       "      <td>0.0</td>\n",
       "    </tr>\n",
       "    <tr>\n",
       "      <th>5907657</th>\n",
       "      <td>45174</td>\n",
       "      <td>87296</td>\n",
       "      <td>1.0</td>\n",
       "      <td>0.0</td>\n",
       "    </tr>\n",
       "    <tr>\n",
       "      <th>5907658</th>\n",
       "      <td>45174</td>\n",
       "      <td>87766</td>\n",
       "      <td>1.0</td>\n",
       "      <td>0.0</td>\n",
       "    </tr>\n",
       "    <tr>\n",
       "      <th>5907659</th>\n",
       "      <td>45174</td>\n",
       "      <td>88889</td>\n",
       "      <td>1.0</td>\n",
       "      <td>0.0</td>\n",
       "    </tr>\n",
       "  </tbody>\n",
       "</table>\n",
       "<p>5907660 rows × 4 columns</p>\n",
       "</div>"
      ],
      "text/plain": [
       "         user_id person_id  plays  likes_count\n",
       "0              1    104136   72.0          0.0\n",
       "1              1     11467   63.0          0.0\n",
       "2              1     11617   13.0          0.0\n",
       "3              1    153765   32.0          0.0\n",
       "4              1    168705   40.0          0.0\n",
       "...          ...       ...    ...          ...\n",
       "5907655    45174     83375    1.0          0.0\n",
       "5907656    45174     86122    1.0          0.0\n",
       "5907657    45174     87296    1.0          0.0\n",
       "5907658    45174     87766    1.0          0.0\n",
       "5907659    45174     88889    1.0          0.0\n",
       "\n",
       "[5907660 rows x 4 columns]"
      ]
     },
     "execution_count": 14,
     "metadata": {},
     "output_type": "execute_result"
    }
   ],
   "source": [
    "train_df2"
   ]
  },
  {
   "cell_type": "code",
   "execution_count": 15,
   "metadata": {},
   "outputs": [
    {
     "data": {
      "text/plain": [
       "0.0      5101449\n",
       "1.0       574610\n",
       "2.0       109058\n",
       "3.0        44095\n",
       "4.0        23176\n",
       "          ...   \n",
       "90.0           1\n",
       "89.0           1\n",
       "88.0           1\n",
       "81.0           1\n",
       "271.0          1\n",
       "Name: likes_count, Length: 135, dtype: int64"
      ]
     },
     "execution_count": 15,
     "metadata": {},
     "output_type": "execute_result"
    }
   ],
   "source": [
    "train_df2['likes_count'].value_counts()"
   ]
  },
  {
   "cell_type": "code",
   "execution_count": 16,
   "metadata": {},
   "outputs": [
    {
     "data": {
      "text/plain": [
       "1.0       3141049\n",
       "2.0        951537\n",
       "3.0        427069\n",
       "4.0        259400\n",
       "5.0        166722\n",
       "           ...   \n",
       "914.0           1\n",
       "907.0           1\n",
       "906.0           1\n",
       "902.0           1\n",
       "8604.0          1\n",
       "Name: plays, Length: 1099, dtype: int64"
      ]
     },
     "execution_count": 16,
     "metadata": {},
     "output_type": "execute_result"
    }
   ],
   "source": [
    "train_df2['plays'].value_counts()"
   ]
  },
  {
   "cell_type": "code",
   "execution_count": 17,
   "metadata": {},
   "outputs": [
    {
     "data": {
      "text/plain": [
       "343.0"
      ]
     },
     "execution_count": 17,
     "metadata": {},
     "output_type": "execute_result"
    }
   ],
   "source": [
    "max(train_df2['likes_count'])"
   ]
  },
  {
   "cell_type": "code",
   "execution_count": 18,
   "metadata": {},
   "outputs": [
    {
     "data": {
      "text/plain": [
       "11319.0"
      ]
     },
     "execution_count": 18,
     "metadata": {},
     "output_type": "execute_result"
    }
   ],
   "source": [
    "max(train_df2['plays'])"
   ]
  },
  {
   "cell_type": "code",
   "execution_count": 19,
   "metadata": {},
   "outputs": [
    {
     "data": {
      "text/plain": [
       "0.2646103533378698"
      ]
     },
     "execution_count": 19,
     "metadata": {},
     "output_type": "execute_result"
    }
   ],
   "source": [
    "np.mean(train_df2['likes_count'])"
   ]
  },
  {
   "cell_type": "code",
   "execution_count": 20,
   "metadata": {},
   "outputs": [
    {
     "data": {
      "text/plain": [
       "4.949872030550167"
      ]
     },
     "execution_count": 20,
     "metadata": {},
     "output_type": "execute_result"
    }
   ],
   "source": [
    "np.mean(train_df2['plays'])"
   ]
  },
  {
   "cell_type": "code",
   "execution_count": 21,
   "metadata": {},
   "outputs": [
    {
     "data": {
      "text/plain": [
       "18.70626741588559"
      ]
     },
     "execution_count": 21,
     "metadata": {},
     "output_type": "execute_result"
    }
   ],
   "source": [
    "np.mean(train_df2['plays'])/np.mean(train_df2['likes_count'])"
   ]
  },
  {
   "cell_type": "markdown",
   "metadata": {},
   "source": [
    "I'm trying to enhance CF model perdormance by enhancing it with user likes. For that, I am creating a new column 'plays_and_likes', where I sum up columns plays and likes with different weights: every play has weight=1 and every like has weight=20 since it is a very strong indication that user liked this artist."
   ]
  },
  {
   "cell_type": "code",
   "execution_count": 22,
   "metadata": {},
   "outputs": [],
   "source": [
    "train_df2['plays_and_likes'] = train_df2['plays'] + 20*train_df2['likes_count']"
   ]
  },
  {
   "cell_type": "code",
   "execution_count": 23,
   "metadata": {},
   "outputs": [
    {
     "data": {
      "text/html": [
       "<div>\n",
       "<style scoped>\n",
       "    .dataframe tbody tr th:only-of-type {\n",
       "        vertical-align: middle;\n",
       "    }\n",
       "\n",
       "    .dataframe tbody tr th {\n",
       "        vertical-align: top;\n",
       "    }\n",
       "\n",
       "    .dataframe thead th {\n",
       "        text-align: right;\n",
       "    }\n",
       "</style>\n",
       "<table border=\"1\" class=\"dataframe\">\n",
       "  <thead>\n",
       "    <tr style=\"text-align: right;\">\n",
       "      <th></th>\n",
       "      <th>user_id</th>\n",
       "      <th>person_id</th>\n",
       "      <th>plays</th>\n",
       "      <th>likes_count</th>\n",
       "      <th>plays_and_likes</th>\n",
       "    </tr>\n",
       "  </thead>\n",
       "  <tbody>\n",
       "    <tr>\n",
       "      <th>0</th>\n",
       "      <td>1</td>\n",
       "      <td>104136</td>\n",
       "      <td>72.0</td>\n",
       "      <td>0.0</td>\n",
       "      <td>72.0</td>\n",
       "    </tr>\n",
       "    <tr>\n",
       "      <th>1</th>\n",
       "      <td>1</td>\n",
       "      <td>11467</td>\n",
       "      <td>63.0</td>\n",
       "      <td>0.0</td>\n",
       "      <td>63.0</td>\n",
       "    </tr>\n",
       "    <tr>\n",
       "      <th>2</th>\n",
       "      <td>1</td>\n",
       "      <td>11617</td>\n",
       "      <td>13.0</td>\n",
       "      <td>0.0</td>\n",
       "      <td>13.0</td>\n",
       "    </tr>\n",
       "    <tr>\n",
       "      <th>3</th>\n",
       "      <td>1</td>\n",
       "      <td>153765</td>\n",
       "      <td>32.0</td>\n",
       "      <td>0.0</td>\n",
       "      <td>32.0</td>\n",
       "    </tr>\n",
       "    <tr>\n",
       "      <th>4</th>\n",
       "      <td>1</td>\n",
       "      <td>168705</td>\n",
       "      <td>40.0</td>\n",
       "      <td>0.0</td>\n",
       "      <td>40.0</td>\n",
       "    </tr>\n",
       "    <tr>\n",
       "      <th>...</th>\n",
       "      <td>...</td>\n",
       "      <td>...</td>\n",
       "      <td>...</td>\n",
       "      <td>...</td>\n",
       "      <td>...</td>\n",
       "    </tr>\n",
       "    <tr>\n",
       "      <th>5907655</th>\n",
       "      <td>45174</td>\n",
       "      <td>83375</td>\n",
       "      <td>1.0</td>\n",
       "      <td>0.0</td>\n",
       "      <td>1.0</td>\n",
       "    </tr>\n",
       "    <tr>\n",
       "      <th>5907656</th>\n",
       "      <td>45174</td>\n",
       "      <td>86122</td>\n",
       "      <td>1.0</td>\n",
       "      <td>0.0</td>\n",
       "      <td>1.0</td>\n",
       "    </tr>\n",
       "    <tr>\n",
       "      <th>5907657</th>\n",
       "      <td>45174</td>\n",
       "      <td>87296</td>\n",
       "      <td>1.0</td>\n",
       "      <td>0.0</td>\n",
       "      <td>1.0</td>\n",
       "    </tr>\n",
       "    <tr>\n",
       "      <th>5907658</th>\n",
       "      <td>45174</td>\n",
       "      <td>87766</td>\n",
       "      <td>1.0</td>\n",
       "      <td>0.0</td>\n",
       "      <td>1.0</td>\n",
       "    </tr>\n",
       "    <tr>\n",
       "      <th>5907659</th>\n",
       "      <td>45174</td>\n",
       "      <td>88889</td>\n",
       "      <td>1.0</td>\n",
       "      <td>0.0</td>\n",
       "      <td>1.0</td>\n",
       "    </tr>\n",
       "  </tbody>\n",
       "</table>\n",
       "<p>5907660 rows × 5 columns</p>\n",
       "</div>"
      ],
      "text/plain": [
       "         user_id person_id  plays  likes_count  plays_and_likes\n",
       "0              1    104136   72.0          0.0             72.0\n",
       "1              1     11467   63.0          0.0             63.0\n",
       "2              1     11617   13.0          0.0             13.0\n",
       "3              1    153765   32.0          0.0             32.0\n",
       "4              1    168705   40.0          0.0             40.0\n",
       "...          ...       ...    ...          ...              ...\n",
       "5907655    45174     83375    1.0          0.0              1.0\n",
       "5907656    45174     86122    1.0          0.0              1.0\n",
       "5907657    45174     87296    1.0          0.0              1.0\n",
       "5907658    45174     87766    1.0          0.0              1.0\n",
       "5907659    45174     88889    1.0          0.0              1.0\n",
       "\n",
       "[5907660 rows x 5 columns]"
      ]
     },
     "execution_count": 23,
     "metadata": {},
     "output_type": "execute_result"
    }
   ],
   "source": [
    "train_df2"
   ]
  },
  {
   "cell_type": "code",
   "execution_count": 24,
   "metadata": {},
   "outputs": [
    {
     "data": {
      "text/plain": [
       "11739.0"
      ]
     },
     "execution_count": 24,
     "metadata": {},
     "output_type": "execute_result"
    }
   ],
   "source": [
    "max(train_df2['plays_and_likes'])"
   ]
  },
  {
   "cell_type": "code",
   "execution_count": 25,
   "metadata": {},
   "outputs": [
    {
     "data": {
      "text/html": [
       "<div>\n",
       "<style scoped>\n",
       "    .dataframe tbody tr th:only-of-type {\n",
       "        vertical-align: middle;\n",
       "    }\n",
       "\n",
       "    .dataframe tbody tr th {\n",
       "        vertical-align: top;\n",
       "    }\n",
       "\n",
       "    .dataframe thead th {\n",
       "        text-align: right;\n",
       "    }\n",
       "</style>\n",
       "<table border=\"1\" class=\"dataframe\">\n",
       "  <thead>\n",
       "    <tr style=\"text-align: right;\">\n",
       "      <th></th>\n",
       "      <th>user_id</th>\n",
       "      <th>person_id</th>\n",
       "      <th>plays</th>\n",
       "      <th>likes_count</th>\n",
       "      <th>plays_and_likes</th>\n",
       "    </tr>\n",
       "  </thead>\n",
       "  <tbody>\n",
       "    <tr>\n",
       "      <th>26</th>\n",
       "      <td>1</td>\n",
       "      <td>87999</td>\n",
       "      <td>41.0</td>\n",
       "      <td>2.0</td>\n",
       "      <td>81.0</td>\n",
       "    </tr>\n",
       "    <tr>\n",
       "      <th>29</th>\n",
       "      <td>3</td>\n",
       "      <td>110487</td>\n",
       "      <td>3.0</td>\n",
       "      <td>2.0</td>\n",
       "      <td>43.0</td>\n",
       "    </tr>\n",
       "    <tr>\n",
       "      <th>31</th>\n",
       "      <td>3</td>\n",
       "      <td>114541</td>\n",
       "      <td>3.0</td>\n",
       "      <td>1.0</td>\n",
       "      <td>23.0</td>\n",
       "    </tr>\n",
       "    <tr>\n",
       "      <th>33</th>\n",
       "      <td>3</td>\n",
       "      <td>120527</td>\n",
       "      <td>68.0</td>\n",
       "      <td>11.0</td>\n",
       "      <td>288.0</td>\n",
       "    </tr>\n",
       "    <tr>\n",
       "      <th>34</th>\n",
       "      <td>3</td>\n",
       "      <td>120533</td>\n",
       "      <td>61.0</td>\n",
       "      <td>5.0</td>\n",
       "      <td>161.0</td>\n",
       "    </tr>\n",
       "    <tr>\n",
       "      <th>...</th>\n",
       "      <td>...</td>\n",
       "      <td>...</td>\n",
       "      <td>...</td>\n",
       "      <td>...</td>\n",
       "      <td>...</td>\n",
       "    </tr>\n",
       "    <tr>\n",
       "      <th>5907592</th>\n",
       "      <td>45174</td>\n",
       "      <td>378192</td>\n",
       "      <td>1.0</td>\n",
       "      <td>1.0</td>\n",
       "      <td>21.0</td>\n",
       "    </tr>\n",
       "    <tr>\n",
       "      <th>5907602</th>\n",
       "      <td>45174</td>\n",
       "      <td>403129</td>\n",
       "      <td>1.0</td>\n",
       "      <td>1.0</td>\n",
       "      <td>21.0</td>\n",
       "    </tr>\n",
       "    <tr>\n",
       "      <th>5907640</th>\n",
       "      <td>45174</td>\n",
       "      <td>5399</td>\n",
       "      <td>22.0</td>\n",
       "      <td>1.0</td>\n",
       "      <td>42.0</td>\n",
       "    </tr>\n",
       "    <tr>\n",
       "      <th>5907643</th>\n",
       "      <td>45174</td>\n",
       "      <td>57717</td>\n",
       "      <td>1.0</td>\n",
       "      <td>1.0</td>\n",
       "      <td>21.0</td>\n",
       "    </tr>\n",
       "    <tr>\n",
       "      <th>5907647</th>\n",
       "      <td>45174</td>\n",
       "      <td>67927</td>\n",
       "      <td>3.0</td>\n",
       "      <td>1.0</td>\n",
       "      <td>23.0</td>\n",
       "    </tr>\n",
       "  </tbody>\n",
       "</table>\n",
       "<p>806211 rows × 5 columns</p>\n",
       "</div>"
      ],
      "text/plain": [
       "         user_id person_id  plays  likes_count  plays_and_likes\n",
       "26             1     87999   41.0          2.0             81.0\n",
       "29             3    110487    3.0          2.0             43.0\n",
       "31             3    114541    3.0          1.0             23.0\n",
       "33             3    120527   68.0         11.0            288.0\n",
       "34             3    120533   61.0          5.0            161.0\n",
       "...          ...       ...    ...          ...              ...\n",
       "5907592    45174    378192    1.0          1.0             21.0\n",
       "5907602    45174    403129    1.0          1.0             21.0\n",
       "5907640    45174      5399   22.0          1.0             42.0\n",
       "5907643    45174     57717    1.0          1.0             21.0\n",
       "5907647    45174     67927    3.0          1.0             23.0\n",
       "\n",
       "[806211 rows x 5 columns]"
      ]
     },
     "execution_count": 25,
     "metadata": {},
     "output_type": "execute_result"
    }
   ],
   "source": [
    "train_df2[train_df2['likes_count']!=0]"
   ]
  },
  {
   "cell_type": "code",
   "execution_count": 26,
   "metadata": {},
   "outputs": [],
   "source": [
    "left_out_df = left_out_df[left_out_df['user_id'].isin(set(train_df2['user_id']))]"
   ]
  },
  {
   "cell_type": "markdown",
   "metadata": {},
   "source": [
    "### 2. Prepare artists and left-out set dictionaries"
   ]
  },
  {
   "cell_type": "code",
   "execution_count": 27,
   "metadata": {},
   "outputs": [],
   "source": [
    "people_df = pd.read_pickle('data/new_persons_df.pickle')"
   ]
  },
  {
   "cell_type": "code",
   "execution_count": 28,
   "metadata": {},
   "outputs": [],
   "source": [
    "people_df['person_id'] = people_df['person_id'].astype(str)"
   ]
  },
  {
   "cell_type": "code",
   "execution_count": 29,
   "metadata": {},
   "outputs": [
    {
     "data": {
      "text/plain": [
       "560927"
      ]
     },
     "execution_count": 29,
     "metadata": {},
     "output_type": "execute_result"
    }
   ],
   "source": [
    "len(people_df['person_id'].unique())"
   ]
  },
  {
   "cell_type": "code",
   "execution_count": 30,
   "metadata": {},
   "outputs": [],
   "source": [
    "people_dict = pd.Series(people_df['person_name'].values, index=people_df['person_id']).to_dict()"
   ]
  },
  {
   "cell_type": "code",
   "execution_count": 31,
   "metadata": {},
   "outputs": [
    {
     "data": {
      "text/plain": [
       "'Everything+Is+Illuminated'"
      ]
     },
     "execution_count": 31,
     "metadata": {},
     "output_type": "execute_result"
    }
   ],
   "source": [
    "people_dict['145148']"
   ]
  },
  {
   "cell_type": "code",
   "execution_count": 32,
   "metadata": {},
   "outputs": [],
   "source": [
    "left_out_dict = pd.Series(left_out_df['person_id'].values, index=left_out_df['user_id']).to_dict()"
   ]
  },
  {
   "cell_type": "code",
   "execution_count": 33,
   "metadata": {},
   "outputs": [
    {
     "data": {
      "text/plain": [
       "'432322'"
      ]
     },
     "execution_count": 33,
     "metadata": {},
     "output_type": "execute_result"
    }
   ],
   "source": [
    "left_out_dict[13693]"
   ]
  },
  {
   "cell_type": "markdown",
   "metadata": {},
   "source": [
    "### 3. Collaborative filtering enhanced with user likes"
   ]
  },
  {
   "cell_type": "code",
   "execution_count": 34,
   "metadata": {},
   "outputs": [],
   "source": [
    "#user and person ids to categorical\n",
    "train_df2['user_id'] = train_df2['user_id'].astype(\"category\")\n",
    "train_df2['person_id'] = train_df2['person_id'].astype(\"category\")"
   ]
  },
  {
   "cell_type": "code",
   "execution_count": 35,
   "metadata": {},
   "outputs": [],
   "source": [
    "#save person codes and construct useful dictionaries\n",
    "person_codes = train_df2['person_id'].cat.codes\n",
    "user_codes = train_df2['user_id'].cat.codes\n",
    "\n",
    "code_person_dict = dict(zip(person_codes, train_df2['person_id']))\n",
    "person_code_dict = dict(zip(train_df2['person_id'], person_codes))\n",
    "\n",
    "code_user_dict = dict(zip(user_codes, train_df2['user_id']))\n",
    "user_code_dict = dict(zip(train_df2['user_id'], user_codes))"
   ]
  },
  {
   "cell_type": "code",
   "execution_count": 36,
   "metadata": {},
   "outputs": [],
   "source": [
    "# get persons ids to later use it for person vectors dictionary\n",
    "code_person_dict_items = [x[1] for x in sorted(code_person_dict.items())]"
   ]
  },
  {
   "cell_type": "code",
   "execution_count": 37,
   "metadata": {},
   "outputs": [],
   "source": [
    "# create a sparse matrix of artist/user/n_plays \n",
    "artist_user_matrix = coo_matrix((train_df2['plays_and_likes'].astype(float), \n",
    "                                (person_codes, \n",
    "                                 user_codes)))"
   ]
  },
  {
   "cell_type": "code",
   "execution_count": 38,
   "metadata": {},
   "outputs": [
    {
     "data": {
      "text/plain": [
       "(515111, 36139)"
      ]
     },
     "execution_count": 38,
     "metadata": {},
     "output_type": "execute_result"
    }
   ],
   "source": [
    "artist_user_matrix.shape"
   ]
  },
  {
   "cell_type": "code",
   "execution_count": 39,
   "metadata": {},
   "outputs": [
    {
     "name": "stderr",
     "output_type": "stream",
     "text": [
      "WARNING:root:Intel MKL BLAS detected. Its highly recommend to set the environment variable 'export MKL_NUM_THREADS=1' to disable its internal multithreading\n"
     ]
    }
   ],
   "source": [
    "# initialize a model\n",
    "model = implicit.als.AlternatingLeastSquares(factors=100, iterations=30)"
   ]
  },
  {
   "cell_type": "code",
   "execution_count": 40,
   "metadata": {},
   "outputs": [
    {
     "data": {
      "application/vnd.jupyter.widget-view+json": {
       "model_id": "793bb3c7b7db4e67a7ab9481045773d0",
       "version_major": 2,
       "version_minor": 0
      },
      "text/plain": [
       "HBox(children=(IntProgress(value=0, max=30), HTML(value='')))"
      ]
     },
     "metadata": {},
     "output_type": "display_data"
    },
    {
     "name": "stdout",
     "output_type": "stream",
     "text": [
      "\n"
     ]
    }
   ],
   "source": [
    "model.fit(artist_user_matrix)"
   ]
  },
  {
   "cell_type": "markdown",
   "metadata": {},
   "source": [
    "### 4. Claculate hit rate"
   ]
  },
  {
   "cell_type": "code",
   "execution_count": 41,
   "metadata": {},
   "outputs": [],
   "source": [
    "def calculate_hit_rate(left_out_dict, user_ids_lst, top_20_recommended_ids):\n",
    "    '''\n",
    "    Claculated hit rate for top 20 using left-one-out set\n",
    "    '''\n",
    "    hit_rate = 0\n",
    "    total_users = len(user_ids_lst)\n",
    "    \n",
    "    for user, ids_lst in zip(user_ids_lst, top_20_recommended_ids):\n",
    "        if left_out_dict[user] in ids_lst:\n",
    "            hit_rate += 1\n",
    "    return hit_rate/total_users"
   ]
  },
  {
   "cell_type": "code",
   "execution_count": 42,
   "metadata": {},
   "outputs": [],
   "source": [
    "user_artist_matrix = artist_user_matrix.T.tocsr()"
   ]
  },
  {
   "cell_type": "code",
   "execution_count": 43,
   "metadata": {},
   "outputs": [
    {
     "name": "stdout",
     "output_type": "stream",
     "text": [
      "CPU times: user 10min 39s, sys: 30.2 ms, total: 10min 39s\n",
      "Wall time: 2min 39s\n"
     ]
    }
   ],
   "source": [
    "%%time\n",
    "recs = list(left_out_df.apply(lambda row: recommend_by_user(model, row, \n",
    "                                                            user_code_dict,\n",
    "                                                            code_person_dict,\n",
    "                                                            user_artist_matrix), axis=1))"
   ]
  },
  {
   "cell_type": "code",
   "execution_count": 44,
   "metadata": {},
   "outputs": [
    {
     "data": {
      "text/plain": [
       "0.22761865227618652"
      ]
     },
     "execution_count": 44,
     "metadata": {},
     "output_type": "execute_result"
    }
   ],
   "source": [
    "hit_rate = calculate_hit_rate(left_out_dict, list(left_out_df['user_id']), recs)\n",
    "hit_rate"
   ]
  },
  {
   "cell_type": "markdown",
   "metadata": {},
   "source": [
    "### 5. Make recommendations for test set and calculate MAPk and recall"
   ]
  },
  {
   "cell_type": "code",
   "execution_count": 45,
   "metadata": {},
   "outputs": [],
   "source": [
    "artists_vectors = dict(zip(code_person_dict_items, model.item_factors))"
   ]
  },
  {
   "cell_type": "code",
   "execution_count": 46,
   "metadata": {},
   "outputs": [],
   "source": [
    "artists_vectors_df = pd.DataFrame(columns=['person_id', 'vector'])\n",
    "artists_vectors_df['person_id'] = code_person_dict_items\n",
    "artists_vectors_df['vector'] = list(model.item_factors)"
   ]
  },
  {
   "cell_type": "code",
   "execution_count": 47,
   "metadata": {},
   "outputs": [],
   "source": [
    "def separate_pers_lst(row):\n",
    "    persons_lst = list(set(row['persons_lst']))\n",
    "    n = len(persons_lst)    \n",
    "    l = persons_lst[:n//2]\n",
    "    r = persons_lst[n//2:]\n",
    "    d = {'persons_lst': l,\n",
    "         'right_lst' : r}\n",
    "    return d   "
   ]
  },
  {
   "cell_type": "code",
   "execution_count": 48,
   "metadata": {},
   "outputs": [],
   "source": [
    "test_df_sep = pd.DataFrame(list(test_df.apply(lambda row: separate_pers_lst(row), axis=1)))\n",
    "test_df_sep['user_id'] = test_df['user_id']"
   ]
  },
  {
   "cell_type": "code",
   "execution_count": 49,
   "metadata": {},
   "outputs": [
    {
     "data": {
      "text/html": [
       "<div>\n",
       "<style scoped>\n",
       "    .dataframe tbody tr th:only-of-type {\n",
       "        vertical-align: middle;\n",
       "    }\n",
       "\n",
       "    .dataframe tbody tr th {\n",
       "        vertical-align: top;\n",
       "    }\n",
       "\n",
       "    .dataframe thead th {\n",
       "        text-align: right;\n",
       "    }\n",
       "</style>\n",
       "<table border=\"1\" class=\"dataframe\">\n",
       "  <thead>\n",
       "    <tr style=\"text-align: right;\">\n",
       "      <th></th>\n",
       "      <th>persons_lst</th>\n",
       "      <th>right_lst</th>\n",
       "      <th>user_id</th>\n",
       "    </tr>\n",
       "  </thead>\n",
       "  <tbody>\n",
       "    <tr>\n",
       "      <th>0</th>\n",
       "      <td>[264674, 48535, 309614, 467871, 42756, 152747,...</td>\n",
       "      <td>[455930, 259767, 375103, 377399, 121264, 32037...</td>\n",
       "      <td>2</td>\n",
       "    </tr>\n",
       "    <tr>\n",
       "      <th>1</th>\n",
       "      <td>[231926, 304139, 141343, 427911, 437579, 11255...</td>\n",
       "      <td>[266686, 294652, 13342, 238555, 304150, 155427...</td>\n",
       "      <td>6</td>\n",
       "    </tr>\n",
       "    <tr>\n",
       "      <th>2</th>\n",
       "      <td>[334039, 351629, 363398, 376150, 103538, 31359...</td>\n",
       "      <td>[56683, 28752, 243451, 138523, 356730, 138986,...</td>\n",
       "      <td>9</td>\n",
       "    </tr>\n",
       "    <tr>\n",
       "      <th>3</th>\n",
       "      <td>[263881]</td>\n",
       "      <td>[302401]</td>\n",
       "      <td>10</td>\n",
       "    </tr>\n",
       "    <tr>\n",
       "      <th>4</th>\n",
       "      <td>[283220, 343177, 305244, 296059, 391352, 30091...</td>\n",
       "      <td>[81646, 40664, 265414, 212650, 208177, 217047,...</td>\n",
       "      <td>19</td>\n",
       "    </tr>\n",
       "    <tr>\n",
       "      <th>...</th>\n",
       "      <td>...</td>\n",
       "      <td>...</td>\n",
       "      <td>...</td>\n",
       "    </tr>\n",
       "    <tr>\n",
       "      <th>9030</th>\n",
       "      <td>[174298, 538948, 298627, 66215, 538953, 223470...</td>\n",
       "      <td>[202870, 76030, 277998, 398752, 62018, 538955,...</td>\n",
       "      <td>45138</td>\n",
       "    </tr>\n",
       "    <tr>\n",
       "      <th>9031</th>\n",
       "      <td>[537943, 537933, 137881, 11309, 537935, 91847,...</td>\n",
       "      <td>[463529, 416199, 537930, 113736, 537945, 39828...</td>\n",
       "      <td>45147</td>\n",
       "    </tr>\n",
       "    <tr>\n",
       "      <th>9032</th>\n",
       "      <td>[129, 192393, 549895, 275082, 16783, 549894, 2...</td>\n",
       "      <td>[54198, 19895, 190028, 218992, 117659, 335800,...</td>\n",
       "      <td>45148</td>\n",
       "    </tr>\n",
       "    <tr>\n",
       "      <th>9033</th>\n",
       "      <td>[427743, 11653, 221303, 247367, 382722, 218516...</td>\n",
       "      <td>[138443, 408513, 450645, 255583, 52520, 120181...</td>\n",
       "      <td>45172</td>\n",
       "    </tr>\n",
       "    <tr>\n",
       "      <th>9034</th>\n",
       "      <td>[58406, 201237, 446939, 13309, 40453, 250234, ...</td>\n",
       "      <td>[110337, 56456, 250808, 17857, 151444, 119698,...</td>\n",
       "      <td>45175</td>\n",
       "    </tr>\n",
       "  </tbody>\n",
       "</table>\n",
       "<p>9035 rows × 3 columns</p>\n",
       "</div>"
      ],
      "text/plain": [
       "                                            persons_lst  \\\n",
       "0     [264674, 48535, 309614, 467871, 42756, 152747,...   \n",
       "1     [231926, 304139, 141343, 427911, 437579, 11255...   \n",
       "2     [334039, 351629, 363398, 376150, 103538, 31359...   \n",
       "3                                              [263881]   \n",
       "4     [283220, 343177, 305244, 296059, 391352, 30091...   \n",
       "...                                                 ...   \n",
       "9030  [174298, 538948, 298627, 66215, 538953, 223470...   \n",
       "9031  [537943, 537933, 137881, 11309, 537935, 91847,...   \n",
       "9032  [129, 192393, 549895, 275082, 16783, 549894, 2...   \n",
       "9033  [427743, 11653, 221303, 247367, 382722, 218516...   \n",
       "9034  [58406, 201237, 446939, 13309, 40453, 250234, ...   \n",
       "\n",
       "                                              right_lst  user_id  \n",
       "0     [455930, 259767, 375103, 377399, 121264, 32037...        2  \n",
       "1     [266686, 294652, 13342, 238555, 304150, 155427...        6  \n",
       "2     [56683, 28752, 243451, 138523, 356730, 138986,...        9  \n",
       "3                                              [302401]       10  \n",
       "4     [81646, 40664, 265414, 212650, 208177, 217047,...       19  \n",
       "...                                                 ...      ...  \n",
       "9030  [202870, 76030, 277998, 398752, 62018, 538955,...    45138  \n",
       "9031  [463529, 416199, 537930, 113736, 537945, 39828...    45147  \n",
       "9032  [54198, 19895, 190028, 218992, 117659, 335800,...    45148  \n",
       "9033  [138443, 408513, 450645, 255583, 52520, 120181...    45172  \n",
       "9034  [110337, 56456, 250808, 17857, 151444, 119698,...    45175  \n",
       "\n",
       "[9035 rows x 3 columns]"
      ]
     },
     "execution_count": 49,
     "metadata": {},
     "output_type": "execute_result"
    }
   ],
   "source": [
    "test_df_sep"
   ]
  },
  {
   "cell_type": "code",
   "execution_count": 50,
   "metadata": {},
   "outputs": [
    {
     "name": "stdout",
     "output_type": "stream",
     "text": [
      "CPU times: user 4h 8min 47s, sys: 21min 22s, total: 4h 30min 10s\n",
      "Wall time: 1h 52min 57s\n"
     ]
    }
   ],
   "source": [
    "%%time\n",
    "top_20_ids = list(test_df_sep.apply(lambda row: recommend_by_average(row, artists_vectors_df), axis=1))"
   ]
  },
  {
   "cell_type": "code",
   "execution_count": 51,
   "metadata": {},
   "outputs": [],
   "source": [
    "y_true = test_df_sep['right_lst']\n",
    "y_pred = top_20_ids"
   ]
  },
  {
   "cell_type": "code",
   "execution_count": 52,
   "metadata": {},
   "outputs": [],
   "source": [
    "mapk_scores = []\n",
    "\n",
    "for t, p in zip(y_true, y_pred):\n",
    "    mapk_scores.append(MAPk(t,p))"
   ]
  },
  {
   "cell_type": "code",
   "execution_count": 53,
   "metadata": {},
   "outputs": [
    {
     "data": {
      "text/plain": [
       "0.024464442441922623"
      ]
     },
     "execution_count": 53,
     "metadata": {},
     "output_type": "execute_result"
    }
   ],
   "source": [
    "np.mean(mapk_scores)"
   ]
  },
  {
   "cell_type": "code",
   "execution_count": 54,
   "metadata": {},
   "outputs": [],
   "source": [
    "rec = []\n",
    "\n",
    "for t, p in zip(y_true, y_pred):\n",
    "    rec.append(recall(t,p))"
   ]
  },
  {
   "cell_type": "code",
   "execution_count": 55,
   "metadata": {},
   "outputs": [
    {
     "data": {
      "text/plain": [
       "0.05716726677431336"
      ]
     },
     "execution_count": 55,
     "metadata": {},
     "output_type": "execute_result"
    }
   ],
   "source": [
    "np.mean(rec)"
   ]
  },
  {
   "cell_type": "code",
   "execution_count": 56,
   "metadata": {},
   "outputs": [],
   "source": [
    "scores_dict = {'mapk': mapk_scores,\n",
    "               'recall': rec}"
   ]
  },
  {
   "cell_type": "code",
   "execution_count": 57,
   "metadata": {},
   "outputs": [],
   "source": [
    "a_file = open(\"CF_savings/scores_dict_cf_enhanced.pkl\", \"wb\")\n",
    "pickle.dump(scores_dict, a_file)\n",
    "a_file.close()"
   ]
  },
  {
   "cell_type": "markdown",
   "metadata": {},
   "source": [
    "### 6. List top-20 most similar artists for some artists"
   ]
  },
  {
   "cell_type": "code",
   "execution_count": 58,
   "metadata": {},
   "outputs": [
    {
     "data": {
      "text/plain": [
       "'Ariana+Grande'"
      ]
     },
     "execution_count": 58,
     "metadata": {},
     "output_type": "execute_result"
    }
   ],
   "source": [
    "#pop\n",
    "people_dict['29692']"
   ]
  },
  {
   "cell_type": "code",
   "execution_count": 59,
   "metadata": {},
   "outputs": [
    {
     "name": "stdout",
     "output_type": "stream",
     "text": [
      "Iggy+Azalea+ft.+Charli+XCX 0.3880091\n",
      "Meghan+Trainor 0.36393252\n",
      "Jessie+J. 0.3590561\n",
      "Katy+Perry+Ft+Juicy+J 0.3387313\n",
      "The+Fault+In+Our+Stars+I+Charli+XCX 0.33847886\n",
      "Clean+Bandit+&+Jess+Glyne 0.33846432\n",
      "Sam+Smith 0.33178425\n",
      "Nicki+Minaj 0.32367924\n",
      "Jason+Derulo 0.32345107\n",
      "Pitbull+feat.+T-Pain+&+Sean+Paul 0.31486762\n",
      "ToveLoVEVO 0.3143407\n",
      "Calvin+Harris+feat.+Florence+Welch 0.2979112\n",
      "One+Direction 0.29412168\n",
      "Magic!+&+Zedd 0.29390973\n",
      "Kiesza 0.28787386\n",
      "David+Guetta+&+Nicky+Romero 0.2874706\n",
      "Maroon+5+Ft.+Rihanna 0.28434008\n",
      "Taylor+Swift+&+Def+Leppard 0.2787992\n",
      "Miley+Cyrus+&+Cobra+Startship 0.27597445\n",
      "Chris+Brown+&+Trey+Songz 0.2722841\n"
     ]
    }
   ],
   "source": [
    "sim_items = model.similar_items(person_code_dict['29692'], N=21)[1:]\n",
    "for item, score in sim_items:\n",
    "    print(people_dict[code_person_dict[item]], score)"
   ]
  },
  {
   "cell_type": "markdown",
   "metadata": {},
   "source": [
    "********************"
   ]
  },
  {
   "cell_type": "code",
   "execution_count": 60,
   "metadata": {},
   "outputs": [
    {
     "data": {
      "text/plain": [
       "'Freddie+Mercury'"
      ]
     },
     "execution_count": 60,
     "metadata": {},
     "output_type": "execute_result"
    }
   ],
   "source": [
    "#rock\n",
    "people_dict['157384']"
   ]
  },
  {
   "cell_type": "code",
   "execution_count": 61,
   "metadata": {},
   "outputs": [
    {
     "name": "stdout",
     "output_type": "stream",
     "text": [
      "Jason+Donovan 0.15838493\n",
      "Cochi+&+Renato 0.15524846\n",
      "F.R.+David 0.15087274\n",
      "Johnny+Hates+Jazz 0.14872801\n",
      "The+Cross 0.14867647\n",
      "Sam+Brown 0.1483022\n",
      "Desireless+&+Operation+Of+The+Sun 0.14753541\n",
      "Dwa+Plus+Jeden 0.14393507\n",
      "Bruce+Willis+&++Danny+Aiello 0.14152995\n",
      "%D0%9F%D1%91%D1%82%D1%80+%D0%98%D0%BB%D1%8C%D0%B8%D1%87+%D0%A7%D0%B0%D0%B9%D0%BA%D0%BE%D0%B2%D1%81%D0%BA%D0%B8%D0%B9 0.14083782\n",
      "Samantha+Fox 0.14022592\n",
      "Blue+System 0.13982084\n",
      "The+Tourists 0.13967028\n",
      "Brian+May 0.13928704\n",
      "Glenn+Medeiros 0.13850962\n",
      "Tracey+Ullman 0.13816538\n",
      "Smokie+&+Suzi+Quatro 0.13485414\n",
      "%D0%A4%D0%B5%D0%B9%D0%BD%D0%BC%D0%B0%D0%BD+%D0%A0%D0%B8%D1%87%D0%B0%D1%80%D0%B4 0.13448521\n",
      "Bucks+Fizz 0.1343224\n",
      "Garou&Daniel+Lavoie&Patrick+Fiori 0.13288593\n"
     ]
    }
   ],
   "source": [
    "sim_items = model.similar_items(person_code_dict['157384'], N=21)[1:]\n",
    "for item, score in sim_items:\n",
    "    print(people_dict[code_person_dict[item]], score)"
   ]
  },
  {
   "cell_type": "markdown",
   "metadata": {},
   "source": [
    "*************"
   ]
  },
  {
   "cell_type": "code",
   "execution_count": 62,
   "metadata": {},
   "outputs": [
    {
     "data": {
      "text/plain": [
       "'Mac+Miller+feat.+Action+Bronson'"
      ]
     },
     "execution_count": 62,
     "metadata": {},
     "output_type": "execute_result"
    }
   ],
   "source": [
    "#rap\n",
    "people_dict['211094']"
   ]
  },
  {
   "cell_type": "code",
   "execution_count": 63,
   "metadata": {},
   "outputs": [
    {
     "name": "stdout",
     "output_type": "stream",
     "text": [
      "Logic+&+Last+Resort 0.29666665\n",
      "Wiz+Khalifa+&+John+Cena 0.29282784\n",
      "YG 0.28724378\n",
      "Schoolboy+Q. 0.2853296\n",
      "A$AP+Rocky 0.28274632\n",
      "Wale+&+DJ+Omega 0.2813783\n",
      "Asher+Roth 0.28063124\n",
      "Big+Sean 0.27811563\n",
      "Ab-Soul+&+Jay+Rock 0.27701825\n",
      "MGK 0.27424225\n",
      "Tyga 0.27405158\n",
      "Lil+Wayne+Feat.+Drake+&+Rick+Ross 0.271438\n",
      "2+Chainz+&+Future 0.2713587\n",
      "Young+Jeezy+&+Bun-B 0.26963753\n",
      "The+Game 0.26730567\n",
      "J+Cole+&+Miguel 0.2666804\n",
      "Future+&+Young+Scooter 0.26617125\n",
      "Chance+The+Rapper+&+The+Social+Experiment 0.266096\n",
      "French+Montana 0.2649563\n",
      "Casey+Veggies+&+Rockie+Fresh 0.2641952\n"
     ]
    }
   ],
   "source": [
    "sim_items = model.similar_items(person_code_dict['211094'], N=21)[1:]\n",
    "for item, score in sim_items:\n",
    "    print(people_dict[code_person_dict[item]], score)"
   ]
  },
  {
   "cell_type": "code",
   "execution_count": null,
   "metadata": {},
   "outputs": [],
   "source": []
  }
 ],
 "metadata": {
  "kernelspec": {
   "display_name": "Python 3",
   "language": "python",
   "name": "python3"
  },
  "language_info": {
   "codemirror_mode": {
    "name": "ipython",
    "version": 3
   },
   "file_extension": ".py",
   "mimetype": "text/x-python",
   "name": "python",
   "nbconvert_exporter": "python",
   "pygments_lexer": "ipython3",
   "version": "3.6.6"
  }
 },
 "nbformat": 4,
 "nbformat_minor": 2
}
