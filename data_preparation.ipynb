{
 "cells": [
  {
   "cell_type": "code",
   "execution_count": 2,
   "metadata": {},
   "outputs": [],
   "source": [
    "import numpy as np\n",
    "import pandas as pd\n",
    "import json"
   ]
  },
  {
   "cell_type": "code",
   "execution_count": 3,
   "metadata": {},
   "outputs": [],
   "source": [
    "from sklearn.utils import shuffle"
   ]
  },
  {
   "cell_type": "code",
   "execution_count": 4,
   "metadata": {},
   "outputs": [],
   "source": [
    "import warnings\n",
    "warnings.filterwarnings(\"ignore\")"
   ]
  },
  {
   "cell_type": "markdown",
   "metadata": {},
   "source": [
    "### 1. Load data files as dataframes"
   ]
  },
  {
   "cell_type": "markdown",
   "metadata": {},
   "source": [
    "I load .idomaar files as dataframes because it is more familiar format for me and it is easier to work with."
   ]
  },
  {
   "cell_type": "code",
   "execution_count": 6,
   "metadata": {},
   "outputs": [
    {
     "data": {
      "text/html": [
       "<div>\n",
       "<style scoped>\n",
       "    .dataframe tbody tr th:only-of-type {\n",
       "        vertical-align: middle;\n",
       "    }\n",
       "\n",
       "    .dataframe tbody tr th {\n",
       "        vertical-align: top;\n",
       "    }\n",
       "\n",
       "    .dataframe thead th {\n",
       "        text-align: right;\n",
       "    }\n",
       "</style>\n",
       "<table border=\"1\" class=\"dataframe\">\n",
       "  <thead>\n",
       "    <tr style=\"text-align: right;\">\n",
       "      <th></th>\n",
       "      <th>object</th>\n",
       "      <th>id</th>\n",
       "      <th>ts</th>\n",
       "      <th>properties</th>\n",
       "      <th>linked_entities</th>\n",
       "    </tr>\n",
       "  </thead>\n",
       "  <tbody>\n",
       "    <tr>\n",
       "      <th>0</th>\n",
       "      <td>track</td>\n",
       "      <td>0</td>\n",
       "      <td>-1</td>\n",
       "      <td>{\"duration\":-1,\"playcount\":4,\"MBID\":null,\"name...</td>\n",
       "      <td>{\"artists\":[{\"type\":\"person\",\"id\":0}],\"albums\"...</td>\n",
       "    </tr>\n",
       "    <tr>\n",
       "      <th>1</th>\n",
       "      <td>track</td>\n",
       "      <td>1</td>\n",
       "      <td>-1</td>\n",
       "      <td>{\"duration\":-1,\"playcount\":495,\"MBID\":null,\"na...</td>\n",
       "      <td>{\"artists\":[{\"type\":\"person\",\"id\":1}],\"albums\"...</td>\n",
       "    </tr>\n",
       "    <tr>\n",
       "      <th>2</th>\n",
       "      <td>track</td>\n",
       "      <td>2</td>\n",
       "      <td>-1</td>\n",
       "      <td>{\"duration\":-1,\"playcount\":2,\"MBID\":null,\"name...</td>\n",
       "      <td>{\"artists\":[{\"type\":\"person\",\"id\":2}],\"albums\"...</td>\n",
       "    </tr>\n",
       "    <tr>\n",
       "      <th>3</th>\n",
       "      <td>track</td>\n",
       "      <td>3</td>\n",
       "      <td>-1</td>\n",
       "      <td>{\"duration\":-1,\"playcount\":2,\"MBID\":null,\"name...</td>\n",
       "      <td>{\"artists\":[{\"type\":\"person\",\"id\":3}],\"albums\"...</td>\n",
       "    </tr>\n",
       "    <tr>\n",
       "      <th>4</th>\n",
       "      <td>track</td>\n",
       "      <td>4</td>\n",
       "      <td>-1</td>\n",
       "      <td>{\"duration\":-1,\"playcount\":1,\"MBID\":null,\"name...</td>\n",
       "      <td>{\"artists\":[{\"type\":\"person\",\"id\":4}],\"albums\"...</td>\n",
       "    </tr>\n",
       "  </tbody>\n",
       "</table>\n",
       "</div>"
      ],
      "text/plain": [
       "  object  id  ts                                         properties  \\\n",
       "0  track   0  -1  {\"duration\":-1,\"playcount\":4,\"MBID\":null,\"name...   \n",
       "1  track   1  -1  {\"duration\":-1,\"playcount\":495,\"MBID\":null,\"na...   \n",
       "2  track   2  -1  {\"duration\":-1,\"playcount\":2,\"MBID\":null,\"name...   \n",
       "3  track   3  -1  {\"duration\":-1,\"playcount\":2,\"MBID\":null,\"name...   \n",
       "4  track   4  -1  {\"duration\":-1,\"playcount\":1,\"MBID\":null,\"name...   \n",
       "\n",
       "                                     linked_entities  \n",
       "0  {\"artists\":[{\"type\":\"person\",\"id\":0}],\"albums\"...  \n",
       "1  {\"artists\":[{\"type\":\"person\",\"id\":1}],\"albums\"...  \n",
       "2  {\"artists\":[{\"type\":\"person\",\"id\":2}],\"albums\"...  \n",
       "3  {\"artists\":[{\"type\":\"person\",\"id\":3}],\"albums\"...  \n",
       "4  {\"artists\":[{\"type\":\"person\",\"id\":4}],\"albums\"...  "
      ]
     },
     "execution_count": 6,
     "metadata": {},
     "output_type": "execute_result"
    }
   ],
   "source": [
    "tracks_df = pd.read_csv(\"ThirtyMusic/entities/tracks.idomaar\",sep='\\t', \n",
    "                        names = ['object', 'id', 'ts', 'properties', 'linked_entities'])\n",
    "tracks_df.head()"
   ]
  },
  {
   "cell_type": "code",
   "execution_count": 7,
   "metadata": {},
   "outputs": [
    {
     "data": {
      "text/plain": [
       "(5675143, 5)"
      ]
     },
     "execution_count": 7,
     "metadata": {},
     "output_type": "execute_result"
    }
   ],
   "source": [
    "tracks_df.shape"
   ]
  },
  {
   "cell_type": "code",
   "execution_count": 8,
   "metadata": {},
   "outputs": [
    {
     "data": {
      "text/html": [
       "<div>\n",
       "<style scoped>\n",
       "    .dataframe tbody tr th:only-of-type {\n",
       "        vertical-align: middle;\n",
       "    }\n",
       "\n",
       "    .dataframe tbody tr th {\n",
       "        vertical-align: top;\n",
       "    }\n",
       "\n",
       "    .dataframe thead th {\n",
       "        text-align: right;\n",
       "    }\n",
       "</style>\n",
       "<table border=\"1\" class=\"dataframe\">\n",
       "  <thead>\n",
       "    <tr style=\"text-align: right;\">\n",
       "      <th></th>\n",
       "      <th>object</th>\n",
       "      <th>id</th>\n",
       "      <th>ts</th>\n",
       "      <th>properties</th>\n",
       "      <th>linked_entities</th>\n",
       "    </tr>\n",
       "  </thead>\n",
       "  <tbody>\n",
       "    <tr>\n",
       "      <th>0</th>\n",
       "      <td>event.session</td>\n",
       "      <td>287144</td>\n",
       "      <td>1390231051</td>\n",
       "      <td>{\"numtracks\":23,\"playtime\":4547}</td>\n",
       "      <td>{\"subjects\":[{\"type\":\"user\",\"id\":44361}],\"obje...</td>\n",
       "    </tr>\n",
       "    <tr>\n",
       "      <th>1</th>\n",
       "      <td>event.session</td>\n",
       "      <td>287145</td>\n",
       "      <td>1390241844</td>\n",
       "      <td>{\"numtracks\":11,\"playtime\":2907}</td>\n",
       "      <td>{\"subjects\":[{\"type\":\"user\",\"id\":44361}],\"obje...</td>\n",
       "    </tr>\n",
       "    <tr>\n",
       "      <th>2</th>\n",
       "      <td>event.session</td>\n",
       "      <td>287146</td>\n",
       "      <td>1390303249</td>\n",
       "      <td>{\"numtracks\":16,\"playtime\":3191}</td>\n",
       "      <td>{\"subjects\":[{\"type\":\"user\",\"id\":44361}],\"obje...</td>\n",
       "    </tr>\n",
       "    <tr>\n",
       "      <th>3</th>\n",
       "      <td>event.session</td>\n",
       "      <td>287147</td>\n",
       "      <td>1390481828</td>\n",
       "      <td>{\"numtracks\":5,\"playtime\":1162}</td>\n",
       "      <td>{\"subjects\":[{\"type\":\"user\",\"id\":44361}],\"obje...</td>\n",
       "    </tr>\n",
       "    <tr>\n",
       "      <th>4</th>\n",
       "      <td>event.session</td>\n",
       "      <td>287140</td>\n",
       "      <td>1421443687</td>\n",
       "      <td>{\"numtracks\":2,\"playtime\":250}</td>\n",
       "      <td>{\"subjects\":[{\"type\":\"user\",\"id\":42773}],\"obje...</td>\n",
       "    </tr>\n",
       "  </tbody>\n",
       "</table>\n",
       "</div>"
      ],
      "text/plain": [
       "          object      id          ts                        properties  \\\n",
       "0  event.session  287144  1390231051  {\"numtracks\":23,\"playtime\":4547}   \n",
       "1  event.session  287145  1390241844  {\"numtracks\":11,\"playtime\":2907}   \n",
       "2  event.session  287146  1390303249  {\"numtracks\":16,\"playtime\":3191}   \n",
       "3  event.session  287147  1390481828   {\"numtracks\":5,\"playtime\":1162}   \n",
       "4  event.session  287140  1421443687    {\"numtracks\":2,\"playtime\":250}   \n",
       "\n",
       "                                     linked_entities  \n",
       "0  {\"subjects\":[{\"type\":\"user\",\"id\":44361}],\"obje...  \n",
       "1  {\"subjects\":[{\"type\":\"user\",\"id\":44361}],\"obje...  \n",
       "2  {\"subjects\":[{\"type\":\"user\",\"id\":44361}],\"obje...  \n",
       "3  {\"subjects\":[{\"type\":\"user\",\"id\":44361}],\"obje...  \n",
       "4  {\"subjects\":[{\"type\":\"user\",\"id\":42773}],\"obje...  "
      ]
     },
     "execution_count": 8,
     "metadata": {},
     "output_type": "execute_result"
    }
   ],
   "source": [
    "sessions_df = pd.read_csv(\"ThirtyMusic/relations/sessions.idomaar\",sep='\\t| ', \n",
    "                        names = ['object', 'id', 'ts', 'properties', 'linked_entities'])\n",
    "sessions_df.head()"
   ]
  },
  {
   "cell_type": "code",
   "execution_count": 9,
   "metadata": {},
   "outputs": [
    {
     "data": {
      "text/plain": [
       "(2764474, 5)"
      ]
     },
     "execution_count": 9,
     "metadata": {},
     "output_type": "execute_result"
    }
   ],
   "source": [
    "sessions_df.shape"
   ]
  },
  {
   "cell_type": "markdown",
   "metadata": {},
   "source": [
    "### 2. Form user_id and track_id columns, create new sessions dataframe with these columns"
   ]
  },
  {
   "cell_type": "code",
   "execution_count": 10,
   "metadata": {},
   "outputs": [],
   "source": [
    "def extract_track_and_user(row):\n",
    "    '''Extracts user_id and track_id from sessions data'''\n",
    "    json_lst = json.loads(row['linked_entities'])\n",
    "    user_id = json_lst['subjects'][0]['id']\n",
    "    track_ids = [obj['id'] for obj in json_lst['objects']]\n",
    "    new_rows_dict = {\n",
    "                    'session_id' : row['id'],\n",
    "                    'ts': row['ts'],\n",
    "                    'user_id' : user_id,\n",
    "                    'track_id' : track_ids \n",
    "                   } \n",
    "    return pd.DataFrame(new_rows_dict)"
   ]
  },
  {
   "cell_type": "code",
   "execution_count": 11,
   "metadata": {},
   "outputs": [
    {
     "name": "stdout",
     "output_type": "stream",
     "text": [
      "CPU times: user 37min 37s, sys: 59.1 s, total: 38min 36s\n",
      "Wall time: 38min 47s\n"
     ]
    }
   ],
   "source": [
    "%%time\n",
    "#apply custom function to sessions_df, form new df\n",
    "new_sessions_df = pd.concat(list(sessions_df.apply(lambda row: extract_track_and_user(row), axis=1)))"
   ]
  },
  {
   "cell_type": "code",
   "execution_count": 12,
   "metadata": {},
   "outputs": [],
   "source": [
    "new_sessions_df = new_sessions_df.reset_index(drop=True)"
   ]
  },
  {
   "cell_type": "code",
   "execution_count": 13,
   "metadata": {},
   "outputs": [
    {
     "data": {
      "text/html": [
       "<div>\n",
       "<style scoped>\n",
       "    .dataframe tbody tr th:only-of-type {\n",
       "        vertical-align: middle;\n",
       "    }\n",
       "\n",
       "    .dataframe tbody tr th {\n",
       "        vertical-align: top;\n",
       "    }\n",
       "\n",
       "    .dataframe thead th {\n",
       "        text-align: right;\n",
       "    }\n",
       "</style>\n",
       "<table border=\"1\" class=\"dataframe\">\n",
       "  <thead>\n",
       "    <tr style=\"text-align: right;\">\n",
       "      <th></th>\n",
       "      <th>session_id</th>\n",
       "      <th>ts</th>\n",
       "      <th>user_id</th>\n",
       "      <th>track_id</th>\n",
       "    </tr>\n",
       "  </thead>\n",
       "  <tbody>\n",
       "    <tr>\n",
       "      <th>0</th>\n",
       "      <td>287144</td>\n",
       "      <td>1390231051</td>\n",
       "      <td>44361</td>\n",
       "      <td>4698874</td>\n",
       "    </tr>\n",
       "    <tr>\n",
       "      <th>1</th>\n",
       "      <td>287144</td>\n",
       "      <td>1390231051</td>\n",
       "      <td>44361</td>\n",
       "      <td>838286</td>\n",
       "    </tr>\n",
       "    <tr>\n",
       "      <th>2</th>\n",
       "      <td>287144</td>\n",
       "      <td>1390231051</td>\n",
       "      <td>44361</td>\n",
       "      <td>2588097</td>\n",
       "    </tr>\n",
       "    <tr>\n",
       "      <th>3</th>\n",
       "      <td>287144</td>\n",
       "      <td>1390231051</td>\n",
       "      <td>44361</td>\n",
       "      <td>2746740</td>\n",
       "    </tr>\n",
       "    <tr>\n",
       "      <th>4</th>\n",
       "      <td>287144</td>\n",
       "      <td>1390231051</td>\n",
       "      <td>44361</td>\n",
       "      <td>3873988</td>\n",
       "    </tr>\n",
       "    <tr>\n",
       "      <th>...</th>\n",
       "      <td>...</td>\n",
       "      <td>...</td>\n",
       "      <td>...</td>\n",
       "      <td>...</td>\n",
       "    </tr>\n",
       "    <tr>\n",
       "      <th>31351940</th>\n",
       "      <td>2480032</td>\n",
       "      <td>1407938059</td>\n",
       "      <td>33058</td>\n",
       "      <td>906373</td>\n",
       "    </tr>\n",
       "    <tr>\n",
       "      <th>31351941</th>\n",
       "      <td>2480033</td>\n",
       "      <td>1407939579</td>\n",
       "      <td>33058</td>\n",
       "      <td>512708</td>\n",
       "    </tr>\n",
       "    <tr>\n",
       "      <th>31351942</th>\n",
       "      <td>2480033</td>\n",
       "      <td>1407939579</td>\n",
       "      <td>33058</td>\n",
       "      <td>2672866</td>\n",
       "    </tr>\n",
       "    <tr>\n",
       "      <th>31351943</th>\n",
       "      <td>2480033</td>\n",
       "      <td>1407939579</td>\n",
       "      <td>33058</td>\n",
       "      <td>1558581</td>\n",
       "    </tr>\n",
       "    <tr>\n",
       "      <th>31351944</th>\n",
       "      <td>2480033</td>\n",
       "      <td>1407939579</td>\n",
       "      <td>33058</td>\n",
       "      <td>3293580</td>\n",
       "    </tr>\n",
       "  </tbody>\n",
       "</table>\n",
       "<p>31351945 rows × 4 columns</p>\n",
       "</div>"
      ],
      "text/plain": [
       "          session_id          ts  user_id  track_id\n",
       "0             287144  1390231051    44361   4698874\n",
       "1             287144  1390231051    44361    838286\n",
       "2             287144  1390231051    44361   2588097\n",
       "3             287144  1390231051    44361   2746740\n",
       "4             287144  1390231051    44361   3873988\n",
       "...              ...         ...      ...       ...\n",
       "31351940     2480032  1407938059    33058    906373\n",
       "31351941     2480033  1407939579    33058    512708\n",
       "31351942     2480033  1407939579    33058   2672866\n",
       "31351943     2480033  1407939579    33058   1558581\n",
       "31351944     2480033  1407939579    33058   3293580\n",
       "\n",
       "[31351945 rows x 4 columns]"
      ]
     },
     "execution_count": 13,
     "metadata": {},
     "output_type": "execute_result"
    }
   ],
   "source": [
    "new_sessions_df"
   ]
  },
  {
   "cell_type": "code",
   "execution_count": 14,
   "metadata": {},
   "outputs": [],
   "source": [
    "#save new sessions df to pickle\n",
    "new_sessions_df.to_pickle('data/new_sessions_df.pickle')"
   ]
  },
  {
   "cell_type": "markdown",
   "metadata": {},
   "source": [
    "### 3. Form person_id column, create new tracks dataframe with this column"
   ]
  },
  {
   "cell_type": "code",
   "execution_count": 15,
   "metadata": {},
   "outputs": [],
   "source": [
    "def extract_person(row):\n",
    "    json_lst = json.loads(row['linked_entities'])\n",
    "    person_id = json_lst['artists'][0]['id']\n",
    "\n",
    "    new_rows_dict = {\n",
    "                    'track_id' : row['id'],\n",
    "                    'person_id' : person_id,\n",
    "                   } \n",
    "    return new_rows_dict"
   ]
  },
  {
   "cell_type": "code",
   "execution_count": 16,
   "metadata": {},
   "outputs": [
    {
     "name": "stdout",
     "output_type": "stream",
     "text": [
      "CPU times: user 2min 32s, sys: 1.55 s, total: 2min 33s\n",
      "Wall time: 2min 35s\n"
     ]
    }
   ],
   "source": [
    "%%time\n",
    "new_tracks_df = pd.DataFrame(list(tracks_df.apply(lambda row: extract_person(row), axis=1)))"
   ]
  },
  {
   "cell_type": "code",
   "execution_count": 17,
   "metadata": {},
   "outputs": [],
   "source": [
    "new_tracks_df = new_tracks_df.drop_duplicates()"
   ]
  },
  {
   "cell_type": "code",
   "execution_count": 18,
   "metadata": {},
   "outputs": [
    {
     "data": {
      "text/html": [
       "<div>\n",
       "<style scoped>\n",
       "    .dataframe tbody tr th:only-of-type {\n",
       "        vertical-align: middle;\n",
       "    }\n",
       "\n",
       "    .dataframe tbody tr th {\n",
       "        vertical-align: top;\n",
       "    }\n",
       "\n",
       "    .dataframe thead th {\n",
       "        text-align: right;\n",
       "    }\n",
       "</style>\n",
       "<table border=\"1\" class=\"dataframe\">\n",
       "  <thead>\n",
       "    <tr style=\"text-align: right;\">\n",
       "      <th></th>\n",
       "      <th>track_id</th>\n",
       "      <th>person_id</th>\n",
       "    </tr>\n",
       "  </thead>\n",
       "  <tbody>\n",
       "    <tr>\n",
       "      <th>0</th>\n",
       "      <td>0</td>\n",
       "      <td>0</td>\n",
       "    </tr>\n",
       "    <tr>\n",
       "      <th>1</th>\n",
       "      <td>1</td>\n",
       "      <td>1</td>\n",
       "    </tr>\n",
       "    <tr>\n",
       "      <th>2</th>\n",
       "      <td>2</td>\n",
       "      <td>2</td>\n",
       "    </tr>\n",
       "    <tr>\n",
       "      <th>3</th>\n",
       "      <td>3</td>\n",
       "      <td>3</td>\n",
       "    </tr>\n",
       "    <tr>\n",
       "      <th>4</th>\n",
       "      <td>4</td>\n",
       "      <td>4</td>\n",
       "    </tr>\n",
       "    <tr>\n",
       "      <th>...</th>\n",
       "      <td>...</td>\n",
       "      <td>...</td>\n",
       "    </tr>\n",
       "    <tr>\n",
       "      <th>5675137</th>\n",
       "      <td>5023104</td>\n",
       "      <td>595139</td>\n",
       "    </tr>\n",
       "    <tr>\n",
       "      <th>5675138</th>\n",
       "      <td>5023105</td>\n",
       "      <td>187223</td>\n",
       "    </tr>\n",
       "    <tr>\n",
       "      <th>5675140</th>\n",
       "      <td>5023106</td>\n",
       "      <td>595140</td>\n",
       "    </tr>\n",
       "    <tr>\n",
       "      <th>5675141</th>\n",
       "      <td>5023107</td>\n",
       "      <td>549669</td>\n",
       "    </tr>\n",
       "    <tr>\n",
       "      <th>5675142</th>\n",
       "      <td>5023108</td>\n",
       "      <td>272336</td>\n",
       "    </tr>\n",
       "  </tbody>\n",
       "</table>\n",
       "<p>4519319 rows × 2 columns</p>\n",
       "</div>"
      ],
      "text/plain": [
       "         track_id  person_id\n",
       "0               0          0\n",
       "1               1          1\n",
       "2               2          2\n",
       "3               3          3\n",
       "4               4          4\n",
       "...           ...        ...\n",
       "5675137   5023104     595139\n",
       "5675138   5023105     187223\n",
       "5675140   5023106     595140\n",
       "5675141   5023107     549669\n",
       "5675142   5023108     272336\n",
       "\n",
       "[4519319 rows x 2 columns]"
      ]
     },
     "execution_count": 18,
     "metadata": {},
     "output_type": "execute_result"
    }
   ],
   "source": [
    "new_tracks_df"
   ]
  },
  {
   "cell_type": "code",
   "execution_count": 19,
   "metadata": {},
   "outputs": [],
   "source": [
    "new_tracks_df.to_pickle('data/new_tracks_df.pickle')"
   ]
  },
  {
   "cell_type": "markdown",
   "metadata": {},
   "source": [
    "### 4. Merge new sessions and tracks dataframes"
   ]
  },
  {
   "cell_type": "code",
   "execution_count": 20,
   "metadata": {},
   "outputs": [],
   "source": [
    "new_sessions_df = pd.read_pickle('data/new_sessions_df.pickle')\n",
    "new_tracks_df = pd.read_pickle('data/new_tracks_df.pickle')"
   ]
  },
  {
   "cell_type": "code",
   "execution_count": 21,
   "metadata": {},
   "outputs": [
    {
     "data": {
      "text/plain": [
       "(31351945, 4)"
      ]
     },
     "execution_count": 21,
     "metadata": {},
     "output_type": "execute_result"
    }
   ],
   "source": [
    "new_sessions_df.shape"
   ]
  },
  {
   "cell_type": "code",
   "execution_count": 22,
   "metadata": {},
   "outputs": [
    {
     "data": {
      "text/plain": [
       "(4519319, 2)"
      ]
     },
     "execution_count": 22,
     "metadata": {},
     "output_type": "execute_result"
    }
   ],
   "source": [
    "new_tracks_df.shape"
   ]
  },
  {
   "cell_type": "code",
   "execution_count": 23,
   "metadata": {},
   "outputs": [
    {
     "data": {
      "text/plain": [
       "1744350    2\n",
       "976246     2\n",
       "94083      2\n",
       "151793     2\n",
       "915661     2\n",
       "          ..\n",
       "3325182    1\n",
       "3321084    1\n",
       "3316986    1\n",
       "3312888    1\n",
       "0          1\n",
       "Name: track_id, Length: 4519105, dtype: int64"
      ]
     },
     "execution_count": 23,
     "metadata": {},
     "output_type": "execute_result"
    }
   ],
   "source": [
    "new_tracks_df['track_id'].value_counts()"
   ]
  },
  {
   "cell_type": "code",
   "execution_count": 24,
   "metadata": {},
   "outputs": [
    {
     "name": "stdout",
     "output_type": "stream",
     "text": [
      "CPU times: user 8.02 s, sys: 641 ms, total: 8.66 s\n",
      "Wall time: 8.02 s\n"
     ]
    }
   ],
   "source": [
    "%%time\n",
    "merged_df = new_sessions_df.merge(new_tracks_df, on=['track_id'], how='inner', copy = False)"
   ]
  },
  {
   "cell_type": "code",
   "execution_count": 25,
   "metadata": {},
   "outputs": [
    {
     "data": {
      "text/html": [
       "<div>\n",
       "<style scoped>\n",
       "    .dataframe tbody tr th:only-of-type {\n",
       "        vertical-align: middle;\n",
       "    }\n",
       "\n",
       "    .dataframe tbody tr th {\n",
       "        vertical-align: top;\n",
       "    }\n",
       "\n",
       "    .dataframe thead th {\n",
       "        text-align: right;\n",
       "    }\n",
       "</style>\n",
       "<table border=\"1\" class=\"dataframe\">\n",
       "  <thead>\n",
       "    <tr style=\"text-align: right;\">\n",
       "      <th></th>\n",
       "      <th>session_id</th>\n",
       "      <th>ts</th>\n",
       "      <th>user_id</th>\n",
       "      <th>track_id</th>\n",
       "      <th>person_id</th>\n",
       "    </tr>\n",
       "  </thead>\n",
       "  <tbody>\n",
       "    <tr>\n",
       "      <th>0</th>\n",
       "      <td>287144</td>\n",
       "      <td>1390231051</td>\n",
       "      <td>44361</td>\n",
       "      <td>4698874</td>\n",
       "      <td>142266</td>\n",
       "    </tr>\n",
       "    <tr>\n",
       "      <th>1</th>\n",
       "      <td>287144</td>\n",
       "      <td>1390231051</td>\n",
       "      <td>44361</td>\n",
       "      <td>838286</td>\n",
       "      <td>107103</td>\n",
       "    </tr>\n",
       "    <tr>\n",
       "      <th>2</th>\n",
       "      <td>982046</td>\n",
       "      <td>1405452797</td>\n",
       "      <td>32894</td>\n",
       "      <td>838286</td>\n",
       "      <td>107103</td>\n",
       "    </tr>\n",
       "    <tr>\n",
       "      <th>3</th>\n",
       "      <td>982049</td>\n",
       "      <td>1405702985</td>\n",
       "      <td>32894</td>\n",
       "      <td>838286</td>\n",
       "      <td>107103</td>\n",
       "    </tr>\n",
       "    <tr>\n",
       "      <th>4</th>\n",
       "      <td>1873088</td>\n",
       "      <td>1406217037</td>\n",
       "      <td>23183</td>\n",
       "      <td>838286</td>\n",
       "      <td>107103</td>\n",
       "    </tr>\n",
       "  </tbody>\n",
       "</table>\n",
       "</div>"
      ],
      "text/plain": [
       "   session_id          ts  user_id  track_id  person_id\n",
       "0      287144  1390231051    44361   4698874     142266\n",
       "1      287144  1390231051    44361    838286     107103\n",
       "2      982046  1405452797    32894    838286     107103\n",
       "3      982049  1405702985    32894    838286     107103\n",
       "4     1873088  1406217037    23183    838286     107103"
      ]
     },
     "execution_count": 25,
     "metadata": {},
     "output_type": "execute_result"
    }
   ],
   "source": [
    "merged_df.head()"
   ]
  },
  {
   "cell_type": "code",
   "execution_count": 26,
   "metadata": {},
   "outputs": [
    {
     "data": {
      "text/plain": [
       "(31376602, 5)"
      ]
     },
     "execution_count": 26,
     "metadata": {},
     "output_type": "execute_result"
    }
   ],
   "source": [
    "merged_df.shape"
   ]
  },
  {
   "cell_type": "code",
   "execution_count": 27,
   "metadata": {},
   "outputs": [],
   "source": [
    "merged_df.to_pickle('data/merged_df.pickle')"
   ]
  },
  {
   "cell_type": "markdown",
   "metadata": {},
   "source": [
    "### 5. Timestamp to date and time"
   ]
  },
  {
   "cell_type": "code",
   "execution_count": 4,
   "metadata": {},
   "outputs": [],
   "source": [
    "merged_df = pd.read_pickle('data/merged_df.pickle')"
   ]
  },
  {
   "cell_type": "code",
   "execution_count": 5,
   "metadata": {},
   "outputs": [],
   "source": [
    "date_time = pd.to_datetime(merged_df['ts'], unit = 's').astype(str).str.split(\" \", n = 1, expand = True)"
   ]
  },
  {
   "cell_type": "code",
   "execution_count": 6,
   "metadata": {},
   "outputs": [],
   "source": [
    "merged_df['date'] = date_time[0]\n",
    "merged_df['time'] = date_time[1]"
   ]
  },
  {
   "cell_type": "code",
   "execution_count": 7,
   "metadata": {},
   "outputs": [
    {
     "data": {
      "text/html": [
       "<div>\n",
       "<style scoped>\n",
       "    .dataframe tbody tr th:only-of-type {\n",
       "        vertical-align: middle;\n",
       "    }\n",
       "\n",
       "    .dataframe tbody tr th {\n",
       "        vertical-align: top;\n",
       "    }\n",
       "\n",
       "    .dataframe thead th {\n",
       "        text-align: right;\n",
       "    }\n",
       "</style>\n",
       "<table border=\"1\" class=\"dataframe\">\n",
       "  <thead>\n",
       "    <tr style=\"text-align: right;\">\n",
       "      <th></th>\n",
       "      <th>session_id</th>\n",
       "      <th>ts</th>\n",
       "      <th>user_id</th>\n",
       "      <th>track_id</th>\n",
       "      <th>person_id</th>\n",
       "      <th>date</th>\n",
       "      <th>time</th>\n",
       "    </tr>\n",
       "  </thead>\n",
       "  <tbody>\n",
       "    <tr>\n",
       "      <th>0</th>\n",
       "      <td>287144</td>\n",
       "      <td>1390231051</td>\n",
       "      <td>44361</td>\n",
       "      <td>4698874</td>\n",
       "      <td>142266</td>\n",
       "      <td>2014-01-20</td>\n",
       "      <td>15:17:31</td>\n",
       "    </tr>\n",
       "    <tr>\n",
       "      <th>1</th>\n",
       "      <td>287144</td>\n",
       "      <td>1390231051</td>\n",
       "      <td>44361</td>\n",
       "      <td>838286</td>\n",
       "      <td>107103</td>\n",
       "      <td>2014-01-20</td>\n",
       "      <td>15:17:31</td>\n",
       "    </tr>\n",
       "    <tr>\n",
       "      <th>2</th>\n",
       "      <td>982046</td>\n",
       "      <td>1405452797</td>\n",
       "      <td>32894</td>\n",
       "      <td>838286</td>\n",
       "      <td>107103</td>\n",
       "      <td>2014-07-15</td>\n",
       "      <td>19:33:17</td>\n",
       "    </tr>\n",
       "    <tr>\n",
       "      <th>3</th>\n",
       "      <td>982049</td>\n",
       "      <td>1405702985</td>\n",
       "      <td>32894</td>\n",
       "      <td>838286</td>\n",
       "      <td>107103</td>\n",
       "      <td>2014-07-18</td>\n",
       "      <td>17:03:05</td>\n",
       "    </tr>\n",
       "    <tr>\n",
       "      <th>4</th>\n",
       "      <td>1873088</td>\n",
       "      <td>1406217037</td>\n",
       "      <td>23183</td>\n",
       "      <td>838286</td>\n",
       "      <td>107103</td>\n",
       "      <td>2014-07-24</td>\n",
       "      <td>15:50:37</td>\n",
       "    </tr>\n",
       "    <tr>\n",
       "      <th>...</th>\n",
       "      <td>...</td>\n",
       "      <td>...</td>\n",
       "      <td>...</td>\n",
       "      <td>...</td>\n",
       "      <td>...</td>\n",
       "      <td>...</td>\n",
       "      <td>...</td>\n",
       "    </tr>\n",
       "    <tr>\n",
       "      <th>31376597</th>\n",
       "      <td>540638</td>\n",
       "      <td>1415960966</td>\n",
       "      <td>24700</td>\n",
       "      <td>2564433</td>\n",
       "      <td>321698</td>\n",
       "      <td>2014-11-14</td>\n",
       "      <td>10:29:26</td>\n",
       "    </tr>\n",
       "    <tr>\n",
       "      <th>31376598</th>\n",
       "      <td>540638</td>\n",
       "      <td>1415960966</td>\n",
       "      <td>24700</td>\n",
       "      <td>2602587</td>\n",
       "      <td>325968</td>\n",
       "      <td>2014-11-14</td>\n",
       "      <td>10:29:26</td>\n",
       "    </tr>\n",
       "    <tr>\n",
       "      <th>31376599</th>\n",
       "      <td>540638</td>\n",
       "      <td>1415960966</td>\n",
       "      <td>24700</td>\n",
       "      <td>720394</td>\n",
       "      <td>87396</td>\n",
       "      <td>2014-11-14</td>\n",
       "      <td>10:29:26</td>\n",
       "    </tr>\n",
       "    <tr>\n",
       "      <th>31376600</th>\n",
       "      <td>540638</td>\n",
       "      <td>1415960966</td>\n",
       "      <td>24700</td>\n",
       "      <td>720401</td>\n",
       "      <td>87396</td>\n",
       "      <td>2014-11-14</td>\n",
       "      <td>10:29:26</td>\n",
       "    </tr>\n",
       "    <tr>\n",
       "      <th>31376601</th>\n",
       "      <td>540638</td>\n",
       "      <td>1415960966</td>\n",
       "      <td>24700</td>\n",
       "      <td>171242</td>\n",
       "      <td>22273</td>\n",
       "      <td>2014-11-14</td>\n",
       "      <td>10:29:26</td>\n",
       "    </tr>\n",
       "  </tbody>\n",
       "</table>\n",
       "<p>31376602 rows × 7 columns</p>\n",
       "</div>"
      ],
      "text/plain": [
       "          session_id          ts  user_id  track_id  person_id        date  \\\n",
       "0             287144  1390231051    44361   4698874     142266  2014-01-20   \n",
       "1             287144  1390231051    44361    838286     107103  2014-01-20   \n",
       "2             982046  1405452797    32894    838286     107103  2014-07-15   \n",
       "3             982049  1405702985    32894    838286     107103  2014-07-18   \n",
       "4            1873088  1406217037    23183    838286     107103  2014-07-24   \n",
       "...              ...         ...      ...       ...        ...         ...   \n",
       "31376597      540638  1415960966    24700   2564433     321698  2014-11-14   \n",
       "31376598      540638  1415960966    24700   2602587     325968  2014-11-14   \n",
       "31376599      540638  1415960966    24700    720394      87396  2014-11-14   \n",
       "31376600      540638  1415960966    24700    720401      87396  2014-11-14   \n",
       "31376601      540638  1415960966    24700    171242      22273  2014-11-14   \n",
       "\n",
       "              time  \n",
       "0         15:17:31  \n",
       "1         15:17:31  \n",
       "2         19:33:17  \n",
       "3         17:03:05  \n",
       "4         15:50:37  \n",
       "...            ...  \n",
       "31376597  10:29:26  \n",
       "31376598  10:29:26  \n",
       "31376599  10:29:26  \n",
       "31376600  10:29:26  \n",
       "31376601  10:29:26  \n",
       "\n",
       "[31376602 rows x 7 columns]"
      ]
     },
     "execution_count": 7,
     "metadata": {},
     "output_type": "execute_result"
    }
   ],
   "source": [
    "merged_df"
   ]
  },
  {
   "cell_type": "code",
   "execution_count": 8,
   "metadata": {},
   "outputs": [],
   "source": [
    "merged_df.to_pickle('data/merged_df_datetime.pickle')"
   ]
  },
  {
   "cell_type": "markdown",
   "metadata": {},
   "source": [
    "### 6. Get artists dictionary (person_id: name)"
   ]
  },
  {
   "cell_type": "code",
   "execution_count": 10,
   "metadata": {},
   "outputs": [
    {
     "data": {
      "text/html": [
       "<div>\n",
       "<style scoped>\n",
       "    .dataframe tbody tr th:only-of-type {\n",
       "        vertical-align: middle;\n",
       "    }\n",
       "\n",
       "    .dataframe tbody tr th {\n",
       "        vertical-align: top;\n",
       "    }\n",
       "\n",
       "    .dataframe thead th {\n",
       "        text-align: right;\n",
       "    }\n",
       "</style>\n",
       "<table border=\"1\" class=\"dataframe\">\n",
       "  <thead>\n",
       "    <tr style=\"text-align: right;\">\n",
       "      <th></th>\n",
       "      <th>object</th>\n",
       "      <th>id</th>\n",
       "      <th>ts</th>\n",
       "      <th>properties</th>\n",
       "      <th>linked_entities</th>\n",
       "    </tr>\n",
       "  </thead>\n",
       "  <tbody>\n",
       "    <tr>\n",
       "      <th>0</th>\n",
       "      <td>person</td>\n",
       "      <td>145148</td>\n",
       "      <td>-1</td>\n",
       "      <td>{\"MBID\":null, \"name\":\"Everything+Is+Illuminated\"}</td>\n",
       "      <td>{}</td>\n",
       "    </tr>\n",
       "    <tr>\n",
       "      <th>1</th>\n",
       "      <td>person</td>\n",
       "      <td>297899</td>\n",
       "      <td>-1</td>\n",
       "      <td>{\"MBID\":null, \"name\":\"Robin+O%27Brien\"}</td>\n",
       "      <td>{}</td>\n",
       "    </tr>\n",
       "    <tr>\n",
       "      <th>2</th>\n",
       "      <td>person</td>\n",
       "      <td>250429</td>\n",
       "      <td>-1</td>\n",
       "      <td>{\"MBID\":null, \"name\":\"Nicholas+Gunn++(2012)\"}</td>\n",
       "      <td>{}</td>\n",
       "    </tr>\n",
       "    <tr>\n",
       "      <th>3</th>\n",
       "      <td>person</td>\n",
       "      <td>32765</td>\n",
       "      <td>-1</td>\n",
       "      <td>{\"MBID\":null, \"name\":\"Aspasia+Stratigou\"}</td>\n",
       "      <td>{}</td>\n",
       "    </tr>\n",
       "    <tr>\n",
       "      <th>4</th>\n",
       "      <td>person</td>\n",
       "      <td>18689</td>\n",
       "      <td>-1</td>\n",
       "      <td>{\"MBID\":null, \"name\":\"Allison+Veltz\"}</td>\n",
       "      <td>{}</td>\n",
       "    </tr>\n",
       "  </tbody>\n",
       "</table>\n",
       "</div>"
      ],
      "text/plain": [
       "   object      id  ts                                         properties  \\\n",
       "0  person  145148  -1  {\"MBID\":null, \"name\":\"Everything+Is+Illuminated\"}   \n",
       "1  person  297899  -1            {\"MBID\":null, \"name\":\"Robin+O%27Brien\"}   \n",
       "2  person  250429  -1      {\"MBID\":null, \"name\":\"Nicholas+Gunn++(2012)\"}   \n",
       "3  person   32765  -1          {\"MBID\":null, \"name\":\"Aspasia+Stratigou\"}   \n",
       "4  person   18689  -1              {\"MBID\":null, \"name\":\"Allison+Veltz\"}   \n",
       "\n",
       "  linked_entities  \n",
       "0              {}  \n",
       "1              {}  \n",
       "2              {}  \n",
       "3              {}  \n",
       "4              {}  "
      ]
     },
     "execution_count": 10,
     "metadata": {},
     "output_type": "execute_result"
    }
   ],
   "source": [
    "people_df = pd.read_csv(\"ThirtyMusic/entities/persons.idomaar\",sep='\\t', \n",
    "                        names = ['object', 'id', 'ts', 'properties', 'linked_entities'])\n",
    "people_df.head()"
   ]
  },
  {
   "cell_type": "code",
   "execution_count": 11,
   "metadata": {},
   "outputs": [
    {
     "data": {
      "text/plain": [
       "(595049, 5)"
      ]
     },
     "execution_count": 11,
     "metadata": {},
     "output_type": "execute_result"
    }
   ],
   "source": [
    "people_df.shape"
   ]
  },
  {
   "cell_type": "code",
   "execution_count": 12,
   "metadata": {},
   "outputs": [],
   "source": [
    "people_df = people_df.drop_duplicates(subset=['id'], keep = 'first')"
   ]
  },
  {
   "cell_type": "code",
   "execution_count": 13,
   "metadata": {},
   "outputs": [
    {
     "data": {
      "text/html": [
       "<div>\n",
       "<style scoped>\n",
       "    .dataframe tbody tr th:only-of-type {\n",
       "        vertical-align: middle;\n",
       "    }\n",
       "\n",
       "    .dataframe tbody tr th {\n",
       "        vertical-align: top;\n",
       "    }\n",
       "\n",
       "    .dataframe thead th {\n",
       "        text-align: right;\n",
       "    }\n",
       "</style>\n",
       "<table border=\"1\" class=\"dataframe\">\n",
       "  <thead>\n",
       "    <tr style=\"text-align: right;\">\n",
       "      <th></th>\n",
       "      <th>object</th>\n",
       "      <th>id</th>\n",
       "      <th>ts</th>\n",
       "      <th>properties</th>\n",
       "      <th>linked_entities</th>\n",
       "    </tr>\n",
       "  </thead>\n",
       "  <tbody>\n",
       "    <tr>\n",
       "      <th>0</th>\n",
       "      <td>person</td>\n",
       "      <td>145148</td>\n",
       "      <td>-1</td>\n",
       "      <td>{\"MBID\":null, \"name\":\"Everything+Is+Illuminated\"}</td>\n",
       "      <td>{}</td>\n",
       "    </tr>\n",
       "    <tr>\n",
       "      <th>1</th>\n",
       "      <td>person</td>\n",
       "      <td>297899</td>\n",
       "      <td>-1</td>\n",
       "      <td>{\"MBID\":null, \"name\":\"Robin+O%27Brien\"}</td>\n",
       "      <td>{}</td>\n",
       "    </tr>\n",
       "    <tr>\n",
       "      <th>2</th>\n",
       "      <td>person</td>\n",
       "      <td>250429</td>\n",
       "      <td>-1</td>\n",
       "      <td>{\"MBID\":null, \"name\":\"Nicholas+Gunn++(2012)\"}</td>\n",
       "      <td>{}</td>\n",
       "    </tr>\n",
       "    <tr>\n",
       "      <th>3</th>\n",
       "      <td>person</td>\n",
       "      <td>32765</td>\n",
       "      <td>-1</td>\n",
       "      <td>{\"MBID\":null, \"name\":\"Aspasia+Stratigou\"}</td>\n",
       "      <td>{}</td>\n",
       "    </tr>\n",
       "    <tr>\n",
       "      <th>4</th>\n",
       "      <td>person</td>\n",
       "      <td>18689</td>\n",
       "      <td>-1</td>\n",
       "      <td>{\"MBID\":null, \"name\":\"Allison+Veltz\"}</td>\n",
       "      <td>{}</td>\n",
       "    </tr>\n",
       "    <tr>\n",
       "      <th>...</th>\n",
       "      <td>...</td>\n",
       "      <td>...</td>\n",
       "      <td>...</td>\n",
       "      <td>...</td>\n",
       "      <td>...</td>\n",
       "    </tr>\n",
       "    <tr>\n",
       "      <th>595044</th>\n",
       "      <td>person</td>\n",
       "      <td>544215</td>\n",
       "      <td>-1</td>\n",
       "      <td>{\"MBID\":null, \"name\":\"Sanaa+Kariakoo\"}</td>\n",
       "      <td>{}</td>\n",
       "    </tr>\n",
       "    <tr>\n",
       "      <th>595045</th>\n",
       "      <td>person</td>\n",
       "      <td>298403</td>\n",
       "      <td>-1</td>\n",
       "      <td>{\"MBID\":null, \"name\":\"Rock-a-teens\"}</td>\n",
       "      <td>{}</td>\n",
       "    </tr>\n",
       "    <tr>\n",
       "      <th>595046</th>\n",
       "      <td>person</td>\n",
       "      <td>450896</td>\n",
       "      <td>-1</td>\n",
       "      <td>{\"MBID\":null, \"name\":\"Jennifer+Lopez+Ft.+DJ+Mu...</td>\n",
       "      <td>{}</td>\n",
       "    </tr>\n",
       "    <tr>\n",
       "      <th>595047</th>\n",
       "      <td>person</td>\n",
       "      <td>53831</td>\n",
       "      <td>-1</td>\n",
       "      <td>{\"MBID\":null, \"name\":\"Bobby+Sanabria+Conductin...</td>\n",
       "      <td>{}</td>\n",
       "    </tr>\n",
       "    <tr>\n",
       "      <th>595048</th>\n",
       "      <td>person</td>\n",
       "      <td>526710</td>\n",
       "      <td>-1</td>\n",
       "      <td>{\"MBID\":null, \"name\":\"Montserrat+Figueras,+Jor...</td>\n",
       "      <td>{}</td>\n",
       "    </tr>\n",
       "  </tbody>\n",
       "</table>\n",
       "<p>560927 rows × 5 columns</p>\n",
       "</div>"
      ],
      "text/plain": [
       "        object      id  ts                                         properties  \\\n",
       "0       person  145148  -1  {\"MBID\":null, \"name\":\"Everything+Is+Illuminated\"}   \n",
       "1       person  297899  -1            {\"MBID\":null, \"name\":\"Robin+O%27Brien\"}   \n",
       "2       person  250429  -1      {\"MBID\":null, \"name\":\"Nicholas+Gunn++(2012)\"}   \n",
       "3       person   32765  -1          {\"MBID\":null, \"name\":\"Aspasia+Stratigou\"}   \n",
       "4       person   18689  -1              {\"MBID\":null, \"name\":\"Allison+Veltz\"}   \n",
       "...        ...     ...  ..                                                ...   \n",
       "595044  person  544215  -1             {\"MBID\":null, \"name\":\"Sanaa+Kariakoo\"}   \n",
       "595045  person  298403  -1               {\"MBID\":null, \"name\":\"Rock-a-teens\"}   \n",
       "595046  person  450896  -1  {\"MBID\":null, \"name\":\"Jennifer+Lopez+Ft.+DJ+Mu...   \n",
       "595047  person   53831  -1  {\"MBID\":null, \"name\":\"Bobby+Sanabria+Conductin...   \n",
       "595048  person  526710  -1  {\"MBID\":null, \"name\":\"Montserrat+Figueras,+Jor...   \n",
       "\n",
       "       linked_entities  \n",
       "0                   {}  \n",
       "1                   {}  \n",
       "2                   {}  \n",
       "3                   {}  \n",
       "4                   {}  \n",
       "...                ...  \n",
       "595044              {}  \n",
       "595045              {}  \n",
       "595046              {}  \n",
       "595047              {}  \n",
       "595048              {}  \n",
       "\n",
       "[560927 rows x 5 columns]"
      ]
     },
     "execution_count": 13,
     "metadata": {},
     "output_type": "execute_result"
    }
   ],
   "source": [
    "people_df"
   ]
  },
  {
   "cell_type": "code",
   "execution_count": 14,
   "metadata": {},
   "outputs": [],
   "source": [
    "def extract_person_name(row):\n",
    "    json_lst = json.loads(row['properties'])\n",
    "    person_id = row['id']\n",
    "\n",
    "    new_rows_dict = {\n",
    "                    'person_id' : person_id,\n",
    "                    'person_name' : json_lst['name']\n",
    "                   } \n",
    "    return new_rows_dict"
   ]
  },
  {
   "cell_type": "code",
   "execution_count": 15,
   "metadata": {},
   "outputs": [
    {
     "name": "stdout",
     "output_type": "stream",
     "text": [
      "CPU times: user 15.1 s, sys: 31 ms, total: 15.1 s\n",
      "Wall time: 14.7 s\n"
     ]
    }
   ],
   "source": [
    "%%time\n",
    "new_persons_df = pd.DataFrame(list(people_df.apply(lambda row: extract_person_name(row), axis=1)))"
   ]
  },
  {
   "cell_type": "code",
   "execution_count": 16,
   "metadata": {},
   "outputs": [
    {
     "data": {
      "text/html": [
       "<div>\n",
       "<style scoped>\n",
       "    .dataframe tbody tr th:only-of-type {\n",
       "        vertical-align: middle;\n",
       "    }\n",
       "\n",
       "    .dataframe tbody tr th {\n",
       "        vertical-align: top;\n",
       "    }\n",
       "\n",
       "    .dataframe thead th {\n",
       "        text-align: right;\n",
       "    }\n",
       "</style>\n",
       "<table border=\"1\" class=\"dataframe\">\n",
       "  <thead>\n",
       "    <tr style=\"text-align: right;\">\n",
       "      <th></th>\n",
       "      <th>person_id</th>\n",
       "      <th>person_name</th>\n",
       "    </tr>\n",
       "  </thead>\n",
       "  <tbody>\n",
       "    <tr>\n",
       "      <th>0</th>\n",
       "      <td>145148</td>\n",
       "      <td>Everything+Is+Illuminated</td>\n",
       "    </tr>\n",
       "    <tr>\n",
       "      <th>1</th>\n",
       "      <td>297899</td>\n",
       "      <td>Robin+O%27Brien</td>\n",
       "    </tr>\n",
       "    <tr>\n",
       "      <th>2</th>\n",
       "      <td>250429</td>\n",
       "      <td>Nicholas+Gunn++(2012)</td>\n",
       "    </tr>\n",
       "    <tr>\n",
       "      <th>3</th>\n",
       "      <td>32765</td>\n",
       "      <td>Aspasia+Stratigou</td>\n",
       "    </tr>\n",
       "    <tr>\n",
       "      <th>4</th>\n",
       "      <td>18689</td>\n",
       "      <td>Allison+Veltz</td>\n",
       "    </tr>\n",
       "    <tr>\n",
       "      <th>...</th>\n",
       "      <td>...</td>\n",
       "      <td>...</td>\n",
       "    </tr>\n",
       "    <tr>\n",
       "      <th>560922</th>\n",
       "      <td>544215</td>\n",
       "      <td>Sanaa+Kariakoo</td>\n",
       "    </tr>\n",
       "    <tr>\n",
       "      <th>560923</th>\n",
       "      <td>298403</td>\n",
       "      <td>Rock-a-teens</td>\n",
       "    </tr>\n",
       "    <tr>\n",
       "      <th>560924</th>\n",
       "      <td>450896</td>\n",
       "      <td>Jennifer+Lopez+Ft.+DJ+Mustard</td>\n",
       "    </tr>\n",
       "    <tr>\n",
       "      <th>560925</th>\n",
       "      <td>53831</td>\n",
       "      <td>Bobby+Sanabria+Conducting+The+Manhattan+School...</td>\n",
       "    </tr>\n",
       "    <tr>\n",
       "      <th>560926</th>\n",
       "      <td>526710</td>\n",
       "      <td>Montserrat+Figueras,+Jordi+Savall,+Arianna+Sav...</td>\n",
       "    </tr>\n",
       "  </tbody>\n",
       "</table>\n",
       "<p>560927 rows × 2 columns</p>\n",
       "</div>"
      ],
      "text/plain": [
       "        person_id                                        person_name\n",
       "0          145148                          Everything+Is+Illuminated\n",
       "1          297899                                    Robin+O%27Brien\n",
       "2          250429                              Nicholas+Gunn++(2012)\n",
       "3           32765                                  Aspasia+Stratigou\n",
       "4           18689                                      Allison+Veltz\n",
       "...           ...                                                ...\n",
       "560922     544215                                     Sanaa+Kariakoo\n",
       "560923     298403                                       Rock-a-teens\n",
       "560924     450896                      Jennifer+Lopez+Ft.+DJ+Mustard\n",
       "560925      53831  Bobby+Sanabria+Conducting+The+Manhattan+School...\n",
       "560926     526710  Montserrat+Figueras,+Jordi+Savall,+Arianna+Sav...\n",
       "\n",
       "[560927 rows x 2 columns]"
      ]
     },
     "execution_count": 16,
     "metadata": {},
     "output_type": "execute_result"
    }
   ],
   "source": [
    "new_persons_df"
   ]
  },
  {
   "cell_type": "code",
   "execution_count": 17,
   "metadata": {},
   "outputs": [],
   "source": [
    "new_persons_df.to_pickle('data/new_persons_df.pickle')"
   ]
  },
  {
   "cell_type": "markdown",
   "metadata": {},
   "source": [
    "### 7. Prepare train, validation and test datasets"
   ]
  },
  {
   "cell_type": "code",
   "execution_count": 5,
   "metadata": {},
   "outputs": [],
   "source": [
    "df = pd.read_pickle('data/merged_df_datetime.pickle')"
   ]
  },
  {
   "cell_type": "code",
   "execution_count": 6,
   "metadata": {},
   "outputs": [
    {
     "data": {
      "text/html": [
       "<div>\n",
       "<style scoped>\n",
       "    .dataframe tbody tr th:only-of-type {\n",
       "        vertical-align: middle;\n",
       "    }\n",
       "\n",
       "    .dataframe tbody tr th {\n",
       "        vertical-align: top;\n",
       "    }\n",
       "\n",
       "    .dataframe thead th {\n",
       "        text-align: right;\n",
       "    }\n",
       "</style>\n",
       "<table border=\"1\" class=\"dataframe\">\n",
       "  <thead>\n",
       "    <tr style=\"text-align: right;\">\n",
       "      <th></th>\n",
       "      <th>session_id</th>\n",
       "      <th>ts</th>\n",
       "      <th>user_id</th>\n",
       "      <th>track_id</th>\n",
       "      <th>person_id</th>\n",
       "      <th>date</th>\n",
       "      <th>time</th>\n",
       "    </tr>\n",
       "  </thead>\n",
       "  <tbody>\n",
       "    <tr>\n",
       "      <th>0</th>\n",
       "      <td>287144</td>\n",
       "      <td>1390231051</td>\n",
       "      <td>44361</td>\n",
       "      <td>4698874</td>\n",
       "      <td>142266</td>\n",
       "      <td>2014-01-20</td>\n",
       "      <td>15:17:31</td>\n",
       "    </tr>\n",
       "    <tr>\n",
       "      <th>1</th>\n",
       "      <td>287144</td>\n",
       "      <td>1390231051</td>\n",
       "      <td>44361</td>\n",
       "      <td>838286</td>\n",
       "      <td>107103</td>\n",
       "      <td>2014-01-20</td>\n",
       "      <td>15:17:31</td>\n",
       "    </tr>\n",
       "    <tr>\n",
       "      <th>2</th>\n",
       "      <td>982046</td>\n",
       "      <td>1405452797</td>\n",
       "      <td>32894</td>\n",
       "      <td>838286</td>\n",
       "      <td>107103</td>\n",
       "      <td>2014-07-15</td>\n",
       "      <td>19:33:17</td>\n",
       "    </tr>\n",
       "    <tr>\n",
       "      <th>3</th>\n",
       "      <td>982049</td>\n",
       "      <td>1405702985</td>\n",
       "      <td>32894</td>\n",
       "      <td>838286</td>\n",
       "      <td>107103</td>\n",
       "      <td>2014-07-18</td>\n",
       "      <td>17:03:05</td>\n",
       "    </tr>\n",
       "    <tr>\n",
       "      <th>4</th>\n",
       "      <td>1873088</td>\n",
       "      <td>1406217037</td>\n",
       "      <td>23183</td>\n",
       "      <td>838286</td>\n",
       "      <td>107103</td>\n",
       "      <td>2014-07-24</td>\n",
       "      <td>15:50:37</td>\n",
       "    </tr>\n",
       "  </tbody>\n",
       "</table>\n",
       "</div>"
      ],
      "text/plain": [
       "   session_id          ts  user_id  track_id  person_id        date      time\n",
       "0      287144  1390231051    44361   4698874     142266  2014-01-20  15:17:31\n",
       "1      287144  1390231051    44361    838286     107103  2014-01-20  15:17:31\n",
       "2      982046  1405452797    32894    838286     107103  2014-07-15  19:33:17\n",
       "3      982049  1405702985    32894    838286     107103  2014-07-18  17:03:05\n",
       "4     1873088  1406217037    23183    838286     107103  2014-07-24  15:50:37"
      ]
     },
     "execution_count": 6,
     "metadata": {},
     "output_type": "execute_result"
    }
   ],
   "source": [
    "df.head()"
   ]
  },
  {
   "cell_type": "code",
   "execution_count": 7,
   "metadata": {},
   "outputs": [
    {
     "data": {
      "text/plain": [
       "(31376602, 7)"
      ]
     },
     "execution_count": 7,
     "metadata": {},
     "output_type": "execute_result"
    }
   ],
   "source": [
    "df.shape"
   ]
  },
  {
   "cell_type": "code",
   "execution_count": 8,
   "metadata": {},
   "outputs": [
    {
     "data": {
      "text/plain": [
       "{'2014-01-20',\n",
       " '2014-01-21',\n",
       " '2014-01-22',\n",
       " '2014-01-23',\n",
       " '2014-01-24',\n",
       " '2014-01-25',\n",
       " '2014-01-26',\n",
       " '2014-01-27',\n",
       " '2014-01-28',\n",
       " '2014-01-29',\n",
       " '2014-01-30',\n",
       " '2014-01-31',\n",
       " '2014-02-01',\n",
       " '2014-02-02',\n",
       " '2014-02-03',\n",
       " '2014-02-04',\n",
       " '2014-02-05',\n",
       " '2014-02-06',\n",
       " '2014-02-07',\n",
       " '2014-02-08',\n",
       " '2014-02-09',\n",
       " '2014-02-10',\n",
       " '2014-02-11',\n",
       " '2014-02-12',\n",
       " '2014-02-13',\n",
       " '2014-02-14',\n",
       " '2014-02-15',\n",
       " '2014-02-16',\n",
       " '2014-02-17',\n",
       " '2014-02-18',\n",
       " '2014-02-19',\n",
       " '2014-02-20',\n",
       " '2014-02-21',\n",
       " '2014-02-22',\n",
       " '2014-02-23',\n",
       " '2014-02-24',\n",
       " '2014-02-25',\n",
       " '2014-02-26',\n",
       " '2014-02-27',\n",
       " '2014-02-28',\n",
       " '2014-03-01',\n",
       " '2014-03-02',\n",
       " '2014-03-03',\n",
       " '2014-03-04',\n",
       " '2014-03-05',\n",
       " '2014-03-06',\n",
       " '2014-03-07',\n",
       " '2014-03-08',\n",
       " '2014-03-09',\n",
       " '2014-03-10',\n",
       " '2014-03-11',\n",
       " '2014-03-12',\n",
       " '2014-03-13',\n",
       " '2014-03-14',\n",
       " '2014-03-15',\n",
       " '2014-03-16',\n",
       " '2014-03-17',\n",
       " '2014-03-18',\n",
       " '2014-03-19',\n",
       " '2014-03-20',\n",
       " '2014-03-21',\n",
       " '2014-03-22',\n",
       " '2014-03-23',\n",
       " '2014-03-24',\n",
       " '2014-03-25',\n",
       " '2014-03-26',\n",
       " '2014-03-27',\n",
       " '2014-03-28',\n",
       " '2014-03-29',\n",
       " '2014-03-30',\n",
       " '2014-03-31',\n",
       " '2014-04-01',\n",
       " '2014-04-02',\n",
       " '2014-04-03',\n",
       " '2014-04-04',\n",
       " '2014-04-05',\n",
       " '2014-04-06',\n",
       " '2014-04-07',\n",
       " '2014-04-08',\n",
       " '2014-04-09',\n",
       " '2014-04-10',\n",
       " '2014-04-11',\n",
       " '2014-04-12',\n",
       " '2014-04-13',\n",
       " '2014-04-14',\n",
       " '2014-04-15',\n",
       " '2014-04-16',\n",
       " '2014-04-17',\n",
       " '2014-04-18',\n",
       " '2014-04-19',\n",
       " '2014-04-20',\n",
       " '2014-04-21',\n",
       " '2014-04-22',\n",
       " '2014-04-23',\n",
       " '2014-04-24',\n",
       " '2014-04-25',\n",
       " '2014-04-26',\n",
       " '2014-04-27',\n",
       " '2014-04-28',\n",
       " '2014-04-29',\n",
       " '2014-04-30',\n",
       " '2014-05-01',\n",
       " '2014-05-02',\n",
       " '2014-05-03',\n",
       " '2014-05-04',\n",
       " '2014-05-05',\n",
       " '2014-05-06',\n",
       " '2014-05-07',\n",
       " '2014-05-08',\n",
       " '2014-05-09',\n",
       " '2014-05-10',\n",
       " '2014-05-11',\n",
       " '2014-05-12',\n",
       " '2014-05-13',\n",
       " '2014-05-14',\n",
       " '2014-05-15',\n",
       " '2014-05-16',\n",
       " '2014-05-17',\n",
       " '2014-05-18',\n",
       " '2014-05-19',\n",
       " '2014-05-20',\n",
       " '2014-05-21',\n",
       " '2014-05-22',\n",
       " '2014-05-23',\n",
       " '2014-05-24',\n",
       " '2014-05-25',\n",
       " '2014-05-26',\n",
       " '2014-05-27',\n",
       " '2014-05-28',\n",
       " '2014-05-29',\n",
       " '2014-05-30',\n",
       " '2014-05-31',\n",
       " '2014-06-01',\n",
       " '2014-06-02',\n",
       " '2014-06-03',\n",
       " '2014-06-04',\n",
       " '2014-06-05',\n",
       " '2014-06-06',\n",
       " '2014-06-07',\n",
       " '2014-06-08',\n",
       " '2014-06-09',\n",
       " '2014-06-10',\n",
       " '2014-06-11',\n",
       " '2014-06-12',\n",
       " '2014-06-13',\n",
       " '2014-06-14',\n",
       " '2014-06-15',\n",
       " '2014-06-16',\n",
       " '2014-06-17',\n",
       " '2014-06-18',\n",
       " '2014-06-19',\n",
       " '2014-06-20',\n",
       " '2014-06-21',\n",
       " '2014-06-22',\n",
       " '2014-06-23',\n",
       " '2014-06-24',\n",
       " '2014-06-25',\n",
       " '2014-06-26',\n",
       " '2014-06-27',\n",
       " '2014-06-28',\n",
       " '2014-06-29',\n",
       " '2014-06-30',\n",
       " '2014-07-01',\n",
       " '2014-07-02',\n",
       " '2014-07-03',\n",
       " '2014-07-04',\n",
       " '2014-07-05',\n",
       " '2014-07-06',\n",
       " '2014-07-07',\n",
       " '2014-07-08',\n",
       " '2014-07-09',\n",
       " '2014-07-10',\n",
       " '2014-07-11',\n",
       " '2014-07-12',\n",
       " '2014-07-13',\n",
       " '2014-07-14',\n",
       " '2014-07-15',\n",
       " '2014-07-16',\n",
       " '2014-07-17',\n",
       " '2014-07-18',\n",
       " '2014-07-19',\n",
       " '2014-07-20',\n",
       " '2014-07-21',\n",
       " '2014-07-22',\n",
       " '2014-07-23',\n",
       " '2014-07-24',\n",
       " '2014-07-25',\n",
       " '2014-07-26',\n",
       " '2014-07-27',\n",
       " '2014-07-28',\n",
       " '2014-07-29',\n",
       " '2014-07-30',\n",
       " '2014-07-31',\n",
       " '2014-08-01',\n",
       " '2014-08-02',\n",
       " '2014-08-03',\n",
       " '2014-08-04',\n",
       " '2014-08-05',\n",
       " '2014-08-06',\n",
       " '2014-08-07',\n",
       " '2014-08-08',\n",
       " '2014-08-09',\n",
       " '2014-08-10',\n",
       " '2014-08-11',\n",
       " '2014-08-12',\n",
       " '2014-08-13',\n",
       " '2014-08-14',\n",
       " '2014-08-15',\n",
       " '2014-08-16',\n",
       " '2014-08-17',\n",
       " '2014-08-18',\n",
       " '2014-08-19',\n",
       " '2014-08-20',\n",
       " '2014-08-21',\n",
       " '2014-08-22',\n",
       " '2014-08-23',\n",
       " '2014-08-24',\n",
       " '2014-08-25',\n",
       " '2014-08-26',\n",
       " '2014-08-27',\n",
       " '2014-08-28',\n",
       " '2014-08-29',\n",
       " '2014-08-30',\n",
       " '2014-08-31',\n",
       " '2014-09-01',\n",
       " '2014-09-02',\n",
       " '2014-09-03',\n",
       " '2014-09-04',\n",
       " '2014-09-05',\n",
       " '2014-09-06',\n",
       " '2014-09-07',\n",
       " '2014-09-08',\n",
       " '2014-09-09',\n",
       " '2014-09-10',\n",
       " '2014-09-11',\n",
       " '2014-09-12',\n",
       " '2014-09-13',\n",
       " '2014-09-14',\n",
       " '2014-09-15',\n",
       " '2014-09-16',\n",
       " '2014-09-17',\n",
       " '2014-09-18',\n",
       " '2014-09-19',\n",
       " '2014-09-20',\n",
       " '2014-09-21',\n",
       " '2014-09-22',\n",
       " '2014-09-23',\n",
       " '2014-09-24',\n",
       " '2014-09-25',\n",
       " '2014-09-26',\n",
       " '2014-09-27',\n",
       " '2014-09-28',\n",
       " '2014-09-29',\n",
       " '2014-09-30',\n",
       " '2014-10-01',\n",
       " '2014-10-02',\n",
       " '2014-10-03',\n",
       " '2014-10-04',\n",
       " '2014-10-05',\n",
       " '2014-10-06',\n",
       " '2014-10-07',\n",
       " '2014-10-08',\n",
       " '2014-10-09',\n",
       " '2014-10-10',\n",
       " '2014-10-11',\n",
       " '2014-10-12',\n",
       " '2014-10-13',\n",
       " '2014-10-14',\n",
       " '2014-10-15',\n",
       " '2014-10-16',\n",
       " '2014-10-17',\n",
       " '2014-10-18',\n",
       " '2014-10-19',\n",
       " '2014-10-20',\n",
       " '2014-10-21',\n",
       " '2014-10-22',\n",
       " '2014-10-23',\n",
       " '2014-10-24',\n",
       " '2014-10-25',\n",
       " '2014-10-26',\n",
       " '2014-10-27',\n",
       " '2014-10-28',\n",
       " '2014-10-29',\n",
       " '2014-10-30',\n",
       " '2014-10-31',\n",
       " '2014-11-01',\n",
       " '2014-11-02',\n",
       " '2014-11-03',\n",
       " '2014-11-04',\n",
       " '2014-11-05',\n",
       " '2014-11-06',\n",
       " '2014-11-07',\n",
       " '2014-11-08',\n",
       " '2014-11-09',\n",
       " '2014-11-10',\n",
       " '2014-11-11',\n",
       " '2014-11-12',\n",
       " '2014-11-13',\n",
       " '2014-11-14',\n",
       " '2014-11-15',\n",
       " '2014-11-16',\n",
       " '2014-11-17',\n",
       " '2014-11-18',\n",
       " '2014-11-19',\n",
       " '2014-11-20',\n",
       " '2014-11-21',\n",
       " '2014-11-22',\n",
       " '2014-11-23',\n",
       " '2014-11-24',\n",
       " '2014-11-25',\n",
       " '2014-11-26',\n",
       " '2014-11-27',\n",
       " '2014-11-28',\n",
       " '2014-11-29',\n",
       " '2014-11-30',\n",
       " '2014-12-01',\n",
       " '2014-12-02',\n",
       " '2014-12-03',\n",
       " '2014-12-04',\n",
       " '2014-12-05',\n",
       " '2014-12-06',\n",
       " '2014-12-07',\n",
       " '2014-12-08',\n",
       " '2014-12-09',\n",
       " '2014-12-10',\n",
       " '2014-12-11',\n",
       " '2014-12-12',\n",
       " '2014-12-13',\n",
       " '2014-12-14',\n",
       " '2014-12-15',\n",
       " '2014-12-16',\n",
       " '2014-12-17',\n",
       " '2014-12-18',\n",
       " '2014-12-19',\n",
       " '2014-12-20',\n",
       " '2014-12-21',\n",
       " '2014-12-22',\n",
       " '2014-12-23',\n",
       " '2014-12-24',\n",
       " '2014-12-25',\n",
       " '2014-12-26',\n",
       " '2014-12-27',\n",
       " '2014-12-28',\n",
       " '2014-12-29',\n",
       " '2014-12-30',\n",
       " '2014-12-31',\n",
       " '2015-01-01',\n",
       " '2015-01-02',\n",
       " '2015-01-03',\n",
       " '2015-01-04',\n",
       " '2015-01-05',\n",
       " '2015-01-06',\n",
       " '2015-01-07',\n",
       " '2015-01-08',\n",
       " '2015-01-09',\n",
       " '2015-01-10',\n",
       " '2015-01-11',\n",
       " '2015-01-12',\n",
       " '2015-01-13',\n",
       " '2015-01-14',\n",
       " '2015-01-15',\n",
       " '2015-01-16',\n",
       " '2015-01-17',\n",
       " '2015-01-18',\n",
       " '2015-01-19',\n",
       " '2015-01-20'}"
      ]
     },
     "execution_count": 8,
     "metadata": {},
     "output_type": "execute_result"
    }
   ],
   "source": [
    "set(df['date'])"
   ]
  },
  {
   "cell_type": "code",
   "execution_count": 9,
   "metadata": {},
   "outputs": [
    {
     "data": {
      "text/plain": [
       "45175"
      ]
     },
     "execution_count": 9,
     "metadata": {},
     "output_type": "execute_result"
    }
   ],
   "source": [
    "users = df[\"user_id\"].unique().tolist()\n",
    "len(users)"
   ]
  },
  {
   "cell_type": "code",
   "execution_count": 10,
   "metadata": {},
   "outputs": [],
   "source": [
    "# 80% of user ids\n",
    "users_train = [users[i] for i in range(round(0.8*len(users)))]"
   ]
  },
  {
   "cell_type": "code",
   "execution_count": 11,
   "metadata": {},
   "outputs": [],
   "source": [
    "#20% of user ids from train\n",
    "users_val = [users[i] for i in range(round(0.2*len(users_train)))]"
   ]
  },
  {
   "cell_type": "code",
   "execution_count": 12,
   "metadata": {},
   "outputs": [
    {
     "data": {
      "text/plain": [
       "36140"
      ]
     },
     "execution_count": 12,
     "metadata": {},
     "output_type": "execute_result"
    }
   ],
   "source": [
    "len(users_train)"
   ]
  },
  {
   "cell_type": "code",
   "execution_count": 13,
   "metadata": {},
   "outputs": [
    {
     "data": {
      "text/plain": [
       "7228"
      ]
     },
     "execution_count": 13,
     "metadata": {},
     "output_type": "execute_result"
    }
   ],
   "source": [
    "len(users_val)"
   ]
  },
  {
   "cell_type": "code",
   "execution_count": 14,
   "metadata": {},
   "outputs": [
    {
     "name": "stdout",
     "output_type": "stream",
     "text": [
      "CPU times: user 22.5 s, sys: 4.7 s, total: 27.2 s\n",
      "Wall time: 25.3 s\n"
     ]
    }
   ],
   "source": [
    "%%time\n",
    "# split data into train and test set (80%-20% of users)\n",
    "train_df = df[df['user_id'].isin(users_train)]\n",
    "test_df = df[~df['user_id'].isin(users_train)]"
   ]
  },
  {
   "cell_type": "code",
   "execution_count": 15,
   "metadata": {},
   "outputs": [
    {
     "data": {
      "text/plain": [
       "(29470337, 7)"
      ]
     },
     "execution_count": 15,
     "metadata": {},
     "output_type": "execute_result"
    }
   ],
   "source": [
    "train_df.shape"
   ]
  },
  {
   "cell_type": "code",
   "execution_count": 16,
   "metadata": {},
   "outputs": [
    {
     "name": "stdout",
     "output_type": "stream",
     "text": [
      "CPU times: user 36.6 s, sys: 1.72 s, total: 38.3 s\n",
      "Wall time: 38.7 s\n"
     ]
    }
   ],
   "source": [
    "%%time\n",
    "#randomly choose user-artist pairs from users_val to exclude it from train\n",
    "train_modified = shuffle(train_df)\n",
    "left_out_df = train_modified[train_modified['user_id'].isin(users_val)].drop_duplicates(subset=['user_id'])"
   ]
  },
  {
   "cell_type": "code",
   "execution_count": 17,
   "metadata": {},
   "outputs": [],
   "source": [
    "left_out_df = left_out_df[['user_id', 'person_id']]"
   ]
  },
  {
   "cell_type": "code",
   "execution_count": 18,
   "metadata": {},
   "outputs": [
    {
     "data": {
      "text/html": [
       "<div>\n",
       "<style scoped>\n",
       "    .dataframe tbody tr th:only-of-type {\n",
       "        vertical-align: middle;\n",
       "    }\n",
       "\n",
       "    .dataframe tbody tr th {\n",
       "        vertical-align: top;\n",
       "    }\n",
       "\n",
       "    .dataframe thead th {\n",
       "        text-align: right;\n",
       "    }\n",
       "</style>\n",
       "<table border=\"1\" class=\"dataframe\">\n",
       "  <thead>\n",
       "    <tr style=\"text-align: right;\">\n",
       "      <th></th>\n",
       "      <th>user_id</th>\n",
       "      <th>person_id</th>\n",
       "    </tr>\n",
       "  </thead>\n",
       "  <tbody>\n",
       "    <tr>\n",
       "      <th>31125591</th>\n",
       "      <td>40215</td>\n",
       "      <td>164287</td>\n",
       "    </tr>\n",
       "    <tr>\n",
       "      <th>2185310</th>\n",
       "      <td>28749</td>\n",
       "      <td>42398</td>\n",
       "    </tr>\n",
       "    <tr>\n",
       "      <th>16687006</th>\n",
       "      <td>8046</td>\n",
       "      <td>367332</td>\n",
       "    </tr>\n",
       "    <tr>\n",
       "      <th>19484714</th>\n",
       "      <td>8749</td>\n",
       "      <td>21753</td>\n",
       "    </tr>\n",
       "    <tr>\n",
       "      <th>13252169</th>\n",
       "      <td>7863</td>\n",
       "      <td>450200</td>\n",
       "    </tr>\n",
       "    <tr>\n",
       "      <th>...</th>\n",
       "      <td>...</td>\n",
       "      <td>...</td>\n",
       "    </tr>\n",
       "    <tr>\n",
       "      <th>5723175</th>\n",
       "      <td>25238</td>\n",
       "      <td>46425</td>\n",
       "    </tr>\n",
       "    <tr>\n",
       "      <th>445058</th>\n",
       "      <td>1858</td>\n",
       "      <td>46425</td>\n",
       "    </tr>\n",
       "    <tr>\n",
       "      <th>9482149</th>\n",
       "      <td>23901</td>\n",
       "      <td>78622</td>\n",
       "    </tr>\n",
       "    <tr>\n",
       "      <th>7051855</th>\n",
       "      <td>5381</td>\n",
       "      <td>274779</td>\n",
       "    </tr>\n",
       "    <tr>\n",
       "      <th>28331553</th>\n",
       "      <td>45158</td>\n",
       "      <td>45261</td>\n",
       "    </tr>\n",
       "  </tbody>\n",
       "</table>\n",
       "<p>7228 rows × 2 columns</p>\n",
       "</div>"
      ],
      "text/plain": [
       "          user_id  person_id\n",
       "31125591    40215     164287\n",
       "2185310     28749      42398\n",
       "16687006     8046     367332\n",
       "19484714     8749      21753\n",
       "13252169     7863     450200\n",
       "...           ...        ...\n",
       "5723175     25238      46425\n",
       "445058       1858      46425\n",
       "9482149     23901      78622\n",
       "7051855      5381     274779\n",
       "28331553    45158      45261\n",
       "\n",
       "[7228 rows x 2 columns]"
      ]
     },
     "execution_count": 18,
     "metadata": {},
     "output_type": "execute_result"
    }
   ],
   "source": [
    "left_out_df"
   ]
  },
  {
   "cell_type": "code",
   "execution_count": 19,
   "metadata": {},
   "outputs": [],
   "source": [
    "index1 = pd.MultiIndex.from_arrays([train_modified[col] for col in ['user_id', 'person_id']])\n",
    "index2 = pd.MultiIndex.from_arrays([left_out_df[col] for col in ['user_id', 'person_id']])"
   ]
  },
  {
   "cell_type": "code",
   "execution_count": 20,
   "metadata": {},
   "outputs": [
    {
     "name": "stdout",
     "output_type": "stream",
     "text": [
      "CPU times: user 20.6 s, sys: 1min 13s, total: 1min 33s\n",
      "Wall time: 1min 39s\n"
     ]
    }
   ],
   "source": [
    "%%time\n",
    "train_modified = train_modified.loc[~index1.isin(index2)]"
   ]
  },
  {
   "cell_type": "code",
   "execution_count": 21,
   "metadata": {},
   "outputs": [
    {
     "data": {
      "text/plain": [
       "(29242161, 7)"
      ]
     },
     "execution_count": 21,
     "metadata": {},
     "output_type": "execute_result"
    }
   ],
   "source": [
    "train_modified.shape"
   ]
  },
  {
   "cell_type": "code",
   "execution_count": 22,
   "metadata": {},
   "outputs": [],
   "source": [
    "train_modified = train_modified[['user_id', 'person_id', 'ts']].sort_values(by = ['user_id', 'ts'])\n",
    "train_modified['person_id'] = train_modified['person_id'].astype(str)\n",
    "train_mod_grouped = train_modified.groupby(by=['user_id'])['person_id'].apply(list).reset_index(name='persons_lst')"
   ]
  },
  {
   "cell_type": "code",
   "execution_count": 23,
   "metadata": {},
   "outputs": [],
   "source": [
    "test_df['person_id'] = test_df['person_id'].astype(str)\n",
    "test_grouped = test_df.groupby(by=['user_id'])['person_id'].apply(list).reset_index(name='persons_lst')"
   ]
  },
  {
   "cell_type": "code",
   "execution_count": 24,
   "metadata": {},
   "outputs": [
    {
     "data": {
      "text/html": [
       "<div>\n",
       "<style scoped>\n",
       "    .dataframe tbody tr th:only-of-type {\n",
       "        vertical-align: middle;\n",
       "    }\n",
       "\n",
       "    .dataframe tbody tr th {\n",
       "        vertical-align: top;\n",
       "    }\n",
       "\n",
       "    .dataframe thead th {\n",
       "        text-align: right;\n",
       "    }\n",
       "</style>\n",
       "<table border=\"1\" class=\"dataframe\">\n",
       "  <thead>\n",
       "    <tr style=\"text-align: right;\">\n",
       "      <th></th>\n",
       "      <th>user_id</th>\n",
       "      <th>persons_lst</th>\n",
       "    </tr>\n",
       "  </thead>\n",
       "  <tbody>\n",
       "    <tr>\n",
       "      <th>0</th>\n",
       "      <td>2</td>\n",
       "      <td>[317952, 317952, 317952, 307932, 147326, 33277...</td>\n",
       "    </tr>\n",
       "    <tr>\n",
       "      <th>1</th>\n",
       "      <td>6</td>\n",
       "      <td>[16163, 427911, 427911, 347719, 81351, 81351, ...</td>\n",
       "    </tr>\n",
       "    <tr>\n",
       "      <th>2</th>\n",
       "      <td>9</td>\n",
       "      <td>[56683, 208667, 144662, 299571, 28752, 356730,...</td>\n",
       "    </tr>\n",
       "    <tr>\n",
       "      <th>3</th>\n",
       "      <td>10</td>\n",
       "      <td>[263881, 302401]</td>\n",
       "    </tr>\n",
       "    <tr>\n",
       "      <th>4</th>\n",
       "      <td>19</td>\n",
       "      <td>[15830, 254536, 305083, 2589, 75802, 75802, 75...</td>\n",
       "    </tr>\n",
       "    <tr>\n",
       "      <th>...</th>\n",
       "      <td>...</td>\n",
       "      <td>...</td>\n",
       "    </tr>\n",
       "    <tr>\n",
       "      <th>9030</th>\n",
       "      <td>45138</td>\n",
       "      <td>[323344, 323344, 323344, 323344, 411805, 41180...</td>\n",
       "    </tr>\n",
       "    <tr>\n",
       "      <th>9031</th>\n",
       "      <td>45147</td>\n",
       "      <td>[228324, 320708, 348909, 348909, 437722, 43772...</td>\n",
       "    </tr>\n",
       "    <tr>\n",
       "      <th>9032</th>\n",
       "      <td>45148</td>\n",
       "      <td>[54198, 218992, 190028, 192393, 335800, 288031...</td>\n",
       "    </tr>\n",
       "    <tr>\n",
       "      <th>9033</th>\n",
       "      <td>45172</td>\n",
       "      <td>[196920, 11653, 123799, 138443, 345801, 408513...</td>\n",
       "    </tr>\n",
       "    <tr>\n",
       "      <th>9034</th>\n",
       "      <td>45175</td>\n",
       "      <td>[348909, 446939, 151444, 110337, 259883, 58406...</td>\n",
       "    </tr>\n",
       "  </tbody>\n",
       "</table>\n",
       "<p>9035 rows × 2 columns</p>\n",
       "</div>"
      ],
      "text/plain": [
       "      user_id                                        persons_lst\n",
       "0           2  [317952, 317952, 317952, 307932, 147326, 33277...\n",
       "1           6  [16163, 427911, 427911, 347719, 81351, 81351, ...\n",
       "2           9  [56683, 208667, 144662, 299571, 28752, 356730,...\n",
       "3          10                                   [263881, 302401]\n",
       "4          19  [15830, 254536, 305083, 2589, 75802, 75802, 75...\n",
       "...       ...                                                ...\n",
       "9030    45138  [323344, 323344, 323344, 323344, 411805, 41180...\n",
       "9031    45147  [228324, 320708, 348909, 348909, 437722, 43772...\n",
       "9032    45148  [54198, 218992, 190028, 192393, 335800, 288031...\n",
       "9033    45172  [196920, 11653, 123799, 138443, 345801, 408513...\n",
       "9034    45175  [348909, 446939, 151444, 110337, 259883, 58406...\n",
       "\n",
       "[9035 rows x 2 columns]"
      ]
     },
     "execution_count": 24,
     "metadata": {},
     "output_type": "execute_result"
    }
   ],
   "source": [
    "test_grouped"
   ]
  },
  {
   "cell_type": "code",
   "execution_count": 25,
   "metadata": {},
   "outputs": [],
   "source": [
    "left_out_df['person_id'] = left_out_df['person_id'].astype(str)"
   ]
  },
  {
   "cell_type": "code",
   "execution_count": 26,
   "metadata": {},
   "outputs": [],
   "source": [
    "left_out_df.to_pickle('data/left_out_df.pickle')\n",
    "train_modified.to_pickle('data/train_mod.pickle')\n",
    "train_mod_grouped.to_pickle('data/train_mod_grouped.pickle')\n",
    "test_grouped.to_pickle('data/test_grouped.pickle')"
   ]
  },
  {
   "cell_type": "markdown",
   "metadata": {},
   "source": [
    "### 8. Prepare additional information - user likes"
   ]
  },
  {
   "cell_type": "code",
   "execution_count": 39,
   "metadata": {},
   "outputs": [
    {
     "data": {
      "text/html": [
       "<div>\n",
       "<style scoped>\n",
       "    .dataframe tbody tr th:only-of-type {\n",
       "        vertical-align: middle;\n",
       "    }\n",
       "\n",
       "    .dataframe tbody tr th {\n",
       "        vertical-align: top;\n",
       "    }\n",
       "\n",
       "    .dataframe thead th {\n",
       "        text-align: right;\n",
       "    }\n",
       "</style>\n",
       "<table border=\"1\" class=\"dataframe\">\n",
       "  <thead>\n",
       "    <tr style=\"text-align: right;\">\n",
       "      <th></th>\n",
       "      <th>object</th>\n",
       "      <th>id</th>\n",
       "      <th>ts</th>\n",
       "      <th>values</th>\n",
       "      <th>properties</th>\n",
       "      <th>linked_entities</th>\n",
       "    </tr>\n",
       "  </thead>\n",
       "  <tbody>\n",
       "    <tr>\n",
       "      <th>0</th>\n",
       "      <td>preference</td>\n",
       "      <td>1</td>\n",
       "      <td>-1</td>\n",
       "      <td>{\"value\":\"love\"}</td>\n",
       "      <td>{\"subjects\":[{\"type\":\"user\",\"id\":44542}],</td>\n",
       "      <td>\"objects\":[{\"type\":\"track\",\"id\":2785601}]}</td>\n",
       "    </tr>\n",
       "    <tr>\n",
       "      <th>1</th>\n",
       "      <td>preference</td>\n",
       "      <td>2</td>\n",
       "      <td>-1</td>\n",
       "      <td>{\"value\":\"love\"}</td>\n",
       "      <td>{\"subjects\":[{\"type\":\"user\",\"id\":44542}],</td>\n",
       "      <td>\"objects\":[{\"type\":\"track\",\"id\":2785590}]}</td>\n",
       "    </tr>\n",
       "    <tr>\n",
       "      <th>2</th>\n",
       "      <td>preference</td>\n",
       "      <td>3</td>\n",
       "      <td>-1</td>\n",
       "      <td>{\"value\":\"love\"}</td>\n",
       "      <td>{\"subjects\":[{\"type\":\"user\",\"id\":44542}],</td>\n",
       "      <td>\"objects\":[{\"type\":\"track\",\"id\":143076}]}</td>\n",
       "    </tr>\n",
       "    <tr>\n",
       "      <th>3</th>\n",
       "      <td>preference</td>\n",
       "      <td>4</td>\n",
       "      <td>-1</td>\n",
       "      <td>{\"value\":\"love\"}</td>\n",
       "      <td>{\"subjects\":[{\"type\":\"user\",\"id\":44542}],</td>\n",
       "      <td>\"objects\":[{\"type\":\"track\",\"id\":143037}]}</td>\n",
       "    </tr>\n",
       "    <tr>\n",
       "      <th>4</th>\n",
       "      <td>preference</td>\n",
       "      <td>5</td>\n",
       "      <td>-1</td>\n",
       "      <td>{\"value\":\"love\"}</td>\n",
       "      <td>{\"subjects\":[{\"type\":\"user\",\"id\":44542}],</td>\n",
       "      <td>\"objects\":[{\"type\":\"track\",\"id\":143052}]}</td>\n",
       "    </tr>\n",
       "  </tbody>\n",
       "</table>\n",
       "</div>"
      ],
      "text/plain": [
       "       object  id  ts            values  \\\n",
       "0  preference   1  -1  {\"value\":\"love\"}   \n",
       "1  preference   2  -1  {\"value\":\"love\"}   \n",
       "2  preference   3  -1  {\"value\":\"love\"}   \n",
       "3  preference   4  -1  {\"value\":\"love\"}   \n",
       "4  preference   5  -1  {\"value\":\"love\"}   \n",
       "\n",
       "                                  properties  \\\n",
       "0  {\"subjects\":[{\"type\":\"user\",\"id\":44542}],   \n",
       "1  {\"subjects\":[{\"type\":\"user\",\"id\":44542}],   \n",
       "2  {\"subjects\":[{\"type\":\"user\",\"id\":44542}],   \n",
       "3  {\"subjects\":[{\"type\":\"user\",\"id\":44542}],   \n",
       "4  {\"subjects\":[{\"type\":\"user\",\"id\":44542}],   \n",
       "\n",
       "                              linked_entities  \n",
       "0  \"objects\":[{\"type\":\"track\",\"id\":2785601}]}  \n",
       "1  \"objects\":[{\"type\":\"track\",\"id\":2785590}]}  \n",
       "2   \"objects\":[{\"type\":\"track\",\"id\":143076}]}  \n",
       "3   \"objects\":[{\"type\":\"track\",\"id\":143037}]}  \n",
       "4   \"objects\":[{\"type\":\"track\",\"id\":143052}]}  "
      ]
     },
     "execution_count": 39,
     "metadata": {},
     "output_type": "execute_result"
    }
   ],
   "source": [
    "love_df = pd.read_csv(\"ThirtyMusic/relations/love.idomaar\",sep='\\t| ', \n",
    "                      names = ['object', 'id', 'ts','values','properties', 'linked_entities'])\n",
    "love_df.head()"
   ]
  },
  {
   "cell_type": "code",
   "execution_count": 40,
   "metadata": {},
   "outputs": [
    {
     "data": {
      "text/plain": [
       "(4106341, 6)"
      ]
     },
     "execution_count": 40,
     "metadata": {},
     "output_type": "execute_result"
    }
   ],
   "source": [
    "love_df.shape"
   ]
  },
  {
   "cell_type": "code",
   "execution_count": 41,
   "metadata": {},
   "outputs": [],
   "source": [
    "love_df['properties'] = love_df['properties'] + \" \" +love_df['linked_entities']\n",
    "love_df.drop(columns = ['linked_entities'], inplace=True)"
   ]
  },
  {
   "cell_type": "code",
   "execution_count": 42,
   "metadata": {},
   "outputs": [
    {
     "data": {
      "text/html": [
       "<div>\n",
       "<style scoped>\n",
       "    .dataframe tbody tr th:only-of-type {\n",
       "        vertical-align: middle;\n",
       "    }\n",
       "\n",
       "    .dataframe tbody tr th {\n",
       "        vertical-align: top;\n",
       "    }\n",
       "\n",
       "    .dataframe thead th {\n",
       "        text-align: right;\n",
       "    }\n",
       "</style>\n",
       "<table border=\"1\" class=\"dataframe\">\n",
       "  <thead>\n",
       "    <tr style=\"text-align: right;\">\n",
       "      <th></th>\n",
       "      <th>object</th>\n",
       "      <th>id</th>\n",
       "      <th>ts</th>\n",
       "      <th>values</th>\n",
       "      <th>properties</th>\n",
       "    </tr>\n",
       "  </thead>\n",
       "  <tbody>\n",
       "    <tr>\n",
       "      <th>0</th>\n",
       "      <td>preference</td>\n",
       "      <td>1</td>\n",
       "      <td>-1</td>\n",
       "      <td>{\"value\":\"love\"}</td>\n",
       "      <td>{\"subjects\":[{\"type\":\"user\",\"id\":44542}], \"obj...</td>\n",
       "    </tr>\n",
       "    <tr>\n",
       "      <th>1</th>\n",
       "      <td>preference</td>\n",
       "      <td>2</td>\n",
       "      <td>-1</td>\n",
       "      <td>{\"value\":\"love\"}</td>\n",
       "      <td>{\"subjects\":[{\"type\":\"user\",\"id\":44542}], \"obj...</td>\n",
       "    </tr>\n",
       "    <tr>\n",
       "      <th>2</th>\n",
       "      <td>preference</td>\n",
       "      <td>3</td>\n",
       "      <td>-1</td>\n",
       "      <td>{\"value\":\"love\"}</td>\n",
       "      <td>{\"subjects\":[{\"type\":\"user\",\"id\":44542}], \"obj...</td>\n",
       "    </tr>\n",
       "    <tr>\n",
       "      <th>3</th>\n",
       "      <td>preference</td>\n",
       "      <td>4</td>\n",
       "      <td>-1</td>\n",
       "      <td>{\"value\":\"love\"}</td>\n",
       "      <td>{\"subjects\":[{\"type\":\"user\",\"id\":44542}], \"obj...</td>\n",
       "    </tr>\n",
       "    <tr>\n",
       "      <th>4</th>\n",
       "      <td>preference</td>\n",
       "      <td>5</td>\n",
       "      <td>-1</td>\n",
       "      <td>{\"value\":\"love\"}</td>\n",
       "      <td>{\"subjects\":[{\"type\":\"user\",\"id\":44542}], \"obj...</td>\n",
       "    </tr>\n",
       "    <tr>\n",
       "      <th>...</th>\n",
       "      <td>...</td>\n",
       "      <td>...</td>\n",
       "      <td>...</td>\n",
       "      <td>...</td>\n",
       "      <td>...</td>\n",
       "    </tr>\n",
       "    <tr>\n",
       "      <th>4106336</th>\n",
       "      <td>preference</td>\n",
       "      <td>4106337</td>\n",
       "      <td>-1</td>\n",
       "      <td>{\"value\":\"love\"}</td>\n",
       "      <td>{\"subjects\":[{\"type\":\"user\",\"id\":39896}], \"obj...</td>\n",
       "    </tr>\n",
       "    <tr>\n",
       "      <th>4106337</th>\n",
       "      <td>preference</td>\n",
       "      <td>4106338</td>\n",
       "      <td>-1</td>\n",
       "      <td>{\"value\":\"love\"}</td>\n",
       "      <td>{\"subjects\":[{\"type\":\"user\",\"id\":39896}], \"obj...</td>\n",
       "    </tr>\n",
       "    <tr>\n",
       "      <th>4106338</th>\n",
       "      <td>preference</td>\n",
       "      <td>4106339</td>\n",
       "      <td>-1</td>\n",
       "      <td>{\"value\":\"love\"}</td>\n",
       "      <td>{\"subjects\":[{\"type\":\"user\",\"id\":39896}], \"obj...</td>\n",
       "    </tr>\n",
       "    <tr>\n",
       "      <th>4106339</th>\n",
       "      <td>preference</td>\n",
       "      <td>4106340</td>\n",
       "      <td>-1</td>\n",
       "      <td>{\"value\":\"love\"}</td>\n",
       "      <td>{\"subjects\":[{\"type\":\"user\",\"id\":39896}], \"obj...</td>\n",
       "    </tr>\n",
       "    <tr>\n",
       "      <th>4106340</th>\n",
       "      <td>preference</td>\n",
       "      <td>4106341</td>\n",
       "      <td>-1</td>\n",
       "      <td>{\"value\":\"love\"}</td>\n",
       "      <td>{\"subjects\":[{\"type\":\"user\",\"id\":39896}], \"obj...</td>\n",
       "    </tr>\n",
       "  </tbody>\n",
       "</table>\n",
       "<p>4106341 rows × 5 columns</p>\n",
       "</div>"
      ],
      "text/plain": [
       "             object       id  ts            values  \\\n",
       "0        preference        1  -1  {\"value\":\"love\"}   \n",
       "1        preference        2  -1  {\"value\":\"love\"}   \n",
       "2        preference        3  -1  {\"value\":\"love\"}   \n",
       "3        preference        4  -1  {\"value\":\"love\"}   \n",
       "4        preference        5  -1  {\"value\":\"love\"}   \n",
       "...             ...      ...  ..               ...   \n",
       "4106336  preference  4106337  -1  {\"value\":\"love\"}   \n",
       "4106337  preference  4106338  -1  {\"value\":\"love\"}   \n",
       "4106338  preference  4106339  -1  {\"value\":\"love\"}   \n",
       "4106339  preference  4106340  -1  {\"value\":\"love\"}   \n",
       "4106340  preference  4106341  -1  {\"value\":\"love\"}   \n",
       "\n",
       "                                                properties  \n",
       "0        {\"subjects\":[{\"type\":\"user\",\"id\":44542}], \"obj...  \n",
       "1        {\"subjects\":[{\"type\":\"user\",\"id\":44542}], \"obj...  \n",
       "2        {\"subjects\":[{\"type\":\"user\",\"id\":44542}], \"obj...  \n",
       "3        {\"subjects\":[{\"type\":\"user\",\"id\":44542}], \"obj...  \n",
       "4        {\"subjects\":[{\"type\":\"user\",\"id\":44542}], \"obj...  \n",
       "...                                                    ...  \n",
       "4106336  {\"subjects\":[{\"type\":\"user\",\"id\":39896}], \"obj...  \n",
       "4106337  {\"subjects\":[{\"type\":\"user\",\"id\":39896}], \"obj...  \n",
       "4106338  {\"subjects\":[{\"type\":\"user\",\"id\":39896}], \"obj...  \n",
       "4106339  {\"subjects\":[{\"type\":\"user\",\"id\":39896}], \"obj...  \n",
       "4106340  {\"subjects\":[{\"type\":\"user\",\"id\":39896}], \"obj...  \n",
       "\n",
       "[4106341 rows x 5 columns]"
      ]
     },
     "execution_count": 42,
     "metadata": {},
     "output_type": "execute_result"
    }
   ],
   "source": [
    "love_df"
   ]
  },
  {
   "cell_type": "code",
   "execution_count": 43,
   "metadata": {},
   "outputs": [
    {
     "data": {
      "text/plain": [
       "{-1}"
      ]
     },
     "execution_count": 43,
     "metadata": {},
     "output_type": "execute_result"
    }
   ],
   "source": [
    "set(love_df['ts'])"
   ]
  },
  {
   "cell_type": "code",
   "execution_count": 44,
   "metadata": {},
   "outputs": [
    {
     "data": {
      "text/plain": [
       "{'{\"value\":\"love\"}'}"
      ]
     },
     "execution_count": 44,
     "metadata": {},
     "output_type": "execute_result"
    }
   ],
   "source": [
    "set(love_df['values'])"
   ]
  },
  {
   "cell_type": "code",
   "execution_count": 45,
   "metadata": {},
   "outputs": [],
   "source": [
    "love_df = love_df.drop_duplicates(subset = ['properties'])"
   ]
  },
  {
   "cell_type": "code",
   "execution_count": 46,
   "metadata": {},
   "outputs": [],
   "source": [
    "def extract_likes(row):\n",
    "    json_lst = json.loads(row['properties'])\n",
    "    \n",
    "    user_id = json_lst['subjects'][0]['id']\n",
    "    \n",
    "    track_id = json_lst['objects'][0]['id']\n",
    "\n",
    "    new_rows_dict = {\n",
    "                    'user_id' : user_id,\n",
    "                    'track_id' : track_id\n",
    "                   } \n",
    "    return new_rows_dict"
   ]
  },
  {
   "cell_type": "code",
   "execution_count": 47,
   "metadata": {},
   "outputs": [
    {
     "name": "stdout",
     "output_type": "stream",
     "text": [
      "CPU times: user 32.6 s, sys: 200 ms, total: 32.8 s\n",
      "Wall time: 32.3 s\n"
     ]
    }
   ],
   "source": [
    "%%time\n",
    "likes_df = pd.DataFrame(list(love_df.apply(lambda row: extract_likes(row), axis=1)))"
   ]
  },
  {
   "cell_type": "code",
   "execution_count": 48,
   "metadata": {},
   "outputs": [
    {
     "data": {
      "text/html": [
       "<div>\n",
       "<style scoped>\n",
       "    .dataframe tbody tr th:only-of-type {\n",
       "        vertical-align: middle;\n",
       "    }\n",
       "\n",
       "    .dataframe tbody tr th {\n",
       "        vertical-align: top;\n",
       "    }\n",
       "\n",
       "    .dataframe thead th {\n",
       "        text-align: right;\n",
       "    }\n",
       "</style>\n",
       "<table border=\"1\" class=\"dataframe\">\n",
       "  <thead>\n",
       "    <tr style=\"text-align: right;\">\n",
       "      <th></th>\n",
       "      <th>user_id</th>\n",
       "      <th>track_id</th>\n",
       "    </tr>\n",
       "  </thead>\n",
       "  <tbody>\n",
       "    <tr>\n",
       "      <th>0</th>\n",
       "      <td>44542</td>\n",
       "      <td>2785601</td>\n",
       "    </tr>\n",
       "    <tr>\n",
       "      <th>1</th>\n",
       "      <td>44542</td>\n",
       "      <td>2785590</td>\n",
       "    </tr>\n",
       "    <tr>\n",
       "      <th>2</th>\n",
       "      <td>44542</td>\n",
       "      <td>143076</td>\n",
       "    </tr>\n",
       "    <tr>\n",
       "      <th>3</th>\n",
       "      <td>44542</td>\n",
       "      <td>143037</td>\n",
       "    </tr>\n",
       "    <tr>\n",
       "      <th>4</th>\n",
       "      <td>44542</td>\n",
       "      <td>143052</td>\n",
       "    </tr>\n",
       "    <tr>\n",
       "      <th>...</th>\n",
       "      <td>...</td>\n",
       "      <td>...</td>\n",
       "    </tr>\n",
       "    <tr>\n",
       "      <th>1692556</th>\n",
       "      <td>39896</td>\n",
       "      <td>3208469</td>\n",
       "    </tr>\n",
       "    <tr>\n",
       "      <th>1692557</th>\n",
       "      <td>39896</td>\n",
       "      <td>2756716</td>\n",
       "    </tr>\n",
       "    <tr>\n",
       "      <th>1692558</th>\n",
       "      <td>39896</td>\n",
       "      <td>3644495</td>\n",
       "    </tr>\n",
       "    <tr>\n",
       "      <th>1692559</th>\n",
       "      <td>39896</td>\n",
       "      <td>2247239</td>\n",
       "    </tr>\n",
       "    <tr>\n",
       "      <th>1692560</th>\n",
       "      <td>39896</td>\n",
       "      <td>3570567</td>\n",
       "    </tr>\n",
       "  </tbody>\n",
       "</table>\n",
       "<p>1692561 rows × 2 columns</p>\n",
       "</div>"
      ],
      "text/plain": [
       "         user_id  track_id\n",
       "0          44542   2785601\n",
       "1          44542   2785590\n",
       "2          44542    143076\n",
       "3          44542    143037\n",
       "4          44542    143052\n",
       "...          ...       ...\n",
       "1692556    39896   3208469\n",
       "1692557    39896   2756716\n",
       "1692558    39896   3644495\n",
       "1692559    39896   2247239\n",
       "1692560    39896   3570567\n",
       "\n",
       "[1692561 rows x 2 columns]"
      ]
     },
     "execution_count": 48,
     "metadata": {},
     "output_type": "execute_result"
    }
   ],
   "source": [
    "likes_df"
   ]
  },
  {
   "cell_type": "code",
   "execution_count": 49,
   "metadata": {},
   "outputs": [],
   "source": [
    "#df = pd.read_pickle('data/merged_df_datetime.pickle')"
   ]
  },
  {
   "cell_type": "code",
   "execution_count": 50,
   "metadata": {},
   "outputs": [],
   "source": [
    "df2 = df[['track_id', 'person_id']].drop_duplicates()"
   ]
  },
  {
   "cell_type": "code",
   "execution_count": 51,
   "metadata": {},
   "outputs": [
    {
     "data": {
      "text/html": [
       "<div>\n",
       "<style scoped>\n",
       "    .dataframe tbody tr th:only-of-type {\n",
       "        vertical-align: middle;\n",
       "    }\n",
       "\n",
       "    .dataframe tbody tr th {\n",
       "        vertical-align: top;\n",
       "    }\n",
       "\n",
       "    .dataframe thead th {\n",
       "        text-align: right;\n",
       "    }\n",
       "</style>\n",
       "<table border=\"1\" class=\"dataframe\">\n",
       "  <thead>\n",
       "    <tr style=\"text-align: right;\">\n",
       "      <th></th>\n",
       "      <th>track_id</th>\n",
       "      <th>person_id</th>\n",
       "    </tr>\n",
       "  </thead>\n",
       "  <tbody>\n",
       "    <tr>\n",
       "      <th>0</th>\n",
       "      <td>4698874</td>\n",
       "      <td>142266</td>\n",
       "    </tr>\n",
       "    <tr>\n",
       "      <th>1</th>\n",
       "      <td>838286</td>\n",
       "      <td>107103</td>\n",
       "    </tr>\n",
       "    <tr>\n",
       "      <th>157</th>\n",
       "      <td>2588097</td>\n",
       "      <td>324333</td>\n",
       "    </tr>\n",
       "    <tr>\n",
       "      <th>174</th>\n",
       "      <td>2746740</td>\n",
       "      <td>344448</td>\n",
       "    </tr>\n",
       "    <tr>\n",
       "      <th>185</th>\n",
       "      <td>3873988</td>\n",
       "      <td>309348</td>\n",
       "    </tr>\n",
       "    <tr>\n",
       "      <th>...</th>\n",
       "      <td>...</td>\n",
       "      <td>...</td>\n",
       "    </tr>\n",
       "    <tr>\n",
       "      <th>31376597</th>\n",
       "      <td>2564433</td>\n",
       "      <td>321698</td>\n",
       "    </tr>\n",
       "    <tr>\n",
       "      <th>31376598</th>\n",
       "      <td>2602587</td>\n",
       "      <td>325968</td>\n",
       "    </tr>\n",
       "    <tr>\n",
       "      <th>31376599</th>\n",
       "      <td>720394</td>\n",
       "      <td>87396</td>\n",
       "    </tr>\n",
       "    <tr>\n",
       "      <th>31376600</th>\n",
       "      <td>720401</td>\n",
       "      <td>87396</td>\n",
       "    </tr>\n",
       "    <tr>\n",
       "      <th>31376601</th>\n",
       "      <td>171242</td>\n",
       "      <td>22273</td>\n",
       "    </tr>\n",
       "  </tbody>\n",
       "</table>\n",
       "<p>4519318 rows × 2 columns</p>\n",
       "</div>"
      ],
      "text/plain": [
       "          track_id  person_id\n",
       "0          4698874     142266\n",
       "1           838286     107103\n",
       "157        2588097     324333\n",
       "174        2746740     344448\n",
       "185        3873988     309348\n",
       "...            ...        ...\n",
       "31376597   2564433     321698\n",
       "31376598   2602587     325968\n",
       "31376599    720394      87396\n",
       "31376600    720401      87396\n",
       "31376601    171242      22273\n",
       "\n",
       "[4519318 rows x 2 columns]"
      ]
     },
     "execution_count": 51,
     "metadata": {},
     "output_type": "execute_result"
    }
   ],
   "source": [
    "df2"
   ]
  },
  {
   "cell_type": "code",
   "execution_count": 52,
   "metadata": {},
   "outputs": [
    {
     "data": {
      "text/html": [
       "<div>\n",
       "<style scoped>\n",
       "    .dataframe tbody tr th:only-of-type {\n",
       "        vertical-align: middle;\n",
       "    }\n",
       "\n",
       "    .dataframe tbody tr th {\n",
       "        vertical-align: top;\n",
       "    }\n",
       "\n",
       "    .dataframe thead th {\n",
       "        text-align: right;\n",
       "    }\n",
       "</style>\n",
       "<table border=\"1\" class=\"dataframe\">\n",
       "  <thead>\n",
       "    <tr style=\"text-align: right;\">\n",
       "      <th></th>\n",
       "      <th>user_id</th>\n",
       "      <th>person_id</th>\n",
       "    </tr>\n",
       "  </thead>\n",
       "  <tbody>\n",
       "    <tr>\n",
       "      <th>0</th>\n",
       "      <td>44542</td>\n",
       "      <td>349295</td>\n",
       "    </tr>\n",
       "    <tr>\n",
       "      <th>1</th>\n",
       "      <td>44542</td>\n",
       "      <td>349295</td>\n",
       "    </tr>\n",
       "    <tr>\n",
       "      <th>2</th>\n",
       "      <td>44542</td>\n",
       "      <td>18754</td>\n",
       "    </tr>\n",
       "    <tr>\n",
       "      <th>3</th>\n",
       "      <td>44542</td>\n",
       "      <td>18754</td>\n",
       "    </tr>\n",
       "    <tr>\n",
       "      <th>4</th>\n",
       "      <td>44542</td>\n",
       "      <td>18754</td>\n",
       "    </tr>\n",
       "    <tr>\n",
       "      <th>...</th>\n",
       "      <td>...</td>\n",
       "      <td>...</td>\n",
       "    </tr>\n",
       "    <tr>\n",
       "      <th>1694167</th>\n",
       "      <td>39896</td>\n",
       "      <td>397664</td>\n",
       "    </tr>\n",
       "    <tr>\n",
       "      <th>1694168</th>\n",
       "      <td>39896</td>\n",
       "      <td>345801</td>\n",
       "    </tr>\n",
       "    <tr>\n",
       "      <th>1694169</th>\n",
       "      <td>39896</td>\n",
       "      <td>455051</td>\n",
       "    </tr>\n",
       "    <tr>\n",
       "      <th>1694170</th>\n",
       "      <td>39896</td>\n",
       "      <td>31464</td>\n",
       "    </tr>\n",
       "    <tr>\n",
       "      <th>1694171</th>\n",
       "      <td>39896</td>\n",
       "      <td>446387</td>\n",
       "    </tr>\n",
       "  </tbody>\n",
       "</table>\n",
       "<p>1694172 rows × 2 columns</p>\n",
       "</div>"
      ],
      "text/plain": [
       "         user_id  person_id\n",
       "0          44542     349295\n",
       "1          44542     349295\n",
       "2          44542      18754\n",
       "3          44542      18754\n",
       "4          44542      18754\n",
       "...          ...        ...\n",
       "1694167    39896     397664\n",
       "1694168    39896     345801\n",
       "1694169    39896     455051\n",
       "1694170    39896      31464\n",
       "1694171    39896     446387\n",
       "\n",
       "[1694172 rows x 2 columns]"
      ]
     },
     "execution_count": 52,
     "metadata": {},
     "output_type": "execute_result"
    }
   ],
   "source": [
    "likes_df = likes_df.merge(df2, on = ['track_id'], how = 'left')\n",
    "likes_df.drop(columns=['track_id'], inplace = True)\n",
    "likes_df"
   ]
  },
  {
   "cell_type": "code",
   "execution_count": 53,
   "metadata": {},
   "outputs": [],
   "source": [
    "likes_df = likes_df[['user_id', 'person_id']].groupby(['user_id', \n",
    "                                                       'person_id']).size().reset_index(name='likes_count')"
   ]
  },
  {
   "cell_type": "code",
   "execution_count": 54,
   "metadata": {},
   "outputs": [
    {
     "data": {
      "text/html": [
       "<div>\n",
       "<style scoped>\n",
       "    .dataframe tbody tr th:only-of-type {\n",
       "        vertical-align: middle;\n",
       "    }\n",
       "\n",
       "    .dataframe tbody tr th {\n",
       "        vertical-align: top;\n",
       "    }\n",
       "\n",
       "    .dataframe thead th {\n",
       "        text-align: right;\n",
       "    }\n",
       "</style>\n",
       "<table border=\"1\" class=\"dataframe\">\n",
       "  <thead>\n",
       "    <tr style=\"text-align: right;\">\n",
       "      <th></th>\n",
       "      <th>user_id</th>\n",
       "      <th>person_id</th>\n",
       "      <th>likes_count</th>\n",
       "    </tr>\n",
       "  </thead>\n",
       "  <tbody>\n",
       "    <tr>\n",
       "      <th>0</th>\n",
       "      <td>1</td>\n",
       "      <td>87999</td>\n",
       "      <td>2</td>\n",
       "    </tr>\n",
       "    <tr>\n",
       "      <th>1</th>\n",
       "      <td>2</td>\n",
       "      <td>184769</td>\n",
       "      <td>1</td>\n",
       "    </tr>\n",
       "    <tr>\n",
       "      <th>2</th>\n",
       "      <td>2</td>\n",
       "      <td>408273</td>\n",
       "      <td>2</td>\n",
       "    </tr>\n",
       "    <tr>\n",
       "      <th>3</th>\n",
       "      <td>2</td>\n",
       "      <td>459046</td>\n",
       "      <td>2</td>\n",
       "    </tr>\n",
       "    <tr>\n",
       "      <th>4</th>\n",
       "      <td>2</td>\n",
       "      <td>464952</td>\n",
       "      <td>1</td>\n",
       "    </tr>\n",
       "    <tr>\n",
       "      <th>...</th>\n",
       "      <td>...</td>\n",
       "      <td>...</td>\n",
       "      <td>...</td>\n",
       "    </tr>\n",
       "    <tr>\n",
       "      <th>874471</th>\n",
       "      <td>45174</td>\n",
       "      <td>338132</td>\n",
       "      <td>1</td>\n",
       "    </tr>\n",
       "    <tr>\n",
       "      <th>874472</th>\n",
       "      <td>45174</td>\n",
       "      <td>349288</td>\n",
       "      <td>1</td>\n",
       "    </tr>\n",
       "    <tr>\n",
       "      <th>874473</th>\n",
       "      <td>45174</td>\n",
       "      <td>357381</td>\n",
       "      <td>2</td>\n",
       "    </tr>\n",
       "    <tr>\n",
       "      <th>874474</th>\n",
       "      <td>45174</td>\n",
       "      <td>378192</td>\n",
       "      <td>1</td>\n",
       "    </tr>\n",
       "    <tr>\n",
       "      <th>874475</th>\n",
       "      <td>45174</td>\n",
       "      <td>403129</td>\n",
       "      <td>1</td>\n",
       "    </tr>\n",
       "  </tbody>\n",
       "</table>\n",
       "<p>874476 rows × 3 columns</p>\n",
       "</div>"
      ],
      "text/plain": [
       "        user_id  person_id  likes_count\n",
       "0             1      87999            2\n",
       "1             2     184769            1\n",
       "2             2     408273            2\n",
       "3             2     459046            2\n",
       "4             2     464952            1\n",
       "...         ...        ...          ...\n",
       "874471    45174     338132            1\n",
       "874472    45174     349288            1\n",
       "874473    45174     357381            2\n",
       "874474    45174     378192            1\n",
       "874475    45174     403129            1\n",
       "\n",
       "[874476 rows x 3 columns]"
      ]
     },
     "execution_count": 54,
     "metadata": {},
     "output_type": "execute_result"
    }
   ],
   "source": [
    "likes_df"
   ]
  },
  {
   "cell_type": "code",
   "execution_count": 55,
   "metadata": {},
   "outputs": [
    {
     "data": {
      "text/plain": [
       "1      624758\n",
       "2      117751\n",
       "3       47476\n",
       "4       24873\n",
       "5       15230\n",
       "        ...  \n",
       "98          1\n",
       "97          1\n",
       "94          1\n",
       "90          1\n",
       "436         1\n",
       "Name: likes_count, Length: 139, dtype: int64"
      ]
     },
     "execution_count": 55,
     "metadata": {},
     "output_type": "execute_result"
    }
   ],
   "source": [
    "likes_df['likes_count'].value_counts()"
   ]
  },
  {
   "cell_type": "code",
   "execution_count": 56,
   "metadata": {},
   "outputs": [],
   "source": [
    "likes_df.to_pickle('data/likes_df.pickle')"
   ]
  },
  {
   "cell_type": "code",
   "execution_count": null,
   "metadata": {},
   "outputs": [],
   "source": []
  }
 ],
 "metadata": {
  "kernelspec": {
   "display_name": "Python 3",
   "language": "python",
   "name": "python3"
  },
  "language_info": {
   "codemirror_mode": {
    "name": "ipython",
    "version": 3
   },
   "file_extension": ".py",
   "mimetype": "text/x-python",
   "name": "python",
   "nbconvert_exporter": "python",
   "pygments_lexer": "ipython3",
   "version": "3.6.6"
  }
 },
 "nbformat": 4,
 "nbformat_minor": 2
}
