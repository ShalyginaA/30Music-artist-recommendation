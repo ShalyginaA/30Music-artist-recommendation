{
 "cells": [
  {
   "cell_type": "code",
   "execution_count": 1,
   "metadata": {},
   "outputs": [],
   "source": [
    "import numpy as np\n",
    "import pandas as pd\n",
    "import json"
   ]
  },
  {
   "cell_type": "code",
   "execution_count": 2,
   "metadata": {},
   "outputs": [],
   "source": [
    "from sklearn.utils import shuffle"
   ]
  },
  {
   "cell_type": "code",
   "execution_count": 3,
   "metadata": {},
   "outputs": [],
   "source": [
    "import warnings\n",
    "warnings.filterwarnings(\"ignore\")"
   ]
  },
  {
   "cell_type": "markdown",
   "metadata": {},
   "source": [
    "### 1. Load data files as dataframes"
   ]
  },
  {
   "cell_type": "markdown",
   "metadata": {},
   "source": [
    "I load .idomaar files as dataframes because it is more familiar format for me and it is easier to work with."
   ]
  },
  {
   "cell_type": "code",
   "execution_count": 2,
   "metadata": {},
   "outputs": [
    {
     "data": {
      "text/html": [
       "<div>\n",
       "<style scoped>\n",
       "    .dataframe tbody tr th:only-of-type {\n",
       "        vertical-align: middle;\n",
       "    }\n",
       "\n",
       "    .dataframe tbody tr th {\n",
       "        vertical-align: top;\n",
       "    }\n",
       "\n",
       "    .dataframe thead th {\n",
       "        text-align: right;\n",
       "    }\n",
       "</style>\n",
       "<table border=\"1\" class=\"dataframe\">\n",
       "  <thead>\n",
       "    <tr style=\"text-align: right;\">\n",
       "      <th></th>\n",
       "      <th>object</th>\n",
       "      <th>id</th>\n",
       "      <th>ts</th>\n",
       "      <th>properties</th>\n",
       "      <th>linked_entities</th>\n",
       "    </tr>\n",
       "  </thead>\n",
       "  <tbody>\n",
       "    <tr>\n",
       "      <th>0</th>\n",
       "      <td>person</td>\n",
       "      <td>145148</td>\n",
       "      <td>-1</td>\n",
       "      <td>{\"MBID\":null, \"name\":\"Everything+Is+Illuminated\"}</td>\n",
       "      <td>{}</td>\n",
       "    </tr>\n",
       "    <tr>\n",
       "      <th>1</th>\n",
       "      <td>person</td>\n",
       "      <td>297899</td>\n",
       "      <td>-1</td>\n",
       "      <td>{\"MBID\":null, \"name\":\"Robin+O%27Brien\"}</td>\n",
       "      <td>{}</td>\n",
       "    </tr>\n",
       "    <tr>\n",
       "      <th>2</th>\n",
       "      <td>person</td>\n",
       "      <td>250429</td>\n",
       "      <td>-1</td>\n",
       "      <td>{\"MBID\":null, \"name\":\"Nicholas+Gunn++(2012)\"}</td>\n",
       "      <td>{}</td>\n",
       "    </tr>\n",
       "    <tr>\n",
       "      <th>3</th>\n",
       "      <td>person</td>\n",
       "      <td>32765</td>\n",
       "      <td>-1</td>\n",
       "      <td>{\"MBID\":null, \"name\":\"Aspasia+Stratigou\"}</td>\n",
       "      <td>{}</td>\n",
       "    </tr>\n",
       "    <tr>\n",
       "      <th>4</th>\n",
       "      <td>person</td>\n",
       "      <td>18689</td>\n",
       "      <td>-1</td>\n",
       "      <td>{\"MBID\":null, \"name\":\"Allison+Veltz\"}</td>\n",
       "      <td>{}</td>\n",
       "    </tr>\n",
       "  </tbody>\n",
       "</table>\n",
       "</div>"
      ],
      "text/plain": [
       "   object      id  ts                                         properties  \\\n",
       "0  person  145148  -1  {\"MBID\":null, \"name\":\"Everything+Is+Illuminated\"}   \n",
       "1  person  297899  -1            {\"MBID\":null, \"name\":\"Robin+O%27Brien\"}   \n",
       "2  person  250429  -1      {\"MBID\":null, \"name\":\"Nicholas+Gunn++(2012)\"}   \n",
       "3  person   32765  -1          {\"MBID\":null, \"name\":\"Aspasia+Stratigou\"}   \n",
       "4  person   18689  -1              {\"MBID\":null, \"name\":\"Allison+Veltz\"}   \n",
       "\n",
       "  linked_entities  \n",
       "0              {}  \n",
       "1              {}  \n",
       "2              {}  \n",
       "3              {}  \n",
       "4              {}  "
      ]
     },
     "execution_count": 2,
     "metadata": {},
     "output_type": "execute_result"
    }
   ],
   "source": [
    "people_df = pd.read_csv(\"ThirtyMusic/entities/persons.idomaar\",sep='\\t', \n",
    "                        names = ['object', 'id', 'ts', 'properties', 'linked_entities'])\n",
    "people_df.head()"
   ]
  },
  {
   "cell_type": "code",
   "execution_count": 3,
   "metadata": {},
   "outputs": [
    {
     "data": {
      "text/plain": [
       "(595049, 5)"
      ]
     },
     "execution_count": 3,
     "metadata": {},
     "output_type": "execute_result"
    }
   ],
   "source": [
    "people_df.shape"
   ]
  },
  {
   "cell_type": "code",
   "execution_count": 4,
   "metadata": {},
   "outputs": [
    {
     "data": {
      "text/html": [
       "<div>\n",
       "<style scoped>\n",
       "    .dataframe tbody tr th:only-of-type {\n",
       "        vertical-align: middle;\n",
       "    }\n",
       "\n",
       "    .dataframe tbody tr th {\n",
       "        vertical-align: top;\n",
       "    }\n",
       "\n",
       "    .dataframe thead th {\n",
       "        text-align: right;\n",
       "    }\n",
       "</style>\n",
       "<table border=\"1\" class=\"dataframe\">\n",
       "  <thead>\n",
       "    <tr style=\"text-align: right;\">\n",
       "      <th></th>\n",
       "      <th>object</th>\n",
       "      <th>id</th>\n",
       "      <th>ts</th>\n",
       "      <th>properties</th>\n",
       "      <th>linked_entities</th>\n",
       "    </tr>\n",
       "  </thead>\n",
       "  <tbody>\n",
       "    <tr>\n",
       "      <th>0</th>\n",
       "      <td>track</td>\n",
       "      <td>0</td>\n",
       "      <td>-1</td>\n",
       "      <td>{\"duration\":-1,\"playcount\":4,\"MBID\":null,\"name...</td>\n",
       "      <td>{\"artists\":[{\"type\":\"person\",\"id\":0}],\"albums\"...</td>\n",
       "    </tr>\n",
       "    <tr>\n",
       "      <th>1</th>\n",
       "      <td>track</td>\n",
       "      <td>1</td>\n",
       "      <td>-1</td>\n",
       "      <td>{\"duration\":-1,\"playcount\":495,\"MBID\":null,\"na...</td>\n",
       "      <td>{\"artists\":[{\"type\":\"person\",\"id\":1}],\"albums\"...</td>\n",
       "    </tr>\n",
       "    <tr>\n",
       "      <th>2</th>\n",
       "      <td>track</td>\n",
       "      <td>2</td>\n",
       "      <td>-1</td>\n",
       "      <td>{\"duration\":-1,\"playcount\":2,\"MBID\":null,\"name...</td>\n",
       "      <td>{\"artists\":[{\"type\":\"person\",\"id\":2}],\"albums\"...</td>\n",
       "    </tr>\n",
       "    <tr>\n",
       "      <th>3</th>\n",
       "      <td>track</td>\n",
       "      <td>3</td>\n",
       "      <td>-1</td>\n",
       "      <td>{\"duration\":-1,\"playcount\":2,\"MBID\":null,\"name...</td>\n",
       "      <td>{\"artists\":[{\"type\":\"person\",\"id\":3}],\"albums\"...</td>\n",
       "    </tr>\n",
       "    <tr>\n",
       "      <th>4</th>\n",
       "      <td>track</td>\n",
       "      <td>4</td>\n",
       "      <td>-1</td>\n",
       "      <td>{\"duration\":-1,\"playcount\":1,\"MBID\":null,\"name...</td>\n",
       "      <td>{\"artists\":[{\"type\":\"person\",\"id\":4}],\"albums\"...</td>\n",
       "    </tr>\n",
       "  </tbody>\n",
       "</table>\n",
       "</div>"
      ],
      "text/plain": [
       "  object  id  ts                                         properties  \\\n",
       "0  track   0  -1  {\"duration\":-1,\"playcount\":4,\"MBID\":null,\"name...   \n",
       "1  track   1  -1  {\"duration\":-1,\"playcount\":495,\"MBID\":null,\"na...   \n",
       "2  track   2  -1  {\"duration\":-1,\"playcount\":2,\"MBID\":null,\"name...   \n",
       "3  track   3  -1  {\"duration\":-1,\"playcount\":2,\"MBID\":null,\"name...   \n",
       "4  track   4  -1  {\"duration\":-1,\"playcount\":1,\"MBID\":null,\"name...   \n",
       "\n",
       "                                     linked_entities  \n",
       "0  {\"artists\":[{\"type\":\"person\",\"id\":0}],\"albums\"...  \n",
       "1  {\"artists\":[{\"type\":\"person\",\"id\":1}],\"albums\"...  \n",
       "2  {\"artists\":[{\"type\":\"person\",\"id\":2}],\"albums\"...  \n",
       "3  {\"artists\":[{\"type\":\"person\",\"id\":3}],\"albums\"...  \n",
       "4  {\"artists\":[{\"type\":\"person\",\"id\":4}],\"albums\"...  "
      ]
     },
     "execution_count": 4,
     "metadata": {},
     "output_type": "execute_result"
    }
   ],
   "source": [
    "tracks_df = pd.read_csv(\"ThirtyMusic/entities/tracks.idomaar\",sep='\\t', \n",
    "                        names = ['object', 'id', 'ts', 'properties', 'linked_entities'])\n",
    "tracks_df.head()"
   ]
  },
  {
   "cell_type": "code",
   "execution_count": 5,
   "metadata": {},
   "outputs": [
    {
     "data": {
      "text/plain": [
       "(5675143, 5)"
      ]
     },
     "execution_count": 5,
     "metadata": {},
     "output_type": "execute_result"
    }
   ],
   "source": [
    "tracks_df.shape"
   ]
  },
  {
   "cell_type": "code",
   "execution_count": 6,
   "metadata": {},
   "outputs": [
    {
     "data": {
      "text/html": [
       "<div>\n",
       "<style scoped>\n",
       "    .dataframe tbody tr th:only-of-type {\n",
       "        vertical-align: middle;\n",
       "    }\n",
       "\n",
       "    .dataframe tbody tr th {\n",
       "        vertical-align: top;\n",
       "    }\n",
       "\n",
       "    .dataframe thead th {\n",
       "        text-align: right;\n",
       "    }\n",
       "</style>\n",
       "<table border=\"1\" class=\"dataframe\">\n",
       "  <thead>\n",
       "    <tr style=\"text-align: right;\">\n",
       "      <th></th>\n",
       "      <th>object</th>\n",
       "      <th>id</th>\n",
       "      <th>ts</th>\n",
       "      <th>properties</th>\n",
       "      <th>linked_entities</th>\n",
       "    </tr>\n",
       "  </thead>\n",
       "  <tbody>\n",
       "    <tr>\n",
       "      <th>0</th>\n",
       "      <td>event.session</td>\n",
       "      <td>287144</td>\n",
       "      <td>1390231051</td>\n",
       "      <td>{\"numtracks\":23,\"playtime\":4547} {\"subjects\":[...</td>\n",
       "      <td>NaN</td>\n",
       "    </tr>\n",
       "    <tr>\n",
       "      <th>1</th>\n",
       "      <td>event.session</td>\n",
       "      <td>287145</td>\n",
       "      <td>1390241844</td>\n",
       "      <td>{\"numtracks\":11,\"playtime\":2907} {\"subjects\":[...</td>\n",
       "      <td>NaN</td>\n",
       "    </tr>\n",
       "    <tr>\n",
       "      <th>2</th>\n",
       "      <td>event.session</td>\n",
       "      <td>287146</td>\n",
       "      <td>1390303249</td>\n",
       "      <td>{\"numtracks\":16,\"playtime\":3191} {\"subjects\":[...</td>\n",
       "      <td>NaN</td>\n",
       "    </tr>\n",
       "    <tr>\n",
       "      <th>3</th>\n",
       "      <td>event.session</td>\n",
       "      <td>287147</td>\n",
       "      <td>1390481828</td>\n",
       "      <td>{\"numtracks\":5,\"playtime\":1162} {\"subjects\":[{...</td>\n",
       "      <td>NaN</td>\n",
       "    </tr>\n",
       "    <tr>\n",
       "      <th>4</th>\n",
       "      <td>event.session</td>\n",
       "      <td>287140</td>\n",
       "      <td>1421443687</td>\n",
       "      <td>{\"numtracks\":2,\"playtime\":250} {\"subjects\":[{\"...</td>\n",
       "      <td>NaN</td>\n",
       "    </tr>\n",
       "  </tbody>\n",
       "</table>\n",
       "</div>"
      ],
      "text/plain": [
       "          object      id          ts  \\\n",
       "0  event.session  287144  1390231051   \n",
       "1  event.session  287145  1390241844   \n",
       "2  event.session  287146  1390303249   \n",
       "3  event.session  287147  1390481828   \n",
       "4  event.session  287140  1421443687   \n",
       "\n",
       "                                          properties  linked_entities  \n",
       "0  {\"numtracks\":23,\"playtime\":4547} {\"subjects\":[...              NaN  \n",
       "1  {\"numtracks\":11,\"playtime\":2907} {\"subjects\":[...              NaN  \n",
       "2  {\"numtracks\":16,\"playtime\":3191} {\"subjects\":[...              NaN  \n",
       "3  {\"numtracks\":5,\"playtime\":1162} {\"subjects\":[{...              NaN  \n",
       "4  {\"numtracks\":2,\"playtime\":250} {\"subjects\":[{\"...              NaN  "
      ]
     },
     "execution_count": 6,
     "metadata": {},
     "output_type": "execute_result"
    }
   ],
   "source": [
    "sessions_df = pd.read_csv(\"ThirtyMusic/relations/sessions.idomaar\",sep='\\t', \n",
    "                        names = ['object', 'id', 'ts', 'properties', 'linked_entities'])\n",
    "sessions_df.head()"
   ]
  },
  {
   "cell_type": "code",
   "execution_count": 7,
   "metadata": {},
   "outputs": [
    {
     "data": {
      "text/plain": [
       "(2764474, 5)"
      ]
     },
     "execution_count": 7,
     "metadata": {},
     "output_type": "execute_result"
    }
   ],
   "source": [
    "sessions_df.shape"
   ]
  },
  {
   "cell_type": "code",
   "execution_count": 8,
   "metadata": {},
   "outputs": [
    {
     "data": {
      "text/html": [
       "<div>\n",
       "<style scoped>\n",
       "    .dataframe tbody tr th:only-of-type {\n",
       "        vertical-align: middle;\n",
       "    }\n",
       "\n",
       "    .dataframe tbody tr th {\n",
       "        vertical-align: top;\n",
       "    }\n",
       "\n",
       "    .dataframe thead th {\n",
       "        text-align: right;\n",
       "    }\n",
       "</style>\n",
       "<table border=\"1\" class=\"dataframe\">\n",
       "  <thead>\n",
       "    <tr style=\"text-align: right;\">\n",
       "      <th></th>\n",
       "      <th>object</th>\n",
       "      <th>id</th>\n",
       "      <th>ts</th>\n",
       "      <th>properties</th>\n",
       "      <th>linked_entities</th>\n",
       "    </tr>\n",
       "  </thead>\n",
       "  <tbody>\n",
       "    <tr>\n",
       "      <th>0</th>\n",
       "      <td>event.session</td>\n",
       "      <td>287144</td>\n",
       "      <td>1390231051</td>\n",
       "      <td>{\"numtracks\":23,\"playtime\":4547}</td>\n",
       "      <td>{\"subjects\":[{\"type\":\"user\",\"id\":44361}],\"obje...</td>\n",
       "    </tr>\n",
       "    <tr>\n",
       "      <th>1</th>\n",
       "      <td>event.session</td>\n",
       "      <td>287145</td>\n",
       "      <td>1390241844</td>\n",
       "      <td>{\"numtracks\":11,\"playtime\":2907}</td>\n",
       "      <td>{\"subjects\":[{\"type\":\"user\",\"id\":44361}],\"obje...</td>\n",
       "    </tr>\n",
       "    <tr>\n",
       "      <th>2</th>\n",
       "      <td>event.session</td>\n",
       "      <td>287146</td>\n",
       "      <td>1390303249</td>\n",
       "      <td>{\"numtracks\":16,\"playtime\":3191}</td>\n",
       "      <td>{\"subjects\":[{\"type\":\"user\",\"id\":44361}],\"obje...</td>\n",
       "    </tr>\n",
       "    <tr>\n",
       "      <th>3</th>\n",
       "      <td>event.session</td>\n",
       "      <td>287147</td>\n",
       "      <td>1390481828</td>\n",
       "      <td>{\"numtracks\":5,\"playtime\":1162}</td>\n",
       "      <td>{\"subjects\":[{\"type\":\"user\",\"id\":44361}],\"obje...</td>\n",
       "    </tr>\n",
       "    <tr>\n",
       "      <th>4</th>\n",
       "      <td>event.session</td>\n",
       "      <td>287140</td>\n",
       "      <td>1421443687</td>\n",
       "      <td>{\"numtracks\":2,\"playtime\":250}</td>\n",
       "      <td>{\"subjects\":[{\"type\":\"user\",\"id\":42773}],\"obje...</td>\n",
       "    </tr>\n",
       "  </tbody>\n",
       "</table>\n",
       "</div>"
      ],
      "text/plain": [
       "          object      id          ts                        properties  \\\n",
       "0  event.session  287144  1390231051  {\"numtracks\":23,\"playtime\":4547}   \n",
       "1  event.session  287145  1390241844  {\"numtracks\":11,\"playtime\":2907}   \n",
       "2  event.session  287146  1390303249  {\"numtracks\":16,\"playtime\":3191}   \n",
       "3  event.session  287147  1390481828   {\"numtracks\":5,\"playtime\":1162}   \n",
       "4  event.session  287140  1421443687    {\"numtracks\":2,\"playtime\":250}   \n",
       "\n",
       "                                     linked_entities  \n",
       "0  {\"subjects\":[{\"type\":\"user\",\"id\":44361}],\"obje...  \n",
       "1  {\"subjects\":[{\"type\":\"user\",\"id\":44361}],\"obje...  \n",
       "2  {\"subjects\":[{\"type\":\"user\",\"id\":44361}],\"obje...  \n",
       "3  {\"subjects\":[{\"type\":\"user\",\"id\":44361}],\"obje...  \n",
       "4  {\"subjects\":[{\"type\":\"user\",\"id\":42773}],\"obje...  "
      ]
     },
     "execution_count": 8,
     "metadata": {},
     "output_type": "execute_result"
    }
   ],
   "source": [
    "#split 'properties' column in the sessions_df\n",
    "splitted = sessions_df['properties'].str.split(\" \", n = 1, expand = True)\n",
    "sessions_df['properties'] = splitted[0]\n",
    "sessions_df['linked_entities'] = splitted[1]\n",
    "sessions_df.head()"
   ]
  },
  {
   "cell_type": "markdown",
   "metadata": {},
   "source": [
    "### 2. Form user_id and track_id columns, create new sessions dataframe with these columns"
   ]
  },
  {
   "cell_type": "code",
   "execution_count": 9,
   "metadata": {},
   "outputs": [],
   "source": [
    "def extract_track_and_user(row):\n",
    "    '''Extracts user_id and track_id from sessions data'''\n",
    "    json_lst = json.loads(row['linked_entities'])\n",
    "    user_id = json_lst['subjects'][0]['id']\n",
    "    track_ids = [obj['id'] for obj in json_lst['objects']]\n",
    "    new_rows_dict = {\n",
    "                    'session_id' : row['id'],\n",
    "                    'ts': row['ts'],\n",
    "                    'user_id' : user_id,\n",
    "                    'track_id' : track_ids \n",
    "                   } \n",
    "    return pd.DataFrame(new_rows_dict)"
   ]
  },
  {
   "cell_type": "code",
   "execution_count": 15,
   "metadata": {},
   "outputs": [
    {
     "name": "stdout",
     "output_type": "stream",
     "text": [
      "CPU times: user 44min 42s, sys: 5min 35s, total: 50min 18s\n",
      "Wall time: 54min 36s\n"
     ]
    }
   ],
   "source": [
    "%%time\n",
    "#apply custom function to sessions_df, form new df\n",
    "new_sessions_df = pd.concat(list(sessions_df.apply(lambda row: extract_track_and_user(row), axis=1)))"
   ]
  },
  {
   "cell_type": "code",
   "execution_count": 16,
   "metadata": {},
   "outputs": [
    {
     "data": {
      "text/html": [
       "<div>\n",
       "<style scoped>\n",
       "    .dataframe tbody tr th:only-of-type {\n",
       "        vertical-align: middle;\n",
       "    }\n",
       "\n",
       "    .dataframe tbody tr th {\n",
       "        vertical-align: top;\n",
       "    }\n",
       "\n",
       "    .dataframe thead th {\n",
       "        text-align: right;\n",
       "    }\n",
       "</style>\n",
       "<table border=\"1\" class=\"dataframe\">\n",
       "  <thead>\n",
       "    <tr style=\"text-align: right;\">\n",
       "      <th></th>\n",
       "      <th>session_id</th>\n",
       "      <th>ts</th>\n",
       "      <th>user_id</th>\n",
       "      <th>track_id</th>\n",
       "    </tr>\n",
       "  </thead>\n",
       "  <tbody>\n",
       "    <tr>\n",
       "      <th>0</th>\n",
       "      <td>287144</td>\n",
       "      <td>1390231051</td>\n",
       "      <td>44361</td>\n",
       "      <td>4698874</td>\n",
       "    </tr>\n",
       "    <tr>\n",
       "      <th>1</th>\n",
       "      <td>287144</td>\n",
       "      <td>1390231051</td>\n",
       "      <td>44361</td>\n",
       "      <td>838286</td>\n",
       "    </tr>\n",
       "    <tr>\n",
       "      <th>2</th>\n",
       "      <td>287144</td>\n",
       "      <td>1390231051</td>\n",
       "      <td>44361</td>\n",
       "      <td>2588097</td>\n",
       "    </tr>\n",
       "    <tr>\n",
       "      <th>3</th>\n",
       "      <td>287144</td>\n",
       "      <td>1390231051</td>\n",
       "      <td>44361</td>\n",
       "      <td>2746740</td>\n",
       "    </tr>\n",
       "    <tr>\n",
       "      <th>4</th>\n",
       "      <td>287144</td>\n",
       "      <td>1390231051</td>\n",
       "      <td>44361</td>\n",
       "      <td>3873988</td>\n",
       "    </tr>\n",
       "    <tr>\n",
       "      <th>...</th>\n",
       "      <td>...</td>\n",
       "      <td>...</td>\n",
       "      <td>...</td>\n",
       "      <td>...</td>\n",
       "    </tr>\n",
       "    <tr>\n",
       "      <th>0</th>\n",
       "      <td>2480032</td>\n",
       "      <td>1407938059</td>\n",
       "      <td>33058</td>\n",
       "      <td>906373</td>\n",
       "    </tr>\n",
       "    <tr>\n",
       "      <th>0</th>\n",
       "      <td>2480033</td>\n",
       "      <td>1407939579</td>\n",
       "      <td>33058</td>\n",
       "      <td>512708</td>\n",
       "    </tr>\n",
       "    <tr>\n",
       "      <th>1</th>\n",
       "      <td>2480033</td>\n",
       "      <td>1407939579</td>\n",
       "      <td>33058</td>\n",
       "      <td>2672866</td>\n",
       "    </tr>\n",
       "    <tr>\n",
       "      <th>2</th>\n",
       "      <td>2480033</td>\n",
       "      <td>1407939579</td>\n",
       "      <td>33058</td>\n",
       "      <td>1558581</td>\n",
       "    </tr>\n",
       "    <tr>\n",
       "      <th>3</th>\n",
       "      <td>2480033</td>\n",
       "      <td>1407939579</td>\n",
       "      <td>33058</td>\n",
       "      <td>3293580</td>\n",
       "    </tr>\n",
       "  </tbody>\n",
       "</table>\n",
       "<p>31351945 rows × 4 columns</p>\n",
       "</div>"
      ],
      "text/plain": [
       "    session_id          ts  user_id  track_id\n",
       "0       287144  1390231051    44361   4698874\n",
       "1       287144  1390231051    44361    838286\n",
       "2       287144  1390231051    44361   2588097\n",
       "3       287144  1390231051    44361   2746740\n",
       "4       287144  1390231051    44361   3873988\n",
       "..         ...         ...      ...       ...\n",
       "0      2480032  1407938059    33058    906373\n",
       "0      2480033  1407939579    33058    512708\n",
       "1      2480033  1407939579    33058   2672866\n",
       "2      2480033  1407939579    33058   1558581\n",
       "3      2480033  1407939579    33058   3293580\n",
       "\n",
       "[31351945 rows x 4 columns]"
      ]
     },
     "execution_count": 16,
     "metadata": {},
     "output_type": "execute_result"
    }
   ],
   "source": [
    "new_sessions_df"
   ]
  },
  {
   "cell_type": "code",
   "execution_count": 17,
   "metadata": {},
   "outputs": [],
   "source": [
    "new_sessions_df = new_sessions_df.reset_index(drop=True)"
   ]
  },
  {
   "cell_type": "code",
   "execution_count": 18,
   "metadata": {},
   "outputs": [
    {
     "data": {
      "text/html": [
       "<div>\n",
       "<style scoped>\n",
       "    .dataframe tbody tr th:only-of-type {\n",
       "        vertical-align: middle;\n",
       "    }\n",
       "\n",
       "    .dataframe tbody tr th {\n",
       "        vertical-align: top;\n",
       "    }\n",
       "\n",
       "    .dataframe thead th {\n",
       "        text-align: right;\n",
       "    }\n",
       "</style>\n",
       "<table border=\"1\" class=\"dataframe\">\n",
       "  <thead>\n",
       "    <tr style=\"text-align: right;\">\n",
       "      <th></th>\n",
       "      <th>session_id</th>\n",
       "      <th>ts</th>\n",
       "      <th>user_id</th>\n",
       "      <th>track_id</th>\n",
       "    </tr>\n",
       "  </thead>\n",
       "  <tbody>\n",
       "    <tr>\n",
       "      <th>0</th>\n",
       "      <td>287144</td>\n",
       "      <td>1390231051</td>\n",
       "      <td>44361</td>\n",
       "      <td>4698874</td>\n",
       "    </tr>\n",
       "    <tr>\n",
       "      <th>1</th>\n",
       "      <td>287144</td>\n",
       "      <td>1390231051</td>\n",
       "      <td>44361</td>\n",
       "      <td>838286</td>\n",
       "    </tr>\n",
       "    <tr>\n",
       "      <th>2</th>\n",
       "      <td>287144</td>\n",
       "      <td>1390231051</td>\n",
       "      <td>44361</td>\n",
       "      <td>2588097</td>\n",
       "    </tr>\n",
       "    <tr>\n",
       "      <th>3</th>\n",
       "      <td>287144</td>\n",
       "      <td>1390231051</td>\n",
       "      <td>44361</td>\n",
       "      <td>2746740</td>\n",
       "    </tr>\n",
       "    <tr>\n",
       "      <th>4</th>\n",
       "      <td>287144</td>\n",
       "      <td>1390231051</td>\n",
       "      <td>44361</td>\n",
       "      <td>3873988</td>\n",
       "    </tr>\n",
       "    <tr>\n",
       "      <th>...</th>\n",
       "      <td>...</td>\n",
       "      <td>...</td>\n",
       "      <td>...</td>\n",
       "      <td>...</td>\n",
       "    </tr>\n",
       "    <tr>\n",
       "      <th>31351940</th>\n",
       "      <td>2480032</td>\n",
       "      <td>1407938059</td>\n",
       "      <td>33058</td>\n",
       "      <td>906373</td>\n",
       "    </tr>\n",
       "    <tr>\n",
       "      <th>31351941</th>\n",
       "      <td>2480033</td>\n",
       "      <td>1407939579</td>\n",
       "      <td>33058</td>\n",
       "      <td>512708</td>\n",
       "    </tr>\n",
       "    <tr>\n",
       "      <th>31351942</th>\n",
       "      <td>2480033</td>\n",
       "      <td>1407939579</td>\n",
       "      <td>33058</td>\n",
       "      <td>2672866</td>\n",
       "    </tr>\n",
       "    <tr>\n",
       "      <th>31351943</th>\n",
       "      <td>2480033</td>\n",
       "      <td>1407939579</td>\n",
       "      <td>33058</td>\n",
       "      <td>1558581</td>\n",
       "    </tr>\n",
       "    <tr>\n",
       "      <th>31351944</th>\n",
       "      <td>2480033</td>\n",
       "      <td>1407939579</td>\n",
       "      <td>33058</td>\n",
       "      <td>3293580</td>\n",
       "    </tr>\n",
       "  </tbody>\n",
       "</table>\n",
       "<p>31351945 rows × 4 columns</p>\n",
       "</div>"
      ],
      "text/plain": [
       "          session_id          ts  user_id  track_id\n",
       "0             287144  1390231051    44361   4698874\n",
       "1             287144  1390231051    44361    838286\n",
       "2             287144  1390231051    44361   2588097\n",
       "3             287144  1390231051    44361   2746740\n",
       "4             287144  1390231051    44361   3873988\n",
       "...              ...         ...      ...       ...\n",
       "31351940     2480032  1407938059    33058    906373\n",
       "31351941     2480033  1407939579    33058    512708\n",
       "31351942     2480033  1407939579    33058   2672866\n",
       "31351943     2480033  1407939579    33058   1558581\n",
       "31351944     2480033  1407939579    33058   3293580\n",
       "\n",
       "[31351945 rows x 4 columns]"
      ]
     },
     "execution_count": 18,
     "metadata": {},
     "output_type": "execute_result"
    }
   ],
   "source": [
    "new_sessions_df"
   ]
  },
  {
   "cell_type": "code",
   "execution_count": 19,
   "metadata": {},
   "outputs": [],
   "source": [
    "#save new sessions df to pickle\n",
    "new_sessions_df.to_pickle('data/new_sessions_df.pickle')"
   ]
  },
  {
   "cell_type": "markdown",
   "metadata": {},
   "source": [
    "### 3. Form person_id column, create new tracks dataframe with this column"
   ]
  },
  {
   "cell_type": "code",
   "execution_count": 20,
   "metadata": {},
   "outputs": [],
   "source": [
    "def extract_person(row):\n",
    "    json_lst = json.loads(row['linked_entities'])\n",
    "    person_id = json_lst['artists'][0]['id']\n",
    "\n",
    "    new_rows_dict = {\n",
    "                    'track_id' : row['id'],\n",
    "                    'person_id' : person_id,\n",
    "                   } \n",
    "    return new_rows_dict"
   ]
  },
  {
   "cell_type": "code",
   "execution_count": 21,
   "metadata": {},
   "outputs": [
    {
     "name": "stdout",
     "output_type": "stream",
     "text": [
      "CPU times: user 2min 22s, sys: 12.3 s, total: 2min 34s\n",
      "Wall time: 2min 37s\n"
     ]
    }
   ],
   "source": [
    "%%time\n",
    "new_tracks_df = pd.DataFrame(list(tracks_df.apply(lambda row: extract_person(row), axis=1)))"
   ]
  },
  {
   "cell_type": "code",
   "execution_count": 22,
   "metadata": {},
   "outputs": [],
   "source": [
    "new_tracks_df = new_tracks_df.drop_duplicates()"
   ]
  },
  {
   "cell_type": "code",
   "execution_count": 23,
   "metadata": {},
   "outputs": [
    {
     "data": {
      "text/html": [
       "<div>\n",
       "<style scoped>\n",
       "    .dataframe tbody tr th:only-of-type {\n",
       "        vertical-align: middle;\n",
       "    }\n",
       "\n",
       "    .dataframe tbody tr th {\n",
       "        vertical-align: top;\n",
       "    }\n",
       "\n",
       "    .dataframe thead th {\n",
       "        text-align: right;\n",
       "    }\n",
       "</style>\n",
       "<table border=\"1\" class=\"dataframe\">\n",
       "  <thead>\n",
       "    <tr style=\"text-align: right;\">\n",
       "      <th></th>\n",
       "      <th>track_id</th>\n",
       "      <th>person_id</th>\n",
       "    </tr>\n",
       "  </thead>\n",
       "  <tbody>\n",
       "    <tr>\n",
       "      <th>0</th>\n",
       "      <td>0</td>\n",
       "      <td>0</td>\n",
       "    </tr>\n",
       "    <tr>\n",
       "      <th>1</th>\n",
       "      <td>1</td>\n",
       "      <td>1</td>\n",
       "    </tr>\n",
       "    <tr>\n",
       "      <th>2</th>\n",
       "      <td>2</td>\n",
       "      <td>2</td>\n",
       "    </tr>\n",
       "    <tr>\n",
       "      <th>3</th>\n",
       "      <td>3</td>\n",
       "      <td>3</td>\n",
       "    </tr>\n",
       "    <tr>\n",
       "      <th>4</th>\n",
       "      <td>4</td>\n",
       "      <td>4</td>\n",
       "    </tr>\n",
       "    <tr>\n",
       "      <th>...</th>\n",
       "      <td>...</td>\n",
       "      <td>...</td>\n",
       "    </tr>\n",
       "    <tr>\n",
       "      <th>5675137</th>\n",
       "      <td>5023104</td>\n",
       "      <td>595139</td>\n",
       "    </tr>\n",
       "    <tr>\n",
       "      <th>5675138</th>\n",
       "      <td>5023105</td>\n",
       "      <td>187223</td>\n",
       "    </tr>\n",
       "    <tr>\n",
       "      <th>5675140</th>\n",
       "      <td>5023106</td>\n",
       "      <td>595140</td>\n",
       "    </tr>\n",
       "    <tr>\n",
       "      <th>5675141</th>\n",
       "      <td>5023107</td>\n",
       "      <td>549669</td>\n",
       "    </tr>\n",
       "    <tr>\n",
       "      <th>5675142</th>\n",
       "      <td>5023108</td>\n",
       "      <td>272336</td>\n",
       "    </tr>\n",
       "  </tbody>\n",
       "</table>\n",
       "<p>4519319 rows × 2 columns</p>\n",
       "</div>"
      ],
      "text/plain": [
       "         track_id  person_id\n",
       "0               0          0\n",
       "1               1          1\n",
       "2               2          2\n",
       "3               3          3\n",
       "4               4          4\n",
       "...           ...        ...\n",
       "5675137   5023104     595139\n",
       "5675138   5023105     187223\n",
       "5675140   5023106     595140\n",
       "5675141   5023107     549669\n",
       "5675142   5023108     272336\n",
       "\n",
       "[4519319 rows x 2 columns]"
      ]
     },
     "execution_count": 23,
     "metadata": {},
     "output_type": "execute_result"
    }
   ],
   "source": [
    "new_tracks_df"
   ]
  },
  {
   "cell_type": "code",
   "execution_count": 24,
   "metadata": {},
   "outputs": [],
   "source": [
    "new_tracks_df.to_pickle('data/new_tracks_df.pickle')"
   ]
  },
  {
   "cell_type": "markdown",
   "metadata": {},
   "source": [
    "### 4. Merge new sessions and tracks dataframes"
   ]
  },
  {
   "cell_type": "code",
   "execution_count": 3,
   "metadata": {},
   "outputs": [],
   "source": [
    "new_sessions_df = pd.read_pickle('data/new_sessions_df.pickle')\n",
    "new_tracks_df = pd.read_pickle('data/new_tracks_df.pickle')"
   ]
  },
  {
   "cell_type": "code",
   "execution_count": 4,
   "metadata": {},
   "outputs": [
    {
     "data": {
      "text/plain": [
       "(31351945, 4)"
      ]
     },
     "execution_count": 4,
     "metadata": {},
     "output_type": "execute_result"
    }
   ],
   "source": [
    "new_sessions_df.shape"
   ]
  },
  {
   "cell_type": "code",
   "execution_count": 5,
   "metadata": {},
   "outputs": [
    {
     "data": {
      "text/plain": [
       "(4519319, 2)"
      ]
     },
     "execution_count": 5,
     "metadata": {},
     "output_type": "execute_result"
    }
   ],
   "source": [
    "new_tracks_df.shape"
   ]
  },
  {
   "cell_type": "code",
   "execution_count": 6,
   "metadata": {},
   "outputs": [
    {
     "data": {
      "text/plain": [
       "1744350    2\n",
       "976246     2\n",
       "94083      2\n",
       "151793     2\n",
       "915661     2\n",
       "          ..\n",
       "3325182    1\n",
       "3321084    1\n",
       "3316986    1\n",
       "3312888    1\n",
       "0          1\n",
       "Name: track_id, Length: 4519105, dtype: int64"
      ]
     },
     "execution_count": 6,
     "metadata": {},
     "output_type": "execute_result"
    }
   ],
   "source": [
    "new_tracks_df['track_id'].value_counts()"
   ]
  },
  {
   "cell_type": "code",
   "execution_count": 7,
   "metadata": {},
   "outputs": [],
   "source": [
    "merged_df = new_sessions_df.merge(new_tracks_df, on=['track_id'], how='inner', copy = False)"
   ]
  },
  {
   "cell_type": "code",
   "execution_count": 8,
   "metadata": {},
   "outputs": [
    {
     "data": {
      "text/html": [
       "<div>\n",
       "<style scoped>\n",
       "    .dataframe tbody tr th:only-of-type {\n",
       "        vertical-align: middle;\n",
       "    }\n",
       "\n",
       "    .dataframe tbody tr th {\n",
       "        vertical-align: top;\n",
       "    }\n",
       "\n",
       "    .dataframe thead th {\n",
       "        text-align: right;\n",
       "    }\n",
       "</style>\n",
       "<table border=\"1\" class=\"dataframe\">\n",
       "  <thead>\n",
       "    <tr style=\"text-align: right;\">\n",
       "      <th></th>\n",
       "      <th>session_id</th>\n",
       "      <th>ts</th>\n",
       "      <th>user_id</th>\n",
       "      <th>track_id</th>\n",
       "      <th>person_id</th>\n",
       "    </tr>\n",
       "  </thead>\n",
       "  <tbody>\n",
       "    <tr>\n",
       "      <th>0</th>\n",
       "      <td>287144</td>\n",
       "      <td>1390231051</td>\n",
       "      <td>44361</td>\n",
       "      <td>4698874</td>\n",
       "      <td>142266</td>\n",
       "    </tr>\n",
       "    <tr>\n",
       "      <th>1</th>\n",
       "      <td>287144</td>\n",
       "      <td>1390231051</td>\n",
       "      <td>44361</td>\n",
       "      <td>838286</td>\n",
       "      <td>107103</td>\n",
       "    </tr>\n",
       "    <tr>\n",
       "      <th>2</th>\n",
       "      <td>982046</td>\n",
       "      <td>1405452797</td>\n",
       "      <td>32894</td>\n",
       "      <td>838286</td>\n",
       "      <td>107103</td>\n",
       "    </tr>\n",
       "    <tr>\n",
       "      <th>3</th>\n",
       "      <td>982049</td>\n",
       "      <td>1405702985</td>\n",
       "      <td>32894</td>\n",
       "      <td>838286</td>\n",
       "      <td>107103</td>\n",
       "    </tr>\n",
       "    <tr>\n",
       "      <th>4</th>\n",
       "      <td>1873088</td>\n",
       "      <td>1406217037</td>\n",
       "      <td>23183</td>\n",
       "      <td>838286</td>\n",
       "      <td>107103</td>\n",
       "    </tr>\n",
       "  </tbody>\n",
       "</table>\n",
       "</div>"
      ],
      "text/plain": [
       "   session_id          ts  user_id  track_id  person_id\n",
       "0      287144  1390231051    44361   4698874     142266\n",
       "1      287144  1390231051    44361    838286     107103\n",
       "2      982046  1405452797    32894    838286     107103\n",
       "3      982049  1405702985    32894    838286     107103\n",
       "4     1873088  1406217037    23183    838286     107103"
      ]
     },
     "execution_count": 8,
     "metadata": {},
     "output_type": "execute_result"
    }
   ],
   "source": [
    "merged_df.head()"
   ]
  },
  {
   "cell_type": "code",
   "execution_count": 9,
   "metadata": {},
   "outputs": [
    {
     "data": {
      "text/plain": [
       "(31376602, 5)"
      ]
     },
     "execution_count": 9,
     "metadata": {},
     "output_type": "execute_result"
    }
   ],
   "source": [
    "merged_df.shape"
   ]
  },
  {
   "cell_type": "code",
   "execution_count": 10,
   "metadata": {},
   "outputs": [],
   "source": [
    "merged_df.to_pickle('data/merged_df.pickle')"
   ]
  },
  {
   "cell_type": "markdown",
   "metadata": {},
   "source": [
    "### 5. Timestamp to date and time"
   ]
  },
  {
   "cell_type": "code",
   "execution_count": 11,
   "metadata": {},
   "outputs": [],
   "source": [
    "#%%time\n",
    "date_time = pd.to_datetime(merged_df['ts'], unit = 's').astype(str).str.split(\" \", n = 1, expand = True)"
   ]
  },
  {
   "cell_type": "code",
   "execution_count": 12,
   "metadata": {},
   "outputs": [],
   "source": [
    "merged_df['date'] = date_time[0]\n",
    "merged_df['time'] = date_time[1]"
   ]
  },
  {
   "cell_type": "code",
   "execution_count": 13,
   "metadata": {},
   "outputs": [
    {
     "data": {
      "text/html": [
       "<div>\n",
       "<style scoped>\n",
       "    .dataframe tbody tr th:only-of-type {\n",
       "        vertical-align: middle;\n",
       "    }\n",
       "\n",
       "    .dataframe tbody tr th {\n",
       "        vertical-align: top;\n",
       "    }\n",
       "\n",
       "    .dataframe thead th {\n",
       "        text-align: right;\n",
       "    }\n",
       "</style>\n",
       "<table border=\"1\" class=\"dataframe\">\n",
       "  <thead>\n",
       "    <tr style=\"text-align: right;\">\n",
       "      <th></th>\n",
       "      <th>session_id</th>\n",
       "      <th>ts</th>\n",
       "      <th>user_id</th>\n",
       "      <th>track_id</th>\n",
       "      <th>person_id</th>\n",
       "      <th>date</th>\n",
       "      <th>time</th>\n",
       "    </tr>\n",
       "  </thead>\n",
       "  <tbody>\n",
       "    <tr>\n",
       "      <th>0</th>\n",
       "      <td>287144</td>\n",
       "      <td>1390231051</td>\n",
       "      <td>44361</td>\n",
       "      <td>4698874</td>\n",
       "      <td>142266</td>\n",
       "      <td>2014-01-20</td>\n",
       "      <td>15:17:31</td>\n",
       "    </tr>\n",
       "    <tr>\n",
       "      <th>1</th>\n",
       "      <td>287144</td>\n",
       "      <td>1390231051</td>\n",
       "      <td>44361</td>\n",
       "      <td>838286</td>\n",
       "      <td>107103</td>\n",
       "      <td>2014-01-20</td>\n",
       "      <td>15:17:31</td>\n",
       "    </tr>\n",
       "    <tr>\n",
       "      <th>2</th>\n",
       "      <td>982046</td>\n",
       "      <td>1405452797</td>\n",
       "      <td>32894</td>\n",
       "      <td>838286</td>\n",
       "      <td>107103</td>\n",
       "      <td>2014-07-15</td>\n",
       "      <td>19:33:17</td>\n",
       "    </tr>\n",
       "    <tr>\n",
       "      <th>3</th>\n",
       "      <td>982049</td>\n",
       "      <td>1405702985</td>\n",
       "      <td>32894</td>\n",
       "      <td>838286</td>\n",
       "      <td>107103</td>\n",
       "      <td>2014-07-18</td>\n",
       "      <td>17:03:05</td>\n",
       "    </tr>\n",
       "    <tr>\n",
       "      <th>4</th>\n",
       "      <td>1873088</td>\n",
       "      <td>1406217037</td>\n",
       "      <td>23183</td>\n",
       "      <td>838286</td>\n",
       "      <td>107103</td>\n",
       "      <td>2014-07-24</td>\n",
       "      <td>15:50:37</td>\n",
       "    </tr>\n",
       "    <tr>\n",
       "      <th>...</th>\n",
       "      <td>...</td>\n",
       "      <td>...</td>\n",
       "      <td>...</td>\n",
       "      <td>...</td>\n",
       "      <td>...</td>\n",
       "      <td>...</td>\n",
       "      <td>...</td>\n",
       "    </tr>\n",
       "    <tr>\n",
       "      <th>31376597</th>\n",
       "      <td>540638</td>\n",
       "      <td>1415960966</td>\n",
       "      <td>24700</td>\n",
       "      <td>2564433</td>\n",
       "      <td>321698</td>\n",
       "      <td>2014-11-14</td>\n",
       "      <td>10:29:26</td>\n",
       "    </tr>\n",
       "    <tr>\n",
       "      <th>31376598</th>\n",
       "      <td>540638</td>\n",
       "      <td>1415960966</td>\n",
       "      <td>24700</td>\n",
       "      <td>2602587</td>\n",
       "      <td>325968</td>\n",
       "      <td>2014-11-14</td>\n",
       "      <td>10:29:26</td>\n",
       "    </tr>\n",
       "    <tr>\n",
       "      <th>31376599</th>\n",
       "      <td>540638</td>\n",
       "      <td>1415960966</td>\n",
       "      <td>24700</td>\n",
       "      <td>720394</td>\n",
       "      <td>87396</td>\n",
       "      <td>2014-11-14</td>\n",
       "      <td>10:29:26</td>\n",
       "    </tr>\n",
       "    <tr>\n",
       "      <th>31376600</th>\n",
       "      <td>540638</td>\n",
       "      <td>1415960966</td>\n",
       "      <td>24700</td>\n",
       "      <td>720401</td>\n",
       "      <td>87396</td>\n",
       "      <td>2014-11-14</td>\n",
       "      <td>10:29:26</td>\n",
       "    </tr>\n",
       "    <tr>\n",
       "      <th>31376601</th>\n",
       "      <td>540638</td>\n",
       "      <td>1415960966</td>\n",
       "      <td>24700</td>\n",
       "      <td>171242</td>\n",
       "      <td>22273</td>\n",
       "      <td>2014-11-14</td>\n",
       "      <td>10:29:26</td>\n",
       "    </tr>\n",
       "  </tbody>\n",
       "</table>\n",
       "<p>31376602 rows × 7 columns</p>\n",
       "</div>"
      ],
      "text/plain": [
       "          session_id          ts  user_id  track_id  person_id        date  \\\n",
       "0             287144  1390231051    44361   4698874     142266  2014-01-20   \n",
       "1             287144  1390231051    44361    838286     107103  2014-01-20   \n",
       "2             982046  1405452797    32894    838286     107103  2014-07-15   \n",
       "3             982049  1405702985    32894    838286     107103  2014-07-18   \n",
       "4            1873088  1406217037    23183    838286     107103  2014-07-24   \n",
       "...              ...         ...      ...       ...        ...         ...   \n",
       "31376597      540638  1415960966    24700   2564433     321698  2014-11-14   \n",
       "31376598      540638  1415960966    24700   2602587     325968  2014-11-14   \n",
       "31376599      540638  1415960966    24700    720394      87396  2014-11-14   \n",
       "31376600      540638  1415960966    24700    720401      87396  2014-11-14   \n",
       "31376601      540638  1415960966    24700    171242      22273  2014-11-14   \n",
       "\n",
       "              time  \n",
       "0         15:17:31  \n",
       "1         15:17:31  \n",
       "2         19:33:17  \n",
       "3         17:03:05  \n",
       "4         15:50:37  \n",
       "...            ...  \n",
       "31376597  10:29:26  \n",
       "31376598  10:29:26  \n",
       "31376599  10:29:26  \n",
       "31376600  10:29:26  \n",
       "31376601  10:29:26  \n",
       "\n",
       "[31376602 rows x 7 columns]"
      ]
     },
     "execution_count": 13,
     "metadata": {},
     "output_type": "execute_result"
    }
   ],
   "source": [
    "merged_df"
   ]
  },
  {
   "cell_type": "code",
   "execution_count": 14,
   "metadata": {},
   "outputs": [],
   "source": [
    "merged_df.to_pickle('data/merged_df_datetime.pickle')"
   ]
  },
  {
   "cell_type": "markdown",
   "metadata": {},
   "source": [
    "### 6. Get artists dictionary (person_id: name)"
   ]
  },
  {
   "cell_type": "code",
   "execution_count": 3,
   "metadata": {},
   "outputs": [
    {
     "data": {
      "text/html": [
       "<div>\n",
       "<style scoped>\n",
       "    .dataframe tbody tr th:only-of-type {\n",
       "        vertical-align: middle;\n",
       "    }\n",
       "\n",
       "    .dataframe tbody tr th {\n",
       "        vertical-align: top;\n",
       "    }\n",
       "\n",
       "    .dataframe thead th {\n",
       "        text-align: right;\n",
       "    }\n",
       "</style>\n",
       "<table border=\"1\" class=\"dataframe\">\n",
       "  <thead>\n",
       "    <tr style=\"text-align: right;\">\n",
       "      <th></th>\n",
       "      <th>object</th>\n",
       "      <th>id</th>\n",
       "      <th>ts</th>\n",
       "      <th>properties</th>\n",
       "      <th>linked_entities</th>\n",
       "    </tr>\n",
       "  </thead>\n",
       "  <tbody>\n",
       "    <tr>\n",
       "      <th>0</th>\n",
       "      <td>person</td>\n",
       "      <td>145148</td>\n",
       "      <td>-1</td>\n",
       "      <td>{\"MBID\":null, \"name\":\"Everything+Is+Illuminated\"}</td>\n",
       "      <td>{}</td>\n",
       "    </tr>\n",
       "    <tr>\n",
       "      <th>1</th>\n",
       "      <td>person</td>\n",
       "      <td>297899</td>\n",
       "      <td>-1</td>\n",
       "      <td>{\"MBID\":null, \"name\":\"Robin+O%27Brien\"}</td>\n",
       "      <td>{}</td>\n",
       "    </tr>\n",
       "    <tr>\n",
       "      <th>2</th>\n",
       "      <td>person</td>\n",
       "      <td>250429</td>\n",
       "      <td>-1</td>\n",
       "      <td>{\"MBID\":null, \"name\":\"Nicholas+Gunn++(2012)\"}</td>\n",
       "      <td>{}</td>\n",
       "    </tr>\n",
       "    <tr>\n",
       "      <th>3</th>\n",
       "      <td>person</td>\n",
       "      <td>32765</td>\n",
       "      <td>-1</td>\n",
       "      <td>{\"MBID\":null, \"name\":\"Aspasia+Stratigou\"}</td>\n",
       "      <td>{}</td>\n",
       "    </tr>\n",
       "    <tr>\n",
       "      <th>4</th>\n",
       "      <td>person</td>\n",
       "      <td>18689</td>\n",
       "      <td>-1</td>\n",
       "      <td>{\"MBID\":null, \"name\":\"Allison+Veltz\"}</td>\n",
       "      <td>{}</td>\n",
       "    </tr>\n",
       "    <tr>\n",
       "      <th>...</th>\n",
       "      <td>...</td>\n",
       "      <td>...</td>\n",
       "      <td>...</td>\n",
       "      <td>...</td>\n",
       "      <td>...</td>\n",
       "    </tr>\n",
       "    <tr>\n",
       "      <th>595044</th>\n",
       "      <td>person</td>\n",
       "      <td>544215</td>\n",
       "      <td>-1</td>\n",
       "      <td>{\"MBID\":null, \"name\":\"Sanaa+Kariakoo\"}</td>\n",
       "      <td>{}</td>\n",
       "    </tr>\n",
       "    <tr>\n",
       "      <th>595045</th>\n",
       "      <td>person</td>\n",
       "      <td>298403</td>\n",
       "      <td>-1</td>\n",
       "      <td>{\"MBID\":null, \"name\":\"Rock-a-teens\"}</td>\n",
       "      <td>{}</td>\n",
       "    </tr>\n",
       "    <tr>\n",
       "      <th>595046</th>\n",
       "      <td>person</td>\n",
       "      <td>450896</td>\n",
       "      <td>-1</td>\n",
       "      <td>{\"MBID\":null, \"name\":\"Jennifer+Lopez+Ft.+DJ+Mu...</td>\n",
       "      <td>{}</td>\n",
       "    </tr>\n",
       "    <tr>\n",
       "      <th>595047</th>\n",
       "      <td>person</td>\n",
       "      <td>53831</td>\n",
       "      <td>-1</td>\n",
       "      <td>{\"MBID\":null, \"name\":\"Bobby+Sanabria+Conductin...</td>\n",
       "      <td>{}</td>\n",
       "    </tr>\n",
       "    <tr>\n",
       "      <th>595048</th>\n",
       "      <td>person</td>\n",
       "      <td>526710</td>\n",
       "      <td>-1</td>\n",
       "      <td>{\"MBID\":null, \"name\":\"Montserrat+Figueras,+Jor...</td>\n",
       "      <td>{}</td>\n",
       "    </tr>\n",
       "  </tbody>\n",
       "</table>\n",
       "<p>595049 rows × 5 columns</p>\n",
       "</div>"
      ],
      "text/plain": [
       "        object      id  ts                                         properties  \\\n",
       "0       person  145148  -1  {\"MBID\":null, \"name\":\"Everything+Is+Illuminated\"}   \n",
       "1       person  297899  -1            {\"MBID\":null, \"name\":\"Robin+O%27Brien\"}   \n",
       "2       person  250429  -1      {\"MBID\":null, \"name\":\"Nicholas+Gunn++(2012)\"}   \n",
       "3       person   32765  -1          {\"MBID\":null, \"name\":\"Aspasia+Stratigou\"}   \n",
       "4       person   18689  -1              {\"MBID\":null, \"name\":\"Allison+Veltz\"}   \n",
       "...        ...     ...  ..                                                ...   \n",
       "595044  person  544215  -1             {\"MBID\":null, \"name\":\"Sanaa+Kariakoo\"}   \n",
       "595045  person  298403  -1               {\"MBID\":null, \"name\":\"Rock-a-teens\"}   \n",
       "595046  person  450896  -1  {\"MBID\":null, \"name\":\"Jennifer+Lopez+Ft.+DJ+Mu...   \n",
       "595047  person   53831  -1  {\"MBID\":null, \"name\":\"Bobby+Sanabria+Conductin...   \n",
       "595048  person  526710  -1  {\"MBID\":null, \"name\":\"Montserrat+Figueras,+Jor...   \n",
       "\n",
       "       linked_entities  \n",
       "0                   {}  \n",
       "1                   {}  \n",
       "2                   {}  \n",
       "3                   {}  \n",
       "4                   {}  \n",
       "...                ...  \n",
       "595044              {}  \n",
       "595045              {}  \n",
       "595046              {}  \n",
       "595047              {}  \n",
       "595048              {}  \n",
       "\n",
       "[595049 rows x 5 columns]"
      ]
     },
     "execution_count": 3,
     "metadata": {},
     "output_type": "execute_result"
    }
   ],
   "source": [
    "people_df"
   ]
  },
  {
   "cell_type": "code",
   "execution_count": 4,
   "metadata": {},
   "outputs": [],
   "source": [
    "people_df = people_df.drop_duplicates(subset=['id'], keep = 'first')"
   ]
  },
  {
   "cell_type": "code",
   "execution_count": 5,
   "metadata": {},
   "outputs": [
    {
     "data": {
      "text/html": [
       "<div>\n",
       "<style scoped>\n",
       "    .dataframe tbody tr th:only-of-type {\n",
       "        vertical-align: middle;\n",
       "    }\n",
       "\n",
       "    .dataframe tbody tr th {\n",
       "        vertical-align: top;\n",
       "    }\n",
       "\n",
       "    .dataframe thead th {\n",
       "        text-align: right;\n",
       "    }\n",
       "</style>\n",
       "<table border=\"1\" class=\"dataframe\">\n",
       "  <thead>\n",
       "    <tr style=\"text-align: right;\">\n",
       "      <th></th>\n",
       "      <th>object</th>\n",
       "      <th>id</th>\n",
       "      <th>ts</th>\n",
       "      <th>properties</th>\n",
       "      <th>linked_entities</th>\n",
       "    </tr>\n",
       "  </thead>\n",
       "  <tbody>\n",
       "    <tr>\n",
       "      <th>0</th>\n",
       "      <td>person</td>\n",
       "      <td>145148</td>\n",
       "      <td>-1</td>\n",
       "      <td>{\"MBID\":null, \"name\":\"Everything+Is+Illuminated\"}</td>\n",
       "      <td>{}</td>\n",
       "    </tr>\n",
       "    <tr>\n",
       "      <th>1</th>\n",
       "      <td>person</td>\n",
       "      <td>297899</td>\n",
       "      <td>-1</td>\n",
       "      <td>{\"MBID\":null, \"name\":\"Robin+O%27Brien\"}</td>\n",
       "      <td>{}</td>\n",
       "    </tr>\n",
       "    <tr>\n",
       "      <th>2</th>\n",
       "      <td>person</td>\n",
       "      <td>250429</td>\n",
       "      <td>-1</td>\n",
       "      <td>{\"MBID\":null, \"name\":\"Nicholas+Gunn++(2012)\"}</td>\n",
       "      <td>{}</td>\n",
       "    </tr>\n",
       "    <tr>\n",
       "      <th>3</th>\n",
       "      <td>person</td>\n",
       "      <td>32765</td>\n",
       "      <td>-1</td>\n",
       "      <td>{\"MBID\":null, \"name\":\"Aspasia+Stratigou\"}</td>\n",
       "      <td>{}</td>\n",
       "    </tr>\n",
       "    <tr>\n",
       "      <th>4</th>\n",
       "      <td>person</td>\n",
       "      <td>18689</td>\n",
       "      <td>-1</td>\n",
       "      <td>{\"MBID\":null, \"name\":\"Allison+Veltz\"}</td>\n",
       "      <td>{}</td>\n",
       "    </tr>\n",
       "    <tr>\n",
       "      <th>...</th>\n",
       "      <td>...</td>\n",
       "      <td>...</td>\n",
       "      <td>...</td>\n",
       "      <td>...</td>\n",
       "      <td>...</td>\n",
       "    </tr>\n",
       "    <tr>\n",
       "      <th>595044</th>\n",
       "      <td>person</td>\n",
       "      <td>544215</td>\n",
       "      <td>-1</td>\n",
       "      <td>{\"MBID\":null, \"name\":\"Sanaa+Kariakoo\"}</td>\n",
       "      <td>{}</td>\n",
       "    </tr>\n",
       "    <tr>\n",
       "      <th>595045</th>\n",
       "      <td>person</td>\n",
       "      <td>298403</td>\n",
       "      <td>-1</td>\n",
       "      <td>{\"MBID\":null, \"name\":\"Rock-a-teens\"}</td>\n",
       "      <td>{}</td>\n",
       "    </tr>\n",
       "    <tr>\n",
       "      <th>595046</th>\n",
       "      <td>person</td>\n",
       "      <td>450896</td>\n",
       "      <td>-1</td>\n",
       "      <td>{\"MBID\":null, \"name\":\"Jennifer+Lopez+Ft.+DJ+Mu...</td>\n",
       "      <td>{}</td>\n",
       "    </tr>\n",
       "    <tr>\n",
       "      <th>595047</th>\n",
       "      <td>person</td>\n",
       "      <td>53831</td>\n",
       "      <td>-1</td>\n",
       "      <td>{\"MBID\":null, \"name\":\"Bobby+Sanabria+Conductin...</td>\n",
       "      <td>{}</td>\n",
       "    </tr>\n",
       "    <tr>\n",
       "      <th>595048</th>\n",
       "      <td>person</td>\n",
       "      <td>526710</td>\n",
       "      <td>-1</td>\n",
       "      <td>{\"MBID\":null, \"name\":\"Montserrat+Figueras,+Jor...</td>\n",
       "      <td>{}</td>\n",
       "    </tr>\n",
       "  </tbody>\n",
       "</table>\n",
       "<p>560927 rows × 5 columns</p>\n",
       "</div>"
      ],
      "text/plain": [
       "        object      id  ts                                         properties  \\\n",
       "0       person  145148  -1  {\"MBID\":null, \"name\":\"Everything+Is+Illuminated\"}   \n",
       "1       person  297899  -1            {\"MBID\":null, \"name\":\"Robin+O%27Brien\"}   \n",
       "2       person  250429  -1      {\"MBID\":null, \"name\":\"Nicholas+Gunn++(2012)\"}   \n",
       "3       person   32765  -1          {\"MBID\":null, \"name\":\"Aspasia+Stratigou\"}   \n",
       "4       person   18689  -1              {\"MBID\":null, \"name\":\"Allison+Veltz\"}   \n",
       "...        ...     ...  ..                                                ...   \n",
       "595044  person  544215  -1             {\"MBID\":null, \"name\":\"Sanaa+Kariakoo\"}   \n",
       "595045  person  298403  -1               {\"MBID\":null, \"name\":\"Rock-a-teens\"}   \n",
       "595046  person  450896  -1  {\"MBID\":null, \"name\":\"Jennifer+Lopez+Ft.+DJ+Mu...   \n",
       "595047  person   53831  -1  {\"MBID\":null, \"name\":\"Bobby+Sanabria+Conductin...   \n",
       "595048  person  526710  -1  {\"MBID\":null, \"name\":\"Montserrat+Figueras,+Jor...   \n",
       "\n",
       "       linked_entities  \n",
       "0                   {}  \n",
       "1                   {}  \n",
       "2                   {}  \n",
       "3                   {}  \n",
       "4                   {}  \n",
       "...                ...  \n",
       "595044              {}  \n",
       "595045              {}  \n",
       "595046              {}  \n",
       "595047              {}  \n",
       "595048              {}  \n",
       "\n",
       "[560927 rows x 5 columns]"
      ]
     },
     "execution_count": 5,
     "metadata": {},
     "output_type": "execute_result"
    }
   ],
   "source": [
    "people_df"
   ]
  },
  {
   "cell_type": "code",
   "execution_count": 6,
   "metadata": {},
   "outputs": [],
   "source": [
    "def extract_person_name(row):\n",
    "    json_lst = json.loads(row['properties'])\n",
    "    person_id = row['id']\n",
    "\n",
    "    new_rows_dict = {\n",
    "                    'person_id' : person_id,\n",
    "                    'person_name' : json_lst['name']\n",
    "                   } \n",
    "    return new_rows_dict"
   ]
  },
  {
   "cell_type": "code",
   "execution_count": 7,
   "metadata": {},
   "outputs": [
    {
     "name": "stdout",
     "output_type": "stream",
     "text": [
      "CPU times: user 15 s, sys: 2.78 ms, total: 15 s\n",
      "Wall time: 14.8 s\n"
     ]
    }
   ],
   "source": [
    "%%time\n",
    "new_persons_df = pd.DataFrame(list(people_df.apply(lambda row: extract_person_name(row), axis=1)))"
   ]
  },
  {
   "cell_type": "code",
   "execution_count": 8,
   "metadata": {},
   "outputs": [
    {
     "data": {
      "text/html": [
       "<div>\n",
       "<style scoped>\n",
       "    .dataframe tbody tr th:only-of-type {\n",
       "        vertical-align: middle;\n",
       "    }\n",
       "\n",
       "    .dataframe tbody tr th {\n",
       "        vertical-align: top;\n",
       "    }\n",
       "\n",
       "    .dataframe thead th {\n",
       "        text-align: right;\n",
       "    }\n",
       "</style>\n",
       "<table border=\"1\" class=\"dataframe\">\n",
       "  <thead>\n",
       "    <tr style=\"text-align: right;\">\n",
       "      <th></th>\n",
       "      <th>person_id</th>\n",
       "      <th>person_name</th>\n",
       "    </tr>\n",
       "  </thead>\n",
       "  <tbody>\n",
       "    <tr>\n",
       "      <th>0</th>\n",
       "      <td>145148</td>\n",
       "      <td>Everything+Is+Illuminated</td>\n",
       "    </tr>\n",
       "    <tr>\n",
       "      <th>1</th>\n",
       "      <td>297899</td>\n",
       "      <td>Robin+O%27Brien</td>\n",
       "    </tr>\n",
       "    <tr>\n",
       "      <th>2</th>\n",
       "      <td>250429</td>\n",
       "      <td>Nicholas+Gunn++(2012)</td>\n",
       "    </tr>\n",
       "    <tr>\n",
       "      <th>3</th>\n",
       "      <td>32765</td>\n",
       "      <td>Aspasia+Stratigou</td>\n",
       "    </tr>\n",
       "    <tr>\n",
       "      <th>4</th>\n",
       "      <td>18689</td>\n",
       "      <td>Allison+Veltz</td>\n",
       "    </tr>\n",
       "    <tr>\n",
       "      <th>...</th>\n",
       "      <td>...</td>\n",
       "      <td>...</td>\n",
       "    </tr>\n",
       "    <tr>\n",
       "      <th>560922</th>\n",
       "      <td>544215</td>\n",
       "      <td>Sanaa+Kariakoo</td>\n",
       "    </tr>\n",
       "    <tr>\n",
       "      <th>560923</th>\n",
       "      <td>298403</td>\n",
       "      <td>Rock-a-teens</td>\n",
       "    </tr>\n",
       "    <tr>\n",
       "      <th>560924</th>\n",
       "      <td>450896</td>\n",
       "      <td>Jennifer+Lopez+Ft.+DJ+Mustard</td>\n",
       "    </tr>\n",
       "    <tr>\n",
       "      <th>560925</th>\n",
       "      <td>53831</td>\n",
       "      <td>Bobby+Sanabria+Conducting+The+Manhattan+School...</td>\n",
       "    </tr>\n",
       "    <tr>\n",
       "      <th>560926</th>\n",
       "      <td>526710</td>\n",
       "      <td>Montserrat+Figueras,+Jordi+Savall,+Arianna+Sav...</td>\n",
       "    </tr>\n",
       "  </tbody>\n",
       "</table>\n",
       "<p>560927 rows × 2 columns</p>\n",
       "</div>"
      ],
      "text/plain": [
       "        person_id                                        person_name\n",
       "0          145148                          Everything+Is+Illuminated\n",
       "1          297899                                    Robin+O%27Brien\n",
       "2          250429                              Nicholas+Gunn++(2012)\n",
       "3           32765                                  Aspasia+Stratigou\n",
       "4           18689                                      Allison+Veltz\n",
       "...           ...                                                ...\n",
       "560922     544215                                     Sanaa+Kariakoo\n",
       "560923     298403                                       Rock-a-teens\n",
       "560924     450896                      Jennifer+Lopez+Ft.+DJ+Mustard\n",
       "560925      53831  Bobby+Sanabria+Conducting+The+Manhattan+School...\n",
       "560926     526710  Montserrat+Figueras,+Jordi+Savall,+Arianna+Sav...\n",
       "\n",
       "[560927 rows x 2 columns]"
      ]
     },
     "execution_count": 8,
     "metadata": {},
     "output_type": "execute_result"
    }
   ],
   "source": [
    "new_persons_df"
   ]
  },
  {
   "cell_type": "code",
   "execution_count": 9,
   "metadata": {},
   "outputs": [],
   "source": [
    "new_persons_df.to_pickle('data/new_persons_df.pickle')"
   ]
  },
  {
   "cell_type": "markdown",
   "metadata": {},
   "source": [
    "### 7. Prepare train, validation and test datasets"
   ]
  },
  {
   "cell_type": "code",
   "execution_count": 4,
   "metadata": {},
   "outputs": [],
   "source": [
    "df = pd.read_pickle('data/merged_df_datetime.pickle')"
   ]
  },
  {
   "cell_type": "code",
   "execution_count": 5,
   "metadata": {},
   "outputs": [
    {
     "data": {
      "text/html": [
       "<div>\n",
       "<style scoped>\n",
       "    .dataframe tbody tr th:only-of-type {\n",
       "        vertical-align: middle;\n",
       "    }\n",
       "\n",
       "    .dataframe tbody tr th {\n",
       "        vertical-align: top;\n",
       "    }\n",
       "\n",
       "    .dataframe thead th {\n",
       "        text-align: right;\n",
       "    }\n",
       "</style>\n",
       "<table border=\"1\" class=\"dataframe\">\n",
       "  <thead>\n",
       "    <tr style=\"text-align: right;\">\n",
       "      <th></th>\n",
       "      <th>session_id</th>\n",
       "      <th>ts</th>\n",
       "      <th>user_id</th>\n",
       "      <th>track_id</th>\n",
       "      <th>person_id</th>\n",
       "      <th>date</th>\n",
       "      <th>time</th>\n",
       "    </tr>\n",
       "  </thead>\n",
       "  <tbody>\n",
       "    <tr>\n",
       "      <th>0</th>\n",
       "      <td>287144</td>\n",
       "      <td>1390231051</td>\n",
       "      <td>44361</td>\n",
       "      <td>4698874</td>\n",
       "      <td>142266</td>\n",
       "      <td>2014-01-20</td>\n",
       "      <td>15:17:31</td>\n",
       "    </tr>\n",
       "    <tr>\n",
       "      <th>1</th>\n",
       "      <td>287144</td>\n",
       "      <td>1390231051</td>\n",
       "      <td>44361</td>\n",
       "      <td>838286</td>\n",
       "      <td>107103</td>\n",
       "      <td>2014-01-20</td>\n",
       "      <td>15:17:31</td>\n",
       "    </tr>\n",
       "    <tr>\n",
       "      <th>2</th>\n",
       "      <td>982046</td>\n",
       "      <td>1405452797</td>\n",
       "      <td>32894</td>\n",
       "      <td>838286</td>\n",
       "      <td>107103</td>\n",
       "      <td>2014-07-15</td>\n",
       "      <td>19:33:17</td>\n",
       "    </tr>\n",
       "    <tr>\n",
       "      <th>3</th>\n",
       "      <td>982049</td>\n",
       "      <td>1405702985</td>\n",
       "      <td>32894</td>\n",
       "      <td>838286</td>\n",
       "      <td>107103</td>\n",
       "      <td>2014-07-18</td>\n",
       "      <td>17:03:05</td>\n",
       "    </tr>\n",
       "    <tr>\n",
       "      <th>4</th>\n",
       "      <td>1873088</td>\n",
       "      <td>1406217037</td>\n",
       "      <td>23183</td>\n",
       "      <td>838286</td>\n",
       "      <td>107103</td>\n",
       "      <td>2014-07-24</td>\n",
       "      <td>15:50:37</td>\n",
       "    </tr>\n",
       "  </tbody>\n",
       "</table>\n",
       "</div>"
      ],
      "text/plain": [
       "   session_id          ts  user_id  track_id  person_id        date      time\n",
       "0      287144  1390231051    44361   4698874     142266  2014-01-20  15:17:31\n",
       "1      287144  1390231051    44361    838286     107103  2014-01-20  15:17:31\n",
       "2      982046  1405452797    32894    838286     107103  2014-07-15  19:33:17\n",
       "3      982049  1405702985    32894    838286     107103  2014-07-18  17:03:05\n",
       "4     1873088  1406217037    23183    838286     107103  2014-07-24  15:50:37"
      ]
     },
     "execution_count": 5,
     "metadata": {},
     "output_type": "execute_result"
    }
   ],
   "source": [
    "df.head()"
   ]
  },
  {
   "cell_type": "code",
   "execution_count": 6,
   "metadata": {},
   "outputs": [
    {
     "data": {
      "text/plain": [
       "(31376602, 7)"
      ]
     },
     "execution_count": 6,
     "metadata": {},
     "output_type": "execute_result"
    }
   ],
   "source": [
    "df.shape"
   ]
  },
  {
   "cell_type": "code",
   "execution_count": 7,
   "metadata": {},
   "outputs": [
    {
     "data": {
      "text/plain": [
       "45175"
      ]
     },
     "execution_count": 7,
     "metadata": {},
     "output_type": "execute_result"
    }
   ],
   "source": [
    "users = df[\"user_id\"].unique().tolist()\n",
    "len(users)"
   ]
  },
  {
   "cell_type": "code",
   "execution_count": 8,
   "metadata": {},
   "outputs": [],
   "source": [
    "# 80% of user ids\n",
    "users_train = [users[i] for i in range(round(0.8*len(users)))]"
   ]
  },
  {
   "cell_type": "code",
   "execution_count": 9,
   "metadata": {},
   "outputs": [
    {
     "data": {
      "text/plain": [
       "36140"
      ]
     },
     "execution_count": 9,
     "metadata": {},
     "output_type": "execute_result"
    }
   ],
   "source": [
    "len(users_train)"
   ]
  },
  {
   "cell_type": "code",
   "execution_count": 10,
   "metadata": {},
   "outputs": [
    {
     "name": "stdout",
     "output_type": "stream",
     "text": [
      "CPU times: user 19.2 s, sys: 3.13 s, total: 22.4 s\n",
      "Wall time: 19.1 s\n"
     ]
    }
   ],
   "source": [
    "%%time\n",
    "# split data into train and test set (80%-20% of users)\n",
    "train_df = df[df['user_id'].isin(users_train)]\n",
    "test_df = df[~df['user_id'].isin(users_train)]"
   ]
  },
  {
   "cell_type": "code",
   "execution_count": 11,
   "metadata": {},
   "outputs": [],
   "source": [
    "train_df = train_df[['user_id', 'person_id', 'ts']].sort_values(by = ['user_id', 'ts'])\n",
    "train_df['person_id'] = train_df['person_id'].astype(str)\n",
    "train_grouped = train_df.groupby(by=['user_id'])['person_id'].apply(list).reset_index(name='persons_lst')"
   ]
  },
  {
   "cell_type": "code",
   "execution_count": 12,
   "metadata": {},
   "outputs": [],
   "source": [
    "train_grouped.to_pickle('data/train_grouped.pickle')"
   ]
  },
  {
   "cell_type": "code",
   "execution_count": 13,
   "metadata": {},
   "outputs": [
    {
     "name": "stdout",
     "output_type": "stream",
     "text": [
      "CPU times: user 13.7 s, sys: 632 ms, total: 14.3 s\n",
      "Wall time: 14.3 s\n"
     ]
    }
   ],
   "source": [
    "%%time\n",
    "train_left_out_df = shuffle(train_df)\n",
    "left_out_df = train_left_out_df.drop_duplicates(subset=['user_id'])"
   ]
  },
  {
   "cell_type": "code",
   "execution_count": 14,
   "metadata": {},
   "outputs": [],
   "source": [
    "index1 = pd.MultiIndex.from_arrays([train_left_out_df[col] for col in ['user_id', 'person_id']])\n",
    "index2 = pd.MultiIndex.from_arrays([left_out_df[col] for col in ['user_id', 'person_id']])"
   ]
  },
  {
   "cell_type": "code",
   "execution_count": 15,
   "metadata": {},
   "outputs": [
    {
     "name": "stdout",
     "output_type": "stream",
     "text": [
      "CPU times: user 33.9 s, sys: 1.74 s, total: 35.7 s\n",
      "Wall time: 36.3 s\n"
     ]
    }
   ],
   "source": [
    "%%time\n",
    "train_left_out_df = train_left_out_df.loc[~index1.isin(index2)]"
   ]
  },
  {
   "cell_type": "code",
   "execution_count": 16,
   "metadata": {},
   "outputs": [
    {
     "data": {
      "text/plain": [
       "(28353219, 3)"
      ]
     },
     "execution_count": 16,
     "metadata": {},
     "output_type": "execute_result"
    }
   ],
   "source": [
    "train_left_out_df.shape"
   ]
  },
  {
   "cell_type": "code",
   "execution_count": 17,
   "metadata": {},
   "outputs": [],
   "source": [
    "train_left_out_df = train_left_out_df[['user_id', 'person_id', 'ts']].sort_values(by = ['user_id', 'ts'])"
   ]
  },
  {
   "cell_type": "code",
   "execution_count": 18,
   "metadata": {},
   "outputs": [],
   "source": [
    "test_df = test_df[['user_id', 'person_id', 'ts']].sort_values(by = ['user_id', 'ts'])"
   ]
  },
  {
   "cell_type": "code",
   "execution_count": 19,
   "metadata": {},
   "outputs": [],
   "source": [
    "train_left_out_df['person_id'] = train_left_out_df['person_id'].astype(str)\n",
    "test_df['person_id'] = test_df['person_id'].astype(str)\n",
    "left_out_df['person_id'] = left_out_df['person_id'].astype(str)"
   ]
  },
  {
   "cell_type": "code",
   "execution_count": 21,
   "metadata": {},
   "outputs": [
    {
     "name": "stdout",
     "output_type": "stream",
     "text": [
      "CPU times: user 9.94 s, sys: 666 ms, total: 10.6 s\n",
      "Wall time: 10.7 s\n"
     ]
    }
   ],
   "source": [
    "%%time\n",
    "train_left_out_grouped = train_left_out_df.groupby(by=['user_id'])['person_id'].apply(list).reset_index(name='persons_lst')\n",
    "test_grouped = test_df.groupby(by=['user_id'])['person_id'].apply(list).reset_index(name='persons_lst')"
   ]
  },
  {
   "cell_type": "code",
   "execution_count": 22,
   "metadata": {},
   "outputs": [],
   "source": [
    "train_left_out_grouped.to_pickle('data/train_left_out_grouped.pickle')\n",
    "test_grouped.to_pickle('data/test_grouped.pickle')\n",
    "left_out_df.to_pickle('data/left_out_df.pickle')"
   ]
  },
  {
   "cell_type": "code",
   "execution_count": null,
   "metadata": {},
   "outputs": [],
   "source": []
  }
 ],
 "metadata": {
  "kernelspec": {
   "display_name": "Python 3",
   "language": "python",
   "name": "python3"
  },
  "language_info": {
   "codemirror_mode": {
    "name": "ipython",
    "version": 3
   },
   "file_extension": ".py",
   "mimetype": "text/x-python",
   "name": "python",
   "nbconvert_exporter": "python",
   "pygments_lexer": "ipython3",
   "version": "3.6.6"
  }
 },
 "nbformat": 4,
 "nbformat_minor": 2
}
