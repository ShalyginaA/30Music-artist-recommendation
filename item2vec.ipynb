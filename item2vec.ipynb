{
 "cells": [
  {
   "cell_type": "code",
   "execution_count": 1,
   "metadata": {},
   "outputs": [],
   "source": [
    "import numpy as np\n",
    "import pandas as pd\n",
    "import json\n",
    "from sklearn.utils import shuffle"
   ]
  },
  {
   "cell_type": "code",
   "execution_count": 2,
   "metadata": {},
   "outputs": [],
   "source": [
    "import pickle"
   ]
  },
  {
   "cell_type": "code",
   "execution_count": 3,
   "metadata": {},
   "outputs": [],
   "source": [
    "from gensim.models import Word2Vec"
   ]
  },
  {
   "cell_type": "code",
   "execution_count": 4,
   "metadata": {},
   "outputs": [],
   "source": [
    "from utils.item2vec_recommender_utils import hit_rate_evaluate, recommend, get_similar_artists\n",
    "from utils.metrics import MAPk, precision, recall"
   ]
  },
  {
   "cell_type": "code",
   "execution_count": 5,
   "metadata": {},
   "outputs": [],
   "source": [
    "import warnings\n",
    "warnings.filterwarnings(\"ignore\")"
   ]
  },
  {
   "cell_type": "markdown",
   "metadata": {},
   "source": [
    "### 1. Load prepared data"
   ]
  },
  {
   "cell_type": "code",
   "execution_count": 6,
   "metadata": {},
   "outputs": [],
   "source": [
    "train_grouped = pd.read_pickle('data/train_mod_grouped.pickle')\n",
    "test_grouped = pd.read_pickle('data/test_grouped.pickle')\n",
    "left_out_df = pd.read_pickle('data/left_out_df.pickle')"
   ]
  },
  {
   "cell_type": "code",
   "execution_count": 7,
   "metadata": {},
   "outputs": [],
   "source": [
    "val_df = train_grouped[train_grouped['user_id'].isin(left_out_df['user_id'])]"
   ]
  },
  {
   "cell_type": "code",
   "execution_count": 8,
   "metadata": {},
   "outputs": [
    {
     "data": {
      "text/html": [
       "<div>\n",
       "<style scoped>\n",
       "    .dataframe tbody tr th:only-of-type {\n",
       "        vertical-align: middle;\n",
       "    }\n",
       "\n",
       "    .dataframe tbody tr th {\n",
       "        vertical-align: top;\n",
       "    }\n",
       "\n",
       "    .dataframe thead th {\n",
       "        text-align: right;\n",
       "    }\n",
       "</style>\n",
       "<table border=\"1\" class=\"dataframe\">\n",
       "  <thead>\n",
       "    <tr style=\"text-align: right;\">\n",
       "      <th></th>\n",
       "      <th>user_id</th>\n",
       "      <th>persons_lst</th>\n",
       "    </tr>\n",
       "  </thead>\n",
       "  <tbody>\n",
       "    <tr>\n",
       "      <th>0</th>\n",
       "      <td>1</td>\n",
       "      <td>[307555, 104136, 42218, 171231, 171231, 171231...</td>\n",
       "    </tr>\n",
       "    <tr>\n",
       "      <th>1</th>\n",
       "      <td>3</td>\n",
       "      <td>[121274, 120533, 326647, 388057, 366613, 32664...</td>\n",
       "    </tr>\n",
       "    <tr>\n",
       "      <th>2</th>\n",
       "      <td>4</td>\n",
       "      <td>[37658, 15424, 6652, 280685, 58422, 460501, 19...</td>\n",
       "    </tr>\n",
       "    <tr>\n",
       "      <th>3</th>\n",
       "      <td>5</td>\n",
       "      <td>[19627, 19627, 19627, 19627, 19627, 456925, 40...</td>\n",
       "    </tr>\n",
       "    <tr>\n",
       "      <th>4</th>\n",
       "      <td>7</td>\n",
       "      <td>[295341, 238498, 271682, 172564, 203357, 39058...</td>\n",
       "    </tr>\n",
       "  </tbody>\n",
       "</table>\n",
       "</div>"
      ],
      "text/plain": [
       "   user_id                                        persons_lst\n",
       "0        1  [307555, 104136, 42218, 171231, 171231, 171231...\n",
       "1        3  [121274, 120533, 326647, 388057, 366613, 32664...\n",
       "2        4  [37658, 15424, 6652, 280685, 58422, 460501, 19...\n",
       "3        5  [19627, 19627, 19627, 19627, 19627, 456925, 40...\n",
       "4        7  [295341, 238498, 271682, 172564, 203357, 39058..."
      ]
     },
     "execution_count": 8,
     "metadata": {},
     "output_type": "execute_result"
    }
   ],
   "source": [
    "train_grouped.head()"
   ]
  },
  {
   "cell_type": "code",
   "execution_count": 9,
   "metadata": {},
   "outputs": [
    {
     "data": {
      "text/html": [
       "<div>\n",
       "<style scoped>\n",
       "    .dataframe tbody tr th:only-of-type {\n",
       "        vertical-align: middle;\n",
       "    }\n",
       "\n",
       "    .dataframe tbody tr th {\n",
       "        vertical-align: top;\n",
       "    }\n",
       "\n",
       "    .dataframe thead th {\n",
       "        text-align: right;\n",
       "    }\n",
       "</style>\n",
       "<table border=\"1\" class=\"dataframe\">\n",
       "  <thead>\n",
       "    <tr style=\"text-align: right;\">\n",
       "      <th></th>\n",
       "      <th>user_id</th>\n",
       "      <th>person_id</th>\n",
       "    </tr>\n",
       "  </thead>\n",
       "  <tbody>\n",
       "    <tr>\n",
       "      <th>31125591</th>\n",
       "      <td>40215</td>\n",
       "      <td>164287</td>\n",
       "    </tr>\n",
       "    <tr>\n",
       "      <th>2185310</th>\n",
       "      <td>28749</td>\n",
       "      <td>42398</td>\n",
       "    </tr>\n",
       "    <tr>\n",
       "      <th>16687006</th>\n",
       "      <td>8046</td>\n",
       "      <td>367332</td>\n",
       "    </tr>\n",
       "    <tr>\n",
       "      <th>19484714</th>\n",
       "      <td>8749</td>\n",
       "      <td>21753</td>\n",
       "    </tr>\n",
       "    <tr>\n",
       "      <th>13252169</th>\n",
       "      <td>7863</td>\n",
       "      <td>450200</td>\n",
       "    </tr>\n",
       "  </tbody>\n",
       "</table>\n",
       "</div>"
      ],
      "text/plain": [
       "          user_id person_id\n",
       "31125591    40215    164287\n",
       "2185310     28749     42398\n",
       "16687006     8046    367332\n",
       "19484714     8749     21753\n",
       "13252169     7863    450200"
      ]
     },
     "execution_count": 9,
     "metadata": {},
     "output_type": "execute_result"
    }
   ],
   "source": [
    "left_out_df.head()"
   ]
  },
  {
   "cell_type": "code",
   "execution_count": 10,
   "metadata": {},
   "outputs": [],
   "source": [
    "train_lst = list(train_grouped['persons_lst'])"
   ]
  },
  {
   "cell_type": "markdown",
   "metadata": {},
   "source": [
    "### 2. Prepare artists names and left-out set dictionaries"
   ]
  },
  {
   "cell_type": "code",
   "execution_count": 11,
   "metadata": {},
   "outputs": [],
   "source": [
    "people_df = pd.read_pickle('data/new_persons_df.pickle')"
   ]
  },
  {
   "cell_type": "code",
   "execution_count": 12,
   "metadata": {},
   "outputs": [
    {
     "data": {
      "text/html": [
       "<div>\n",
       "<style scoped>\n",
       "    .dataframe tbody tr th:only-of-type {\n",
       "        vertical-align: middle;\n",
       "    }\n",
       "\n",
       "    .dataframe tbody tr th {\n",
       "        vertical-align: top;\n",
       "    }\n",
       "\n",
       "    .dataframe thead th {\n",
       "        text-align: right;\n",
       "    }\n",
       "</style>\n",
       "<table border=\"1\" class=\"dataframe\">\n",
       "  <thead>\n",
       "    <tr style=\"text-align: right;\">\n",
       "      <th></th>\n",
       "      <th>person_id</th>\n",
       "      <th>person_name</th>\n",
       "    </tr>\n",
       "  </thead>\n",
       "  <tbody>\n",
       "    <tr>\n",
       "      <th>0</th>\n",
       "      <td>145148</td>\n",
       "      <td>Everything+Is+Illuminated</td>\n",
       "    </tr>\n",
       "    <tr>\n",
       "      <th>1</th>\n",
       "      <td>297899</td>\n",
       "      <td>Robin+O%27Brien</td>\n",
       "    </tr>\n",
       "    <tr>\n",
       "      <th>2</th>\n",
       "      <td>250429</td>\n",
       "      <td>Nicholas+Gunn++(2012)</td>\n",
       "    </tr>\n",
       "    <tr>\n",
       "      <th>3</th>\n",
       "      <td>32765</td>\n",
       "      <td>Aspasia+Stratigou</td>\n",
       "    </tr>\n",
       "    <tr>\n",
       "      <th>4</th>\n",
       "      <td>18689</td>\n",
       "      <td>Allison+Veltz</td>\n",
       "    </tr>\n",
       "    <tr>\n",
       "      <th>...</th>\n",
       "      <td>...</td>\n",
       "      <td>...</td>\n",
       "    </tr>\n",
       "    <tr>\n",
       "      <th>560922</th>\n",
       "      <td>544215</td>\n",
       "      <td>Sanaa+Kariakoo</td>\n",
       "    </tr>\n",
       "    <tr>\n",
       "      <th>560923</th>\n",
       "      <td>298403</td>\n",
       "      <td>Rock-a-teens</td>\n",
       "    </tr>\n",
       "    <tr>\n",
       "      <th>560924</th>\n",
       "      <td>450896</td>\n",
       "      <td>Jennifer+Lopez+Ft.+DJ+Mustard</td>\n",
       "    </tr>\n",
       "    <tr>\n",
       "      <th>560925</th>\n",
       "      <td>53831</td>\n",
       "      <td>Bobby+Sanabria+Conducting+The+Manhattan+School...</td>\n",
       "    </tr>\n",
       "    <tr>\n",
       "      <th>560926</th>\n",
       "      <td>526710</td>\n",
       "      <td>Montserrat+Figueras,+Jordi+Savall,+Arianna+Sav...</td>\n",
       "    </tr>\n",
       "  </tbody>\n",
       "</table>\n",
       "<p>560927 rows × 2 columns</p>\n",
       "</div>"
      ],
      "text/plain": [
       "        person_id                                        person_name\n",
       "0          145148                          Everything+Is+Illuminated\n",
       "1          297899                                    Robin+O%27Brien\n",
       "2          250429                              Nicholas+Gunn++(2012)\n",
       "3           32765                                  Aspasia+Stratigou\n",
       "4           18689                                      Allison+Veltz\n",
       "...           ...                                                ...\n",
       "560922     544215                                     Sanaa+Kariakoo\n",
       "560923     298403                                       Rock-a-teens\n",
       "560924     450896                      Jennifer+Lopez+Ft.+DJ+Mustard\n",
       "560925      53831  Bobby+Sanabria+Conducting+The+Manhattan+School...\n",
       "560926     526710  Montserrat+Figueras,+Jordi+Savall,+Arianna+Sav...\n",
       "\n",
       "[560927 rows x 2 columns]"
      ]
     },
     "execution_count": 12,
     "metadata": {},
     "output_type": "execute_result"
    }
   ],
   "source": [
    "people_df"
   ]
  },
  {
   "cell_type": "code",
   "execution_count": 13,
   "metadata": {},
   "outputs": [],
   "source": [
    "people_df['person_id'] = people_df['person_id'].astype(str)"
   ]
  },
  {
   "cell_type": "code",
   "execution_count": 14,
   "metadata": {},
   "outputs": [
    {
     "data": {
      "text/plain": [
       "560927"
      ]
     },
     "execution_count": 14,
     "metadata": {},
     "output_type": "execute_result"
    }
   ],
   "source": [
    "len(people_df['person_id'].unique())"
   ]
  },
  {
   "cell_type": "code",
   "execution_count": 15,
   "metadata": {},
   "outputs": [],
   "source": [
    "people_dict = pd.Series(people_df['person_name'].values, index=people_df['person_id']).to_dict()"
   ]
  },
  {
   "cell_type": "code",
   "execution_count": 16,
   "metadata": {},
   "outputs": [
    {
     "data": {
      "text/plain": [
       "'Ariana+Grande'"
      ]
     },
     "execution_count": 16,
     "metadata": {},
     "output_type": "execute_result"
    }
   ],
   "source": [
    "people_dict['29692']"
   ]
  },
  {
   "cell_type": "markdown",
   "metadata": {},
   "source": [
    "*****************"
   ]
  },
  {
   "cell_type": "code",
   "execution_count": 17,
   "metadata": {},
   "outputs": [],
   "source": [
    "left_out_dict = pd.Series(left_out_df['person_id'].values, index=left_out_df['user_id']).to_dict()"
   ]
  },
  {
   "cell_type": "markdown",
   "metadata": {},
   "source": [
    "### 3. Train word2vec embeddings with different parameters"
   ]
  },
  {
   "cell_type": "code",
   "execution_count": 18,
   "metadata": {},
   "outputs": [],
   "source": [
    "params1 = dict(size = 50,\n",
    "               min_count = 1,\n",
    "               window = 5,\n",
    "               sg = 1,\n",
    "               hs = 0)\n",
    "\n",
    "params2 = dict(size = 50,\n",
    "               min_count = 1,\n",
    "               window = 5,\n",
    "               sg = 1,\n",
    "               hs = 1)\n",
    "\n",
    "params3 = dict(size = 100,\n",
    "               min_count = 1,\n",
    "               window = 10,\n",
    "               sg = 1,\n",
    "               hs = 0)\n",
    "params4 = dict(size = 50,\n",
    "               min_count = 1,\n",
    "               window = 10,\n",
    "               sg = 1,\n",
    "               hs = 0)\n",
    "params5 = dict(size = 100,\n",
    "               min_count = 1,\n",
    "               window = 5,\n",
    "               sg = 1,\n",
    "               hs = 1)\n",
    "\n",
    "params_lst = [params1, params2, params3, params4, params5]"
   ]
  },
  {
   "cell_type": "code",
   "execution_count": 19,
   "metadata": {},
   "outputs": [
    {
     "name": "stdout",
     "output_type": "stream",
     "text": [
      "CPU times: user 7h 18min 1s, sys: 13.1 s, total: 7h 18min 14s\n",
      "Wall time: 2h 27min 26s\n"
     ]
    }
   ],
   "source": [
    "%%time\n",
    "for i, p in zip(range(len(params_lst)), params_lst):\n",
    "    model = Word2Vec(**p)\n",
    "    model.build_vocab(train_lst, progress_per=200)\n",
    "    model.train(train_lst, total_examples = model.corpus_count, \n",
    "                epochs=10, report_delay=1)\n",
    "    model.save('item2vec_savings/model' + str(i+1) + '.sav')\n",
    "      "
   ]
  },
  {
   "cell_type": "code",
   "execution_count": 20,
   "metadata": {},
   "outputs": [],
   "source": [
    "model1 = Word2Vec.load('item2vec_savings/model1.sav')\n",
    "model2 = Word2Vec.load('item2vec_savings/model2.sav')\n",
    "model3 = Word2Vec.load('item2vec_savings/model3.sav')\n",
    "model4 = Word2Vec.load('item2vec_savings/model4.sav')\n",
    "model5 = Word2Vec.load('item2vec_savings/model5.sav')"
   ]
  },
  {
   "cell_type": "code",
   "execution_count": 21,
   "metadata": {},
   "outputs": [
    {
     "name": "stdout",
     "output_type": "stream",
     "text": [
      "Word2Vec(vocab=515111, size=50, alpha=0.025)\n",
      "Word2Vec(vocab=515111, size=50, alpha=0.025)\n",
      "Word2Vec(vocab=515111, size=100, alpha=0.025)\n",
      "Word2Vec(vocab=515111, size=50, alpha=0.025)\n",
      "Word2Vec(vocab=515111, size=100, alpha=0.025)\n"
     ]
    }
   ],
   "source": [
    "print(model1)\n",
    "print(model2)\n",
    "print(model3)\n",
    "print(model4)\n",
    "print(model5)"
   ]
  },
  {
   "cell_type": "code",
   "execution_count": 22,
   "metadata": {},
   "outputs": [],
   "source": [
    "models = [model1, model2, model3, model4, model5]"
   ]
  },
  {
   "cell_type": "markdown",
   "metadata": {},
   "source": [
    "### 4. Hit rate evaluation"
   ]
  },
  {
   "cell_type": "markdown",
   "metadata": {},
   "source": [
    "Claculate hit rate using left-one-out data in order to decide which model is better"
   ]
  },
  {
   "cell_type": "code",
   "execution_count": 23,
   "metadata": {},
   "outputs": [
    {
     "name": "stdout",
     "output_type": "stream",
     "text": [
      "Recommendations calculated\n",
      "Starting hit rate calculation\n",
      "Recommendations calculated\n",
      "Starting hit rate calculation\n",
      "Recommendations calculated\n",
      "Starting hit rate calculation\n",
      "Recommendations calculated\n",
      "Starting hit rate calculation\n",
      "Recommendations calculated\n",
      "Starting hit rate calculation\n",
      "CPU times: user 1h 25min 34s, sys: 1.33 s, total: 1h 25min 35s\n",
      "Wall time: 26min 26s\n"
     ]
    }
   ],
   "source": [
    "%%time\n",
    "hit_rates = []\n",
    "\n",
    "for model in models:\n",
    "    hit_rate = hit_rate_evaluate(model, val_df, left_out_dict, people_dict)\n",
    "    hit_rates.append(hit_rate)\n",
    "    "
   ]
  },
  {
   "cell_type": "code",
   "execution_count": 24,
   "metadata": {},
   "outputs": [
    {
     "name": "stdout",
     "output_type": "stream",
     "text": [
      "[0.0012453300124533001, 0.007195240071952401, 0.00041511000415110004, 0.0009685900096859, 0.008717310087173101]\n"
     ]
    }
   ],
   "source": [
    "print(hit_rates)"
   ]
  },
  {
   "cell_type": "markdown",
   "metadata": {},
   "source": [
    "Model 5 gave the best hit rate"
   ]
  },
  {
   "cell_type": "markdown",
   "metadata": {},
   "source": [
    "### 5. Make recommendations for test set and calculate MAPkand recall"
   ]
  },
  {
   "cell_type": "code",
   "execution_count": 25,
   "metadata": {},
   "outputs": [
    {
     "data": {
      "text/html": [
       "<div>\n",
       "<style scoped>\n",
       "    .dataframe tbody tr th:only-of-type {\n",
       "        vertical-align: middle;\n",
       "    }\n",
       "\n",
       "    .dataframe tbody tr th {\n",
       "        vertical-align: top;\n",
       "    }\n",
       "\n",
       "    .dataframe thead th {\n",
       "        text-align: right;\n",
       "    }\n",
       "</style>\n",
       "<table border=\"1\" class=\"dataframe\">\n",
       "  <thead>\n",
       "    <tr style=\"text-align: right;\">\n",
       "      <th></th>\n",
       "      <th>user_id</th>\n",
       "      <th>persons_lst</th>\n",
       "    </tr>\n",
       "  </thead>\n",
       "  <tbody>\n",
       "    <tr>\n",
       "      <th>0</th>\n",
       "      <td>2</td>\n",
       "      <td>[317952, 317952, 317952, 307932, 147326, 33277...</td>\n",
       "    </tr>\n",
       "    <tr>\n",
       "      <th>1</th>\n",
       "      <td>6</td>\n",
       "      <td>[16163, 427911, 427911, 347719, 81351, 81351, ...</td>\n",
       "    </tr>\n",
       "    <tr>\n",
       "      <th>2</th>\n",
       "      <td>9</td>\n",
       "      <td>[56683, 208667, 144662, 299571, 28752, 356730,...</td>\n",
       "    </tr>\n",
       "    <tr>\n",
       "      <th>3</th>\n",
       "      <td>10</td>\n",
       "      <td>[263881, 302401]</td>\n",
       "    </tr>\n",
       "    <tr>\n",
       "      <th>4</th>\n",
       "      <td>19</td>\n",
       "      <td>[15830, 254536, 305083, 2589, 75802, 75802, 75...</td>\n",
       "    </tr>\n",
       "    <tr>\n",
       "      <th>...</th>\n",
       "      <td>...</td>\n",
       "      <td>...</td>\n",
       "    </tr>\n",
       "    <tr>\n",
       "      <th>9030</th>\n",
       "      <td>45138</td>\n",
       "      <td>[323344, 323344, 323344, 323344, 411805, 41180...</td>\n",
       "    </tr>\n",
       "    <tr>\n",
       "      <th>9031</th>\n",
       "      <td>45147</td>\n",
       "      <td>[228324, 320708, 348909, 348909, 437722, 43772...</td>\n",
       "    </tr>\n",
       "    <tr>\n",
       "      <th>9032</th>\n",
       "      <td>45148</td>\n",
       "      <td>[54198, 218992, 190028, 192393, 335800, 288031...</td>\n",
       "    </tr>\n",
       "    <tr>\n",
       "      <th>9033</th>\n",
       "      <td>45172</td>\n",
       "      <td>[196920, 11653, 123799, 138443, 345801, 408513...</td>\n",
       "    </tr>\n",
       "    <tr>\n",
       "      <th>9034</th>\n",
       "      <td>45175</td>\n",
       "      <td>[348909, 446939, 151444, 110337, 259883, 58406...</td>\n",
       "    </tr>\n",
       "  </tbody>\n",
       "</table>\n",
       "<p>9035 rows × 2 columns</p>\n",
       "</div>"
      ],
      "text/plain": [
       "      user_id                                        persons_lst\n",
       "0           2  [317952, 317952, 317952, 307932, 147326, 33277...\n",
       "1           6  [16163, 427911, 427911, 347719, 81351, 81351, ...\n",
       "2           9  [56683, 208667, 144662, 299571, 28752, 356730,...\n",
       "3          10                                   [263881, 302401]\n",
       "4          19  [15830, 254536, 305083, 2589, 75802, 75802, 75...\n",
       "...       ...                                                ...\n",
       "9030    45138  [323344, 323344, 323344, 323344, 411805, 41180...\n",
       "9031    45147  [228324, 320708, 348909, 348909, 437722, 43772...\n",
       "9032    45148  [54198, 218992, 190028, 192393, 335800, 288031...\n",
       "9033    45172  [196920, 11653, 123799, 138443, 345801, 408513...\n",
       "9034    45175  [348909, 446939, 151444, 110337, 259883, 58406...\n",
       "\n",
       "[9035 rows x 2 columns]"
      ]
     },
     "execution_count": 25,
     "metadata": {},
     "output_type": "execute_result"
    }
   ],
   "source": [
    "test_grouped"
   ]
  },
  {
   "cell_type": "code",
   "execution_count": 26,
   "metadata": {},
   "outputs": [],
   "source": [
    "def separate_pers_lst(row):\n",
    "    persons_lst = list(set(row['persons_lst']))\n",
    "    n = len(persons_lst)    \n",
    "    l = persons_lst[:n//2]\n",
    "    r = persons_lst[n//2:]\n",
    "    d = {'persons_lst': l,\n",
    "         'right_lst' : r}\n",
    "    return d   "
   ]
  },
  {
   "cell_type": "code",
   "execution_count": 27,
   "metadata": {},
   "outputs": [],
   "source": [
    "test_df_sep = pd.DataFrame(list(test_grouped.apply(lambda row: separate_pers_lst(row), axis=1)))\n",
    "test_df_sep['user_id'] = test_grouped['user_id']"
   ]
  },
  {
   "cell_type": "code",
   "execution_count": 28,
   "metadata": {},
   "outputs": [
    {
     "name": "stdout",
     "output_type": "stream",
     "text": [
      "CPU times: user 11min 36s, sys: 43.9 ms, total: 11min 36s\n",
      "Wall time: 2min 54s\n"
     ]
    }
   ],
   "source": [
    "%%time\n",
    "top_20_names, top_20_ids = recommend(model5, test_df_sep, people_dict)"
   ]
  },
  {
   "cell_type": "code",
   "execution_count": 29,
   "metadata": {},
   "outputs": [],
   "source": [
    "y_true = test_df_sep['right_lst']\n",
    "y_pred = top_20_ids"
   ]
  },
  {
   "cell_type": "code",
   "execution_count": 30,
   "metadata": {},
   "outputs": [],
   "source": [
    "mapk_scores = []\n",
    "\n",
    "for t, p in zip(y_true, y_pred):\n",
    "    mapk_scores.append(MAPk(t,p))"
   ]
  },
  {
   "cell_type": "code",
   "execution_count": 31,
   "metadata": {},
   "outputs": [
    {
     "data": {
      "text/plain": [
       "0.010763071704202754"
      ]
     },
     "execution_count": 31,
     "metadata": {},
     "output_type": "execute_result"
    }
   ],
   "source": [
    "np.mean(mapk_scores)"
   ]
  },
  {
   "cell_type": "code",
   "execution_count": 32,
   "metadata": {},
   "outputs": [],
   "source": [
    "rec = []\n",
    "\n",
    "for t, p in zip(y_true, y_pred):\n",
    "    rec.append(recall(t,p))"
   ]
  },
  {
   "cell_type": "code",
   "execution_count": 33,
   "metadata": {},
   "outputs": [
    {
     "data": {
      "text/plain": [
       "0.023103183039375138"
      ]
     },
     "execution_count": 33,
     "metadata": {},
     "output_type": "execute_result"
    }
   ],
   "source": [
    "np.mean(rec)"
   ]
  },
  {
   "cell_type": "code",
   "execution_count": 34,
   "metadata": {},
   "outputs": [],
   "source": [
    "scores_dict = {'mapk': mapk_scores,\n",
    "               'recall': rec}"
   ]
  },
  {
   "cell_type": "code",
   "execution_count": 35,
   "metadata": {},
   "outputs": [],
   "source": [
    "a_file = open(\"item2vec_savings/scores_dict.pkl\", \"wb\")\n",
    "pickle.dump(scores_dict, a_file)\n",
    "a_file.close()"
   ]
  },
  {
   "cell_type": "markdown",
   "metadata": {},
   "source": [
    "### 6. List top-20 most similar artists for some artists"
   ]
  },
  {
   "cell_type": "code",
   "execution_count": 36,
   "metadata": {},
   "outputs": [
    {
     "data": {
      "text/plain": [
       "'Ariana+Grande'"
      ]
     },
     "execution_count": 36,
     "metadata": {},
     "output_type": "execute_result"
    }
   ],
   "source": [
    "#pop singer\n",
    "people_dict['29692']"
   ]
  },
  {
   "cell_type": "code",
   "execution_count": 37,
   "metadata": {},
   "outputs": [
    {
     "data": {
      "text/plain": [
       "[('Jessie+J,+Ariana+Grande+&+Nicki+Minaj', 0.8654477596282959),\n",
       " ('Becky+G', 0.8418684005737305),\n",
       " ('Today%27s+Hits', 0.8324069976806641),\n",
       " ('Rixton', 0.8288383483886719),\n",
       " ('Jessie+J.', 0.8148522973060608),\n",
       " ('Fifth+Harmony', 0.8115994334220886),\n",
       " ('Jessie+J,+Ariana+Grande,+Nicki+Minaj', 0.8080220222473145),\n",
       " ('Ke$ha+%22Die+Young%22+cover+by+Becky+G', 0.8075494766235352),\n",
       " ('Iggy+Azalea+ft.+Charli+XCX', 0.8039587736129761),\n",
       " ('G.R.L.', 0.8032480478286743),\n",
       " ('AMTAG_60', 0.8020125031471252),\n",
       " ('Meghan+Trainor', 0.7964286208152771),\n",
       " ('Lilly+Wood+feat.+Robin+Schulz', 0.7908823490142822),\n",
       " ('Britney+Spears+%2F+Jessie+J,+Ariana+Grande,+&+Nicki+Minaj',\n",
       "  0.7888354659080505),\n",
       " ('Clean+Bandit+&+Jess+Glyne', 0.7877906560897827),\n",
       " ('AJR', 0.7855857014656067),\n",
       " ('David+Guetta+Ft.+Trey+Songz,+Chris+Brown+&+Sam+Martin', 0.7845808267593384),\n",
       " ('DJ+Snake+Machine', 0.780626654624939),\n",
       " ('The+Cherrybombs', 0.7796391844749451),\n",
       " ('Nick+Jonas+&+The+Administration', 0.7795069813728333)]"
      ]
     },
     "execution_count": 37,
     "metadata": {},
     "output_type": "execute_result"
    }
   ],
   "source": [
    "names, ids = get_similar_artists(model5, model5['29692'], people_dict)\n",
    "names"
   ]
  },
  {
   "cell_type": "markdown",
   "metadata": {},
   "source": [
    "**************"
   ]
  },
  {
   "cell_type": "code",
   "execution_count": 38,
   "metadata": {},
   "outputs": [
    {
     "data": {
      "text/plain": [
       "'Freddie+Mercury'"
      ]
     },
     "execution_count": 38,
     "metadata": {},
     "output_type": "execute_result"
    }
   ],
   "source": [
    "#rock \n",
    "people_dict['157384']"
   ]
  },
  {
   "cell_type": "code",
   "execution_count": 39,
   "metadata": {},
   "outputs": [
    {
     "data": {
      "text/plain": [
       "[('Queen+&+The+Muppets', 0.8283079266548157),\n",
       " ('Tommy+Fogerty+And+The+Blue+Vel', 0.7396383881568909),\n",
       " ('Lars+Van+Kampt', 0.7183437943458557),\n",
       " ('Michael+Jackson+%2F+Slash+(Guns+N%27+Roses)', 0.7151082754135132),\n",
       " ('Slavko+Avsenik+Ml.', 0.709837019443512),\n",
       " ('Mc+Laren,+Malcom', 0.7097668647766113),\n",
       " ('The+Cross', 0.7066447734832764),\n",
       " ('The+Eighty+Ballad+Group', 0.702889084815979),\n",
       " ('Winwood,+Steve+and+Spencer+Davis+Group', 0.7018457055091858),\n",
       " ('Peter+Green+featuring+Paul+Rogers', 0.6989554166793823),\n",
       " ('Nazareth', 0.6963227987289429),\n",
       " ('Matt,Jayson', 0.6960425972938538),\n",
       " ('Mylene+Farmer', 0.6958197355270386),\n",
       " ('010+Deep+Purple', 0.6891721487045288),\n",
       " ('%C3%A0%C3%A5%C3%B8+%C3%AB%C3%B9%C3%A3%C3%A9%C3%AD', 0.688783586025238),\n",
       " ('Thomas,+Timmy', 0.6878454685211182),\n",
       " ('Gary+Moore+feat.+Phil+Lynott', 0.6878280639648438),\n",
       " ('Van+Hallen', 0.6850995421409607),\n",
       " ('Ivo+Pessoa', 0.6844097971916199),\n",
       " ('%C3%A3%C3%A5%C3%A9%C3%A3+%C3%A3%C3%A5%C3%B8', 0.6842895746231079)]"
      ]
     },
     "execution_count": 39,
     "metadata": {},
     "output_type": "execute_result"
    }
   ],
   "source": [
    "names, ids = get_similar_artists(model5, model5['157384'], people_dict)\n",
    "names"
   ]
  },
  {
   "cell_type": "markdown",
   "metadata": {},
   "source": [
    "*****************"
   ]
  },
  {
   "cell_type": "code",
   "execution_count": 40,
   "metadata": {},
   "outputs": [
    {
     "data": {
      "text/plain": [
       "'Mac+Miller+feat.+Action+Bronson'"
      ]
     },
     "execution_count": 40,
     "metadata": {},
     "output_type": "execute_result"
    }
   ],
   "source": [
    "#rap\n",
    "people_dict['211094']"
   ]
  },
  {
   "cell_type": "code",
   "execution_count": 41,
   "metadata": {},
   "outputs": [
    {
     "data": {
      "text/plain": [
       "[('Oskar+Koch', 0.7505506873130798),\n",
       " ('Mac+Miller%2FEarl+Sweatshirt%2FVinny+Radio', 0.7473846673965454),\n",
       " ('Godemis', 0.744239091873169),\n",
       " ('Mac+Dre-N-Andre+Nickatina', 0.7439322471618652),\n",
       " ('Mac+Miller%2FTyler,+The+Creator', 0.7397385835647583),\n",
       " ('Badnewz', 0.7277829647064209),\n",
       " ('Ab-Soul+ft+Kendrick+Lamar', 0.7273165583610535),\n",
       " ('The+weeknd,+Drake,+Trey+Songz,+Jhene+Aiko,+Schoolboy+Q,+Dafrican,+Chris+brown,+August+Alsina,+PartyNextDoor,+Rick+Ross,+Usher',\n",
       "  0.7236860990524292),\n",
       " ('Kanye+West+Feat.+DJ+Premier', 0.7222352623939514),\n",
       " ('Mac+Miller;+Vinny+Radio', 0.7181921005249023),\n",
       " ('Pusha+T', 0.7145887613296509),\n",
       " ('Vic+Mensa.', 0.7141709327697754),\n",
       " ('The+Game+feat.+Tyler+The+Creator+&+Lil+Wayne', 0.7115122079849243),\n",
       " ('Laura+Zita', 0.7111826539039612),\n",
       " ('N.E.R.D+ft.+Kanye+West,+Lupe+Fiasco,+Pusha+T', 0.7087520360946655),\n",
       " ('Ty+Dolla+$ign+(feat.+Wiz+Khalifa)', 0.7079854011535645),\n",
       " ('Domo+Genesis+&+The+Alchemist', 0.7063467502593994),\n",
       " ('J+Cole%2F@Fauntleroy', 0.7058163285255432),\n",
       " ('FiSHPUNCHER', 0.7007495164871216),\n",
       " ('J+Cole%2F50+Cent%2FBas', 0.7005971074104309)]"
      ]
     },
     "execution_count": 41,
     "metadata": {},
     "output_type": "execute_result"
    }
   ],
   "source": [
    "names, ids = get_similar_artists(model5, model5['211094'], people_dict)\n",
    "names"
   ]
  },
  {
   "cell_type": "code",
   "execution_count": null,
   "metadata": {},
   "outputs": [],
   "source": []
  }
 ],
 "metadata": {
  "kernelspec": {
   "display_name": "Python 3",
   "language": "python",
   "name": "python3"
  },
  "language_info": {
   "codemirror_mode": {
    "name": "ipython",
    "version": 3
   },
   "file_extension": ".py",
   "mimetype": "text/x-python",
   "name": "python",
   "nbconvert_exporter": "python",
   "pygments_lexer": "ipython3",
   "version": "3.6.6"
  }
 },
 "nbformat": 4,
 "nbformat_minor": 2
}
