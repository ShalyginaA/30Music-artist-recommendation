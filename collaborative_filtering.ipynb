{
 "cells": [
  {
   "cell_type": "code",
   "execution_count": 1,
   "metadata": {},
   "outputs": [],
   "source": [
    "import pandas as pd\n",
    "import numpy as np"
   ]
  },
  {
   "cell_type": "code",
   "execution_count": 2,
   "metadata": {},
   "outputs": [],
   "source": [
    "import implicit"
   ]
  },
  {
   "cell_type": "code",
   "execution_count": 57,
   "metadata": {},
   "outputs": [],
   "source": [
    "import pickle"
   ]
  },
  {
   "cell_type": "code",
   "execution_count": 3,
   "metadata": {},
   "outputs": [],
   "source": [
    "from scipy.sparse import coo_matrix"
   ]
  },
  {
   "cell_type": "code",
   "execution_count": 4,
   "metadata": {},
   "outputs": [],
   "source": [
    "from utils.CF_recommender_utils import recommend_by_average, calculate_hit_rate, recommend_by_user\n",
    "from utils.metrics import *"
   ]
  },
  {
   "cell_type": "code",
   "execution_count": 5,
   "metadata": {},
   "outputs": [],
   "source": [
    "! export MKL_NUM_THREADS=1"
   ]
  },
  {
   "cell_type": "markdown",
   "metadata": {},
   "source": [
    "### 1. Load prepared data"
   ]
  },
  {
   "cell_type": "code",
   "execution_count": 6,
   "metadata": {},
   "outputs": [],
   "source": [
    "train_df = pd.read_pickle('data/train_df.pickle')\n",
    "test_df = pd.read_pickle('data/test_grouped.pickle')\n",
    "left_out_df = pd.read_pickle('data/left_out_df.pickle')\n",
    "train_lo_df = pd.read_pickle('data/train_lo_df.pickle')"
   ]
  },
  {
   "cell_type": "code",
   "execution_count": 7,
   "metadata": {},
   "outputs": [],
   "source": [
    "#count number of interactions for each user and artist\n",
    "train_df2 = train_df[['user_id', 'person_id']].groupby(['user_id', 'person_id']).size().reset_index(name='plays')"
   ]
  },
  {
   "cell_type": "code",
   "execution_count": 8,
   "metadata": {},
   "outputs": [
    {
     "data": {
      "text/html": [
       "<div>\n",
       "<style scoped>\n",
       "    .dataframe tbody tr th:only-of-type {\n",
       "        vertical-align: middle;\n",
       "    }\n",
       "\n",
       "    .dataframe tbody tr th {\n",
       "        vertical-align: top;\n",
       "    }\n",
       "\n",
       "    .dataframe thead th {\n",
       "        text-align: right;\n",
       "    }\n",
       "</style>\n",
       "<table border=\"1\" class=\"dataframe\">\n",
       "  <thead>\n",
       "    <tr style=\"text-align: right;\">\n",
       "      <th></th>\n",
       "      <th>user_id</th>\n",
       "      <th>person_id</th>\n",
       "      <th>plays</th>\n",
       "    </tr>\n",
       "  </thead>\n",
       "  <tbody>\n",
       "    <tr>\n",
       "      <th>0</th>\n",
       "      <td>1</td>\n",
       "      <td>104136</td>\n",
       "      <td>72</td>\n",
       "    </tr>\n",
       "    <tr>\n",
       "      <th>1</th>\n",
       "      <td>1</td>\n",
       "      <td>11467</td>\n",
       "      <td>63</td>\n",
       "    </tr>\n",
       "    <tr>\n",
       "      <th>2</th>\n",
       "      <td>1</td>\n",
       "      <td>11617</td>\n",
       "      <td>13</td>\n",
       "    </tr>\n",
       "    <tr>\n",
       "      <th>3</th>\n",
       "      <td>1</td>\n",
       "      <td>153765</td>\n",
       "      <td>32</td>\n",
       "    </tr>\n",
       "    <tr>\n",
       "      <th>4</th>\n",
       "      <td>1</td>\n",
       "      <td>168705</td>\n",
       "      <td>40</td>\n",
       "    </tr>\n",
       "    <tr>\n",
       "      <th>...</th>\n",
       "      <td>...</td>\n",
       "      <td>...</td>\n",
       "      <td>...</td>\n",
       "    </tr>\n",
       "    <tr>\n",
       "      <th>5914883</th>\n",
       "      <td>45174</td>\n",
       "      <td>83375</td>\n",
       "      <td>1</td>\n",
       "    </tr>\n",
       "    <tr>\n",
       "      <th>5914884</th>\n",
       "      <td>45174</td>\n",
       "      <td>86122</td>\n",
       "      <td>1</td>\n",
       "    </tr>\n",
       "    <tr>\n",
       "      <th>5914885</th>\n",
       "      <td>45174</td>\n",
       "      <td>87296</td>\n",
       "      <td>1</td>\n",
       "    </tr>\n",
       "    <tr>\n",
       "      <th>5914886</th>\n",
       "      <td>45174</td>\n",
       "      <td>87766</td>\n",
       "      <td>1</td>\n",
       "    </tr>\n",
       "    <tr>\n",
       "      <th>5914887</th>\n",
       "      <td>45174</td>\n",
       "      <td>88889</td>\n",
       "      <td>1</td>\n",
       "    </tr>\n",
       "  </tbody>\n",
       "</table>\n",
       "<p>5914888 rows × 3 columns</p>\n",
       "</div>"
      ],
      "text/plain": [
       "         user_id person_id  plays\n",
       "0              1    104136     72\n",
       "1              1     11467     63\n",
       "2              1     11617     13\n",
       "3              1    153765     32\n",
       "4              1    168705     40\n",
       "...          ...       ...    ...\n",
       "5914883    45174     83375      1\n",
       "5914884    45174     86122      1\n",
       "5914885    45174     87296      1\n",
       "5914886    45174     87766      1\n",
       "5914887    45174     88889      1\n",
       "\n",
       "[5914888 rows x 3 columns]"
      ]
     },
     "execution_count": 8,
     "metadata": {},
     "output_type": "execute_result"
    }
   ],
   "source": [
    "train_df2"
   ]
  },
  {
   "cell_type": "markdown",
   "metadata": {},
   "source": [
    "### 2. Prepare artists and left-out set dictionaries"
   ]
  },
  {
   "cell_type": "code",
   "execution_count": 9,
   "metadata": {},
   "outputs": [],
   "source": [
    "people_df = pd.read_pickle('data/new_persons_df.pickle')"
   ]
  },
  {
   "cell_type": "code",
   "execution_count": 10,
   "metadata": {},
   "outputs": [],
   "source": [
    "people_df['person_id'] = people_df['person_id'].astype(str)"
   ]
  },
  {
   "cell_type": "code",
   "execution_count": 11,
   "metadata": {},
   "outputs": [
    {
     "data": {
      "text/plain": [
       "560927"
      ]
     },
     "execution_count": 11,
     "metadata": {},
     "output_type": "execute_result"
    }
   ],
   "source": [
    "len(people_df['person_id'].unique())"
   ]
  },
  {
   "cell_type": "code",
   "execution_count": 12,
   "metadata": {},
   "outputs": [],
   "source": [
    "people_dict = pd.Series(people_df['person_name'].values, index=people_df['person_id']).to_dict()"
   ]
  },
  {
   "cell_type": "code",
   "execution_count": 13,
   "metadata": {},
   "outputs": [
    {
     "data": {
      "text/plain": [
       "'Everything+Is+Illuminated'"
      ]
     },
     "execution_count": 13,
     "metadata": {},
     "output_type": "execute_result"
    }
   ],
   "source": [
    "people_dict['145148']"
   ]
  },
  {
   "cell_type": "markdown",
   "metadata": {},
   "source": [
    "**************"
   ]
  },
  {
   "cell_type": "code",
   "execution_count": 14,
   "metadata": {},
   "outputs": [],
   "source": [
    "left_out_dict = pd.Series(left_out_df['person_id'].values, index=left_out_df['user_id']).to_dict()"
   ]
  },
  {
   "cell_type": "code",
   "execution_count": 15,
   "metadata": {},
   "outputs": [
    {
     "data": {
      "text/plain": [
       "'20735'"
      ]
     },
     "execution_count": 15,
     "metadata": {},
     "output_type": "execute_result"
    }
   ],
   "source": [
    "left_out_dict[25817]"
   ]
  },
  {
   "cell_type": "markdown",
   "metadata": {},
   "source": [
    "### 3. Collaborative filtering for implicit feedback data"
   ]
  },
  {
   "cell_type": "code",
   "execution_count": 16,
   "metadata": {},
   "outputs": [],
   "source": [
    "#user and person ids to categorical\n",
    "train_df2['user_id'] = train_df2['user_id'].astype(\"category\")\n",
    "train_df2['person_id'] = train_df2['person_id'].astype(\"category\")"
   ]
  },
  {
   "cell_type": "code",
   "execution_count": 17,
   "metadata": {},
   "outputs": [
    {
     "data": {
      "text/html": [
       "<div>\n",
       "<style scoped>\n",
       "    .dataframe tbody tr th:only-of-type {\n",
       "        vertical-align: middle;\n",
       "    }\n",
       "\n",
       "    .dataframe tbody tr th {\n",
       "        vertical-align: top;\n",
       "    }\n",
       "\n",
       "    .dataframe thead th {\n",
       "        text-align: right;\n",
       "    }\n",
       "</style>\n",
       "<table border=\"1\" class=\"dataframe\">\n",
       "  <thead>\n",
       "    <tr style=\"text-align: right;\">\n",
       "      <th></th>\n",
       "      <th>user_id</th>\n",
       "      <th>person_id</th>\n",
       "      <th>plays</th>\n",
       "    </tr>\n",
       "  </thead>\n",
       "  <tbody>\n",
       "    <tr>\n",
       "      <th>0</th>\n",
       "      <td>1</td>\n",
       "      <td>104136</td>\n",
       "      <td>72</td>\n",
       "    </tr>\n",
       "    <tr>\n",
       "      <th>1</th>\n",
       "      <td>1</td>\n",
       "      <td>11467</td>\n",
       "      <td>63</td>\n",
       "    </tr>\n",
       "    <tr>\n",
       "      <th>2</th>\n",
       "      <td>1</td>\n",
       "      <td>11617</td>\n",
       "      <td>13</td>\n",
       "    </tr>\n",
       "    <tr>\n",
       "      <th>3</th>\n",
       "      <td>1</td>\n",
       "      <td>153765</td>\n",
       "      <td>32</td>\n",
       "    </tr>\n",
       "    <tr>\n",
       "      <th>4</th>\n",
       "      <td>1</td>\n",
       "      <td>168705</td>\n",
       "      <td>40</td>\n",
       "    </tr>\n",
       "  </tbody>\n",
       "</table>\n",
       "</div>"
      ],
      "text/plain": [
       "  user_id person_id  plays\n",
       "0       1    104136     72\n",
       "1       1     11467     63\n",
       "2       1     11617     13\n",
       "3       1    153765     32\n",
       "4       1    168705     40"
      ]
     },
     "execution_count": 17,
     "metadata": {},
     "output_type": "execute_result"
    }
   ],
   "source": [
    "train_df2.head()"
   ]
  },
  {
   "cell_type": "code",
   "execution_count": 18,
   "metadata": {},
   "outputs": [],
   "source": [
    "#save person codes and construct useful dictionaries\n",
    "person_codes = train_df2['person_id'].cat.codes\n",
    "user_codes = train_df2['user_id'].cat.codes\n",
    "\n",
    "code_person_dict = dict(zip(person_codes, train_df2['person_id']))\n",
    "person_code_dict = dict(zip(train_df2['person_id'], person_codes))\n",
    "\n",
    "code_user_dict = dict(zip(user_codes, train_df2['user_id']))\n",
    "user_code_dict = dict(zip(train_df2['user_id'], user_codes))"
   ]
  },
  {
   "cell_type": "code",
   "execution_count": 19,
   "metadata": {},
   "outputs": [],
   "source": [
    "# get persons ids to later use it for person vectors dictionary\n",
    "code_person_dict_items = [x[1] for x in sorted(code_person_dict.items())]"
   ]
  },
  {
   "cell_type": "code",
   "execution_count": 20,
   "metadata": {},
   "outputs": [],
   "source": [
    "# create a sparse matrix of artist/user/n_plays \n",
    "artist_user_matrix = coo_matrix((train_df2['plays'].astype(float), \n",
    "                                (person_codes, \n",
    "                                 user_codes)))\n"
   ]
  },
  {
   "cell_type": "code",
   "execution_count": 21,
   "metadata": {},
   "outputs": [
    {
     "data": {
      "text/plain": [
       "(515265, 36140)"
      ]
     },
     "execution_count": 21,
     "metadata": {},
     "output_type": "execute_result"
    }
   ],
   "source": [
    "artist_user_matrix.shape"
   ]
  },
  {
   "cell_type": "markdown",
   "metadata": {},
   "source": [
    "Initialize several models with different parameters (manual hyperparameter tuning)"
   ]
  },
  {
   "cell_type": "code",
   "execution_count": 22,
   "metadata": {},
   "outputs": [
    {
     "name": "stderr",
     "output_type": "stream",
     "text": [
      "WARNING:root:Intel MKL BLAS detected. Its highly recommend to set the environment variable 'export MKL_NUM_THREADS=1' to disable its internal multithreading\n"
     ]
    }
   ],
   "source": [
    "# initialize a model\n",
    "model1 = implicit.als.AlternatingLeastSquares(factors=50, iterations=30)\n",
    "model2 = implicit.als.AlternatingLeastSquares(factors=50, iterations=15)\n",
    "model3 = implicit.als.AlternatingLeastSquares(factors=100, iterations=15)"
   ]
  },
  {
   "cell_type": "code",
   "execution_count": 23,
   "metadata": {},
   "outputs": [
    {
     "data": {
      "application/vnd.jupyter.widget-view+json": {
       "model_id": "db327e7edd5747aebf18d5f74ff35753",
       "version_major": 2,
       "version_minor": 0
      },
      "text/plain": [
       "HBox(children=(IntProgress(value=0, max=30), HTML(value='')))"
      ]
     },
     "metadata": {},
     "output_type": "display_data"
    },
    {
     "name": "stdout",
     "output_type": "stream",
     "text": [
      "\n"
     ]
    }
   ],
   "source": [
    "model1.fit(artist_user_matrix)"
   ]
  },
  {
   "cell_type": "code",
   "execution_count": 24,
   "metadata": {},
   "outputs": [
    {
     "data": {
      "application/vnd.jupyter.widget-view+json": {
       "model_id": "413ebb9cfdf343ba83c4579209376836",
       "version_major": 2,
       "version_minor": 0
      },
      "text/plain": [
       "HBox(children=(IntProgress(value=0, max=15), HTML(value='')))"
      ]
     },
     "metadata": {},
     "output_type": "display_data"
    },
    {
     "name": "stdout",
     "output_type": "stream",
     "text": [
      "\n"
     ]
    }
   ],
   "source": [
    "model2.fit(artist_user_matrix)"
   ]
  },
  {
   "cell_type": "code",
   "execution_count": 25,
   "metadata": {},
   "outputs": [
    {
     "data": {
      "application/vnd.jupyter.widget-view+json": {
       "model_id": "09915bebf8db4b5cac8c68a9f132aea4",
       "version_major": 2,
       "version_minor": 0
      },
      "text/plain": [
       "HBox(children=(IntProgress(value=0, max=15), HTML(value='')))"
      ]
     },
     "metadata": {},
     "output_type": "display_data"
    },
    {
     "name": "stdout",
     "output_type": "stream",
     "text": [
      "\n"
     ]
    }
   ],
   "source": [
    "model3.fit(artist_user_matrix)"
   ]
  },
  {
   "cell_type": "code",
   "execution_count": 26,
   "metadata": {},
   "outputs": [
    {
     "data": {
      "text/plain": [
       "array([[ 2.35081022e-03,  3.35056218e-04,  7.22967205e-04, ...,\n",
       "         8.23867274e-04,  4.98342235e-03, -5.32691600e-04],\n",
       "       [ 9.41599574e-05, -1.55296038e-05,  1.03242608e-04, ...,\n",
       "        -5.73605985e-06, -3.46800734e-05,  2.64862992e-05],\n",
       "       [ 2.52074369e-06,  1.57263377e-04,  1.09625056e-04, ...,\n",
       "         3.43194151e-05,  3.02627857e-04,  1.38968520e-04],\n",
       "       ...,\n",
       "       [ 9.29754315e-05,  2.03087082e-04,  1.89530529e-05, ...,\n",
       "        -1.35096125e-04,  1.58506387e-04, -9.87966268e-05],\n",
       "       [-4.26205836e-04,  4.59975825e-04, -7.64068449e-04, ...,\n",
       "        -1.80378047e-04,  5.94981131e-04, -1.01228605e-03],\n",
       "       [ 1.46501958e-02,  2.84134466e-02,  1.10280411e-02, ...,\n",
       "         4.32204967e-03,  2.29079947e-02, -4.24244936e-04]], dtype=float32)"
      ]
     },
     "execution_count": 26,
     "metadata": {},
     "output_type": "execute_result"
    }
   ],
   "source": [
    "model1.item_factors"
   ]
  },
  {
   "cell_type": "markdown",
   "metadata": {},
   "source": [
    "### 4. Calculate hit rate"
   ]
  },
  {
   "cell_type": "markdown",
   "metadata": {},
   "source": [
    "Claculate hit rate using left-one-out data in order to decide which model is better"
   ]
  },
  {
   "cell_type": "code",
   "execution_count": 31,
   "metadata": {},
   "outputs": [],
   "source": [
    "def calculate_hit_rate(left_out_dict, user_ids_lst, top_20_recommended_ids):\n",
    "    '''\n",
    "    Claculated hit rate for top 20 using left-one-out set\n",
    "    '''\n",
    "    hit_rate = 0\n",
    "    total_users = len(user_ids_lst)\n",
    "    \n",
    "    for user, ids_lst in zip(user_ids_lst, top_20_recommended_ids):\n",
    "        if left_out_dict[user] in ids_lst:\n",
    "            hit_rate += 1\n",
    "    return hit_rate/total_users"
   ]
  },
  {
   "cell_type": "code",
   "execution_count": 27,
   "metadata": {},
   "outputs": [],
   "source": [
    "user_artist_matrix = artist_user_matrix.T.tocsr()"
   ]
  },
  {
   "cell_type": "code",
   "execution_count": 28,
   "metadata": {},
   "outputs": [
    {
     "name": "stdout",
     "output_type": "stream",
     "text": [
      "CPU times: user 43min 44s, sys: 1.61 s, total: 43min 45s\n",
      "Wall time: 11min 23s\n"
     ]
    }
   ],
   "source": [
    "%%time\n",
    "recs1 = list(left_out_df.apply(lambda row: recommend_by_user(model1, row, \n",
    "                                                             user_code_dict,\n",
    "                                                             code_person_dict,\n",
    "                                                             user_artist_matrix), axis=1))"
   ]
  },
  {
   "cell_type": "code",
   "execution_count": 32,
   "metadata": {},
   "outputs": [
    {
     "data": {
      "text/plain": [
       "0.0"
      ]
     },
     "execution_count": 32,
     "metadata": {},
     "output_type": "execute_result"
    }
   ],
   "source": [
    "hit_rate = calculate_hit_rate(left_out_dict, list(left_out_df['user_id']), recs1)\n",
    "hit_rate"
   ]
  },
  {
   "cell_type": "code",
   "execution_count": 33,
   "metadata": {},
   "outputs": [
    {
     "name": "stdout",
     "output_type": "stream",
     "text": [
      "CPU times: user 39min 24s, sys: 1.37 s, total: 39min 25s\n",
      "Wall time: 10min 15s\n"
     ]
    }
   ],
   "source": [
    "%%time\n",
    "recs2 = list(left_out_df.apply(lambda row: recommend_by_user(model2, row, \n",
    "                                                             user_code_dict,\n",
    "                                                             code_person_dict,\n",
    "                                                             user_artist_matrix), axis=1))"
   ]
  },
  {
   "cell_type": "code",
   "execution_count": 35,
   "metadata": {},
   "outputs": [
    {
     "data": {
      "text/plain": [
       "0.0"
      ]
     },
     "execution_count": 35,
     "metadata": {},
     "output_type": "execute_result"
    }
   ],
   "source": [
    "hit_rate2 = calculate_hit_rate(left_out_dict, list(left_out_df['user_id']), recs2)\n",
    "hit_rate2"
   ]
  },
  {
   "cell_type": "code",
   "execution_count": 36,
   "metadata": {},
   "outputs": [
    {
     "name": "stdout",
     "output_type": "stream",
     "text": [
      "CPU times: user 52min 9s, sys: 1.37 s, total: 52min 10s\n",
      "Wall time: 13min 3s\n"
     ]
    }
   ],
   "source": [
    "%%time\n",
    "recs3 = list(left_out_df.apply(lambda row: recommend_by_user(model3, row, \n",
    "                                                             user_code_dict,\n",
    "                                                             code_person_dict,\n",
    "                                                             user_artist_matrix), axis=1))"
   ]
  },
  {
   "cell_type": "code",
   "execution_count": 37,
   "metadata": {},
   "outputs": [
    {
     "data": {
      "text/plain": [
       "0.0"
      ]
     },
     "execution_count": 37,
     "metadata": {},
     "output_type": "execute_result"
    }
   ],
   "source": [
    "hit_rate3 = calculate_hit_rate(left_out_dict, list(left_out_df['user_id']), recs3)\n",
    "hit_rate3"
   ]
  },
  {
   "cell_type": "markdown",
   "metadata": {},
   "source": [
    "For collaborative filtering, all hit rates equal to 0. Probably it is because of the CF technique: items that were not seen by the user automatically get lower score during the SVD. When I calculate hit rate for top-20 predictions, left-out items never get into the predicted set. Thus, hit rate is not the best way to evaluate top-N recommender based on collaborative filtering with implicit feedback. However, I decided to just continue to work with one of the trained models and check scores on the test set. "
   ]
  },
  {
   "cell_type": "markdown",
   "metadata": {},
   "source": [
    "### 5. Make recommendations for test set and calculate MAPk, precision and recall"
   ]
  },
  {
   "cell_type": "code",
   "execution_count": 39,
   "metadata": {},
   "outputs": [],
   "source": [
    "artists_vectors = dict(zip(code_person_dict_items, model1.item_factors))"
   ]
  },
  {
   "cell_type": "code",
   "execution_count": 40,
   "metadata": {},
   "outputs": [],
   "source": [
    "artists_vectors_df = pd.DataFrame(columns=['person_id', 'vector'])\n",
    "artists_vectors_df['person_id'] = code_person_dict_items\n",
    "artists_vectors_df['vector'] = list(model1.item_factors)"
   ]
  },
  {
   "cell_type": "code",
   "execution_count": 41,
   "metadata": {},
   "outputs": [
    {
     "data": {
      "text/html": [
       "<div>\n",
       "<style scoped>\n",
       "    .dataframe tbody tr th:only-of-type {\n",
       "        vertical-align: middle;\n",
       "    }\n",
       "\n",
       "    .dataframe tbody tr th {\n",
       "        vertical-align: top;\n",
       "    }\n",
       "\n",
       "    .dataframe thead th {\n",
       "        text-align: right;\n",
       "    }\n",
       "</style>\n",
       "<table border=\"1\" class=\"dataframe\">\n",
       "  <thead>\n",
       "    <tr style=\"text-align: right;\">\n",
       "      <th></th>\n",
       "      <th>person_id</th>\n",
       "      <th>vector</th>\n",
       "    </tr>\n",
       "  </thead>\n",
       "  <tbody>\n",
       "    <tr>\n",
       "      <th>0</th>\n",
       "      <td>1</td>\n",
       "      <td>[0.0023508102, 0.00033505622, 0.0007229672, -0...</td>\n",
       "    </tr>\n",
       "    <tr>\n",
       "      <th>1</th>\n",
       "      <td>10</td>\n",
       "      <td>[9.415996e-05, -1.5529604e-05, 0.00010324261, ...</td>\n",
       "    </tr>\n",
       "    <tr>\n",
       "      <th>2</th>\n",
       "      <td>1000</td>\n",
       "      <td>[2.5207437e-06, 0.00015726338, 0.000109625056,...</td>\n",
       "    </tr>\n",
       "    <tr>\n",
       "      <th>3</th>\n",
       "      <td>10000</td>\n",
       "      <td>[0.0001956137, 0.00021028795, 0.00015630509, -...</td>\n",
       "    </tr>\n",
       "    <tr>\n",
       "      <th>4</th>\n",
       "      <td>100000</td>\n",
       "      <td>[0.01943316, 0.0308073, -0.003268252, -0.00348...</td>\n",
       "    </tr>\n",
       "  </tbody>\n",
       "</table>\n",
       "</div>"
      ],
      "text/plain": [
       "  person_id                                             vector\n",
       "0         1  [0.0023508102, 0.00033505622, 0.0007229672, -0...\n",
       "1        10  [9.415996e-05, -1.5529604e-05, 0.00010324261, ...\n",
       "2      1000  [2.5207437e-06, 0.00015726338, 0.000109625056,...\n",
       "3     10000  [0.0001956137, 0.00021028795, 0.00015630509, -...\n",
       "4    100000  [0.01943316, 0.0308073, -0.003268252, -0.00348..."
      ]
     },
     "execution_count": 41,
     "metadata": {},
     "output_type": "execute_result"
    }
   ],
   "source": [
    "artists_vectors_df.head()"
   ]
  },
  {
   "cell_type": "code",
   "execution_count": 42,
   "metadata": {},
   "outputs": [
    {
     "name": "stdout",
     "output_type": "stream",
     "text": [
      "CPU times: user 3h 53min 1s, sys: 12min 21s, total: 4h 5min 22s\n",
      "Wall time: 1h 42min 3s\n"
     ]
    }
   ],
   "source": [
    "%%time\n",
    "top_20_ids = recommend_by_average(test_df, artists_vectors_df)"
   ]
  },
  {
   "cell_type": "code",
   "execution_count": 46,
   "metadata": {},
   "outputs": [],
   "source": [
    "y_true = test_df['persons_lst']\n",
    "y_pred = top_20_ids"
   ]
  },
  {
   "cell_type": "code",
   "execution_count": 47,
   "metadata": {},
   "outputs": [],
   "source": [
    "mapk_scores = []\n",
    "\n",
    "for t, p in zip(y_true, y_pred):\n",
    "    mapk_scores.append(MAPk(t,p))"
   ]
  },
  {
   "cell_type": "code",
   "execution_count": 49,
   "metadata": {},
   "outputs": [
    {
     "data": {
      "text/plain": [
       "0.17343118128256374"
      ]
     },
     "execution_count": 49,
     "metadata": {},
     "output_type": "execute_result"
    }
   ],
   "source": [
    "np.mean(mapk_scores)"
   ]
  },
  {
   "cell_type": "code",
   "execution_count": 50,
   "metadata": {},
   "outputs": [],
   "source": [
    "prec = []\n",
    "\n",
    "for t, p in zip(y_true, y_pred):\n",
    "    prec.append(precision(t,p))"
   ]
  },
  {
   "cell_type": "code",
   "execution_count": 52,
   "metadata": {},
   "outputs": [
    {
     "data": {
      "text/plain": [
       "0.12065855008301052"
      ]
     },
     "execution_count": 52,
     "metadata": {},
     "output_type": "execute_result"
    }
   ],
   "source": [
    "np.mean(prec)"
   ]
  },
  {
   "cell_type": "code",
   "execution_count": 53,
   "metadata": {},
   "outputs": [],
   "source": [
    "rec = []\n",
    "\n",
    "for t, p in zip(y_true, y_pred):\n",
    "    rec.append(recall(t,p))"
   ]
  },
  {
   "cell_type": "code",
   "execution_count": 54,
   "metadata": {},
   "outputs": [
    {
     "data": {
      "text/plain": [
       "0.20614077754239887"
      ]
     },
     "execution_count": 54,
     "metadata": {},
     "output_type": "execute_result"
    }
   ],
   "source": [
    "np.mean(rec)"
   ]
  },
  {
   "cell_type": "code",
   "execution_count": 55,
   "metadata": {},
   "outputs": [],
   "source": [
    "scores_dict = {'mapk': mapk_scores,\n",
    "               'precision': prec,\n",
    "               'recall': rec}"
   ]
  },
  {
   "cell_type": "code",
   "execution_count": 58,
   "metadata": {},
   "outputs": [],
   "source": [
    "a_file = open(\"CF_savings/scores_dict_cf.pkl\", \"wb\")\n",
    "pickle.dump(scores_dict, a_file)\n",
    "a_file.close()"
   ]
  },
  {
   "cell_type": "markdown",
   "metadata": {},
   "source": [
    "### 6. List top-20 most similar artists for some artists"
   ]
  },
  {
   "cell_type": "code",
   "execution_count": 59,
   "metadata": {},
   "outputs": [
    {
     "data": {
      "text/plain": [
       "'Ariana+Grande'"
      ]
     },
     "execution_count": 59,
     "metadata": {},
     "output_type": "execute_result"
    }
   ],
   "source": [
    "#pop\n",
    "people_dict['29692']"
   ]
  },
  {
   "cell_type": "code",
   "execution_count": 61,
   "metadata": {},
   "outputs": [
    {
     "name": "stdout",
     "output_type": "stream",
     "text": [
      "Iggy+Azalea+ft.+Charli+XCX 0.8334274\n",
      "Jessie+J. 0.8050009\n",
      "Meghan+Trainor 0.78568375\n",
      "Sam+Smith 0.7657003\n",
      "Nicki+Minaj 0.7652724\n",
      "Katy+Perry+Ft+Juicy+J 0.763799\n",
      "The+Fault+In+Our+Stars+I+Charli+XCX 0.7566084\n",
      "Clean+Bandit+&+Jess+Glyne 0.740929\n",
      "Miley+Cyrus+&+Cobra+Startship 0.73859847\n",
      "Jason+Derulo 0.7348252\n",
      "mariah+carey+feat.+nelly 0.7183532\n",
      "Pitbull+feat.+T-Pain+&+Sean+Paul 0.71348876\n",
      "Calvin+Harris+feat.+Florence+Welch 0.71252376\n",
      "ToveLoVEVO 0.706127\n",
      "Magic!+&+Zedd 0.6978192\n",
      "One+Direction 0.6915098\n",
      "Selena+Gomez+&+Selena 0.6847935\n",
      "Rihana 0.68340987\n",
      "Ella+Henderson 0.6777716\n",
      "Chris+Brown+&+Trey+Songz 0.6752087\n"
     ]
    }
   ],
   "source": [
    "sim_items = model1.similar_items(person_code_dict['29692'], N=21)[1:]\n",
    "for item, score in sim_items:\n",
    "    print(people_dict[code_person_dict[item]], score)"
   ]
  },
  {
   "cell_type": "markdown",
   "metadata": {},
   "source": [
    "************"
   ]
  },
  {
   "cell_type": "code",
   "execution_count": 63,
   "metadata": {},
   "outputs": [
    {
     "data": {
      "text/plain": [
       "'Freddie+Mercury'"
      ]
     },
     "execution_count": 63,
     "metadata": {},
     "output_type": "execute_result"
    }
   ],
   "source": [
    "#rock\n",
    "people_dict['157384']"
   ]
  },
  {
   "cell_type": "code",
   "execution_count": 64,
   "metadata": {},
   "outputs": [
    {
     "name": "stdout",
     "output_type": "stream",
     "text": [
      "Smokie+&+Suzi+Quatro 0.17785707\n",
      "Rednex 0.16732931\n",
      "Blue+System 0.1670089\n",
      "%D0%90%D0%BD%D0%BD%D0%B0+%D0%A1%D0%BD%D0%B0%D1%82%D0%BA%D0%B8%D0%BD%D0%B0 0.16614941\n",
      "%D0%90%D1%81%D1%81%D0%BE%D1%80%D1%82%D0%B8 0.16611867\n",
      "%D0%9A%D0%B0%D1%82%D1%8F+%D0%91%D1%83%D0%B6%D0%B8%D0%BD%D1%81%D0%BA%D0%B0%D1%8F 0.16594772\n",
      "%D0%A0%D0%B0%D0%B4%D0%B8%D0%BE+%D0%9E%D0%9E%D0%9D 0.16589512\n",
      "%D0%97%D0%B2%D1%83%D0%BA+%D1%82%D1%80%D0%B5%D0%B2%D0%BE%D0%B3%D0%B8 0.16584124\n",
      "%D0%AE%D0%BB%D0%B8%D1%8F+%D0%92%D0%B4%D0%BE%D0%B2%D0%B5%D0%BD%D0%BA%D0%BE 0.16583566\n",
      "%D0%9A%D0%BE%D0%BB%D0%B4%D0%BE%D0%B2%D1%81%D0%BA%D0%B0%D1%8F+%D0%BB%D1%8E%D0%B1%D0%BE%D0%B2%D1%8C 0.1658326\n",
      "%D0%97%D0%B2%D1%83%D0%BA++%D0%A1%D0%B8%D0%B3%D0%BD%D0%B0%D0%BB+%D0%B2%D0%BE%D0%B7%D0%B4%D1%83%D1%88%D0%BD%D0%BE%D0%B9+%D1%82%D1%80%D0%B5%D0%B2%D0%BE%D0%B3%D0%B8 0.1658227\n",
      "%D0%A1%D0%B8%D0%B3%D0%BD%D0%B0%D0%BB+%D0%A2%D1%80%D0%B5%D0%B2%D0%BE%D0%B3%D0%B8 0.1657872\n",
      "Boney+M. 0.16522874\n",
      "Roxette 0.16507366\n",
      "Survivor 0.16334596\n",
      "Gazebo 0.16299067\n",
      "Secret+Service 0.16133526\n",
      "Chris+Norman+&+Suzi+Quatro 0.16121104\n",
      "Adrian+Perticone 0.16116351\n",
      "Berk+The+Virtual+Band 0.16113308\n"
     ]
    }
   ],
   "source": [
    "sim_items = model1.similar_items(person_code_dict['157384'], N=21)[1:]\n",
    "for item, score in sim_items:\n",
    "    print(people_dict[code_person_dict[item]], score)"
   ]
  },
  {
   "cell_type": "markdown",
   "metadata": {},
   "source": [
    "******"
   ]
  },
  {
   "cell_type": "code",
   "execution_count": 65,
   "metadata": {},
   "outputs": [
    {
     "data": {
      "text/plain": [
       "'Mac+Miller+feat.+Action+Bronson'"
      ]
     },
     "execution_count": 65,
     "metadata": {},
     "output_type": "execute_result"
    }
   ],
   "source": [
    "#rap\n",
    "people_dict['211094']"
   ]
  },
  {
   "cell_type": "code",
   "execution_count": 66,
   "metadata": {},
   "outputs": [
    {
     "name": "stdout",
     "output_type": "stream",
     "text": [
      "Wiz+Khalifa+&+John+Cena 0.51475304\n",
      "Schoolboy+Q. 0.51094645\n",
      "Cam+Meekins 0.5007237\n",
      "Keef+in+NYC+%2F+Chiraq%27s+New+Kids 0.49827093\n",
      "Alien+vs.+Predator+vs.+Chief+Keef 0.4982655\n",
      "YG 0.498219\n",
      "Trap+Migos 0.49758837\n",
      "Asher+Roth 0.4968966\n",
      "2+Chainz+&+Future 0.49637565\n",
      "Juvenile+Feat.+Mannie+Fresh+&+Lil%27+Wayne 0.49570483\n",
      "Ty+Dolla+$ign+On+How+His+Videos+Make+Girls+Pregnant 0.4956009\n",
      "Mike+Jones+feat.+Slim+Thug+&+Paul+Wall 0.49558532\n",
      "E-40+Featuring+Clipse 0.4955613\n",
      "Ace+Hood%2FFuture%2FRick+Ross 0.49536103\n",
      "Kirko+Bangz+Ft.+Z-Ro,+Paul+Wall+&+Slim+Thug 0.4951949\n",
      "Nardwuar+vs.+Ab 0.49518555\n",
      "Stalley+ft+Rick+Ross+x+August+Alsina 0.49513942\n",
      "Eazy+Money 0.4950797\n",
      "pokepooh 0.495071\n"
     ]
    }
   ],
   "source": [
    "sim_items = model1.similar_items(person_code_dict['211094'], N=20)[1:]\n",
    "for item, score in sim_items:\n",
    "    print(people_dict[code_person_dict[item]], score)"
   ]
  },
  {
   "cell_type": "code",
   "execution_count": null,
   "metadata": {},
   "outputs": [],
   "source": []
  }
 ],
 "metadata": {
  "kernelspec": {
   "display_name": "Python 3",
   "language": "python",
   "name": "python3"
  },
  "language_info": {
   "codemirror_mode": {
    "name": "ipython",
    "version": 3
   },
   "file_extension": ".py",
   "mimetype": "text/x-python",
   "name": "python",
   "nbconvert_exporter": "python",
   "pygments_lexer": "ipython3",
   "version": "3.6.6"
  }
 },
 "nbformat": 4,
 "nbformat_minor": 2
}
