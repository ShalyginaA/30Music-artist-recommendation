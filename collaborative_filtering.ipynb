{
 "cells": [
  {
   "cell_type": "code",
   "execution_count": 1,
   "metadata": {},
   "outputs": [],
   "source": [
    "import pandas as pd\n",
    "import numpy as np"
   ]
  },
  {
   "cell_type": "code",
   "execution_count": 2,
   "metadata": {},
   "outputs": [],
   "source": [
    "import implicit"
   ]
  },
  {
   "cell_type": "code",
   "execution_count": 3,
   "metadata": {},
   "outputs": [],
   "source": [
    "import pickle"
   ]
  },
  {
   "cell_type": "code",
   "execution_count": 4,
   "metadata": {},
   "outputs": [],
   "source": [
    "from scipy.sparse import coo_matrix"
   ]
  },
  {
   "cell_type": "code",
   "execution_count": 5,
   "metadata": {},
   "outputs": [],
   "source": [
    "from utils.CF_recommender_utils import recommend_by_average, calculate_hit_rate, recommend_by_user\n",
    "from utils.metrics import *"
   ]
  },
  {
   "cell_type": "code",
   "execution_count": 6,
   "metadata": {},
   "outputs": [],
   "source": [
    "! export MKL_NUM_THREADS=1"
   ]
  },
  {
   "cell_type": "markdown",
   "metadata": {},
   "source": [
    "### 1. Load prepared data"
   ]
  },
  {
   "cell_type": "code",
   "execution_count": 7,
   "metadata": {},
   "outputs": [],
   "source": [
    "train_df = pd.read_pickle('data/train_mod.pickle')\n",
    "test_df = pd.read_pickle('data/test_grouped.pickle')\n",
    "left_out_df = pd.read_pickle('data/left_out_df.pickle')"
   ]
  },
  {
   "cell_type": "code",
   "execution_count": 8,
   "metadata": {},
   "outputs": [
    {
     "data": {
      "text/html": [
       "<div>\n",
       "<style scoped>\n",
       "    .dataframe tbody tr th:only-of-type {\n",
       "        vertical-align: middle;\n",
       "    }\n",
       "\n",
       "    .dataframe tbody tr th {\n",
       "        vertical-align: top;\n",
       "    }\n",
       "\n",
       "    .dataframe thead th {\n",
       "        text-align: right;\n",
       "    }\n",
       "</style>\n",
       "<table border=\"1\" class=\"dataframe\">\n",
       "  <thead>\n",
       "    <tr style=\"text-align: right;\">\n",
       "      <th></th>\n",
       "      <th>user_id</th>\n",
       "      <th>person_id</th>\n",
       "    </tr>\n",
       "  </thead>\n",
       "  <tbody>\n",
       "    <tr>\n",
       "      <th>31125591</th>\n",
       "      <td>40215</td>\n",
       "      <td>164287</td>\n",
       "    </tr>\n",
       "    <tr>\n",
       "      <th>2185310</th>\n",
       "      <td>28749</td>\n",
       "      <td>42398</td>\n",
       "    </tr>\n",
       "    <tr>\n",
       "      <th>16687006</th>\n",
       "      <td>8046</td>\n",
       "      <td>367332</td>\n",
       "    </tr>\n",
       "    <tr>\n",
       "      <th>19484714</th>\n",
       "      <td>8749</td>\n",
       "      <td>21753</td>\n",
       "    </tr>\n",
       "    <tr>\n",
       "      <th>13252169</th>\n",
       "      <td>7863</td>\n",
       "      <td>450200</td>\n",
       "    </tr>\n",
       "    <tr>\n",
       "      <th>...</th>\n",
       "      <td>...</td>\n",
       "      <td>...</td>\n",
       "    </tr>\n",
       "    <tr>\n",
       "      <th>5723175</th>\n",
       "      <td>25238</td>\n",
       "      <td>46425</td>\n",
       "    </tr>\n",
       "    <tr>\n",
       "      <th>445058</th>\n",
       "      <td>1858</td>\n",
       "      <td>46425</td>\n",
       "    </tr>\n",
       "    <tr>\n",
       "      <th>9482149</th>\n",
       "      <td>23901</td>\n",
       "      <td>78622</td>\n",
       "    </tr>\n",
       "    <tr>\n",
       "      <th>7051855</th>\n",
       "      <td>5381</td>\n",
       "      <td>274779</td>\n",
       "    </tr>\n",
       "    <tr>\n",
       "      <th>28331553</th>\n",
       "      <td>45158</td>\n",
       "      <td>45261</td>\n",
       "    </tr>\n",
       "  </tbody>\n",
       "</table>\n",
       "<p>7228 rows × 2 columns</p>\n",
       "</div>"
      ],
      "text/plain": [
       "          user_id person_id\n",
       "31125591    40215    164287\n",
       "2185310     28749     42398\n",
       "16687006     8046    367332\n",
       "19484714     8749     21753\n",
       "13252169     7863    450200\n",
       "...           ...       ...\n",
       "5723175     25238     46425\n",
       "445058       1858     46425\n",
       "9482149     23901     78622\n",
       "7051855      5381    274779\n",
       "28331553    45158     45261\n",
       "\n",
       "[7228 rows x 2 columns]"
      ]
     },
     "execution_count": 8,
     "metadata": {},
     "output_type": "execute_result"
    }
   ],
   "source": [
    "left_out_df"
   ]
  },
  {
   "cell_type": "code",
   "execution_count": 9,
   "metadata": {},
   "outputs": [],
   "source": [
    "#count number of interactions for each user and artist\n",
    "train_df2 = train_df[['user_id', 'person_id']].groupby(['user_id', 'person_id']).size().reset_index(name='plays')"
   ]
  },
  {
   "cell_type": "code",
   "execution_count": 10,
   "metadata": {
    "scrolled": true
   },
   "outputs": [
    {
     "data": {
      "text/html": [
       "<div>\n",
       "<style scoped>\n",
       "    .dataframe tbody tr th:only-of-type {\n",
       "        vertical-align: middle;\n",
       "    }\n",
       "\n",
       "    .dataframe tbody tr th {\n",
       "        vertical-align: top;\n",
       "    }\n",
       "\n",
       "    .dataframe thead th {\n",
       "        text-align: right;\n",
       "    }\n",
       "</style>\n",
       "<table border=\"1\" class=\"dataframe\">\n",
       "  <thead>\n",
       "    <tr style=\"text-align: right;\">\n",
       "      <th></th>\n",
       "      <th>user_id</th>\n",
       "      <th>person_id</th>\n",
       "      <th>plays</th>\n",
       "    </tr>\n",
       "  </thead>\n",
       "  <tbody>\n",
       "    <tr>\n",
       "      <th>0</th>\n",
       "      <td>1</td>\n",
       "      <td>104136</td>\n",
       "      <td>72</td>\n",
       "    </tr>\n",
       "    <tr>\n",
       "      <th>1</th>\n",
       "      <td>1</td>\n",
       "      <td>11467</td>\n",
       "      <td>63</td>\n",
       "    </tr>\n",
       "    <tr>\n",
       "      <th>2</th>\n",
       "      <td>1</td>\n",
       "      <td>11617</td>\n",
       "      <td>13</td>\n",
       "    </tr>\n",
       "    <tr>\n",
       "      <th>3</th>\n",
       "      <td>1</td>\n",
       "      <td>153765</td>\n",
       "      <td>32</td>\n",
       "    </tr>\n",
       "    <tr>\n",
       "      <th>4</th>\n",
       "      <td>1</td>\n",
       "      <td>168705</td>\n",
       "      <td>40</td>\n",
       "    </tr>\n",
       "    <tr>\n",
       "      <th>...</th>\n",
       "      <td>...</td>\n",
       "      <td>...</td>\n",
       "      <td>...</td>\n",
       "    </tr>\n",
       "    <tr>\n",
       "      <th>5907655</th>\n",
       "      <td>45174</td>\n",
       "      <td>83375</td>\n",
       "      <td>1</td>\n",
       "    </tr>\n",
       "    <tr>\n",
       "      <th>5907656</th>\n",
       "      <td>45174</td>\n",
       "      <td>86122</td>\n",
       "      <td>1</td>\n",
       "    </tr>\n",
       "    <tr>\n",
       "      <th>5907657</th>\n",
       "      <td>45174</td>\n",
       "      <td>87296</td>\n",
       "      <td>1</td>\n",
       "    </tr>\n",
       "    <tr>\n",
       "      <th>5907658</th>\n",
       "      <td>45174</td>\n",
       "      <td>87766</td>\n",
       "      <td>1</td>\n",
       "    </tr>\n",
       "    <tr>\n",
       "      <th>5907659</th>\n",
       "      <td>45174</td>\n",
       "      <td>88889</td>\n",
       "      <td>1</td>\n",
       "    </tr>\n",
       "  </tbody>\n",
       "</table>\n",
       "<p>5907660 rows × 3 columns</p>\n",
       "</div>"
      ],
      "text/plain": [
       "         user_id person_id  plays\n",
       "0              1    104136     72\n",
       "1              1     11467     63\n",
       "2              1     11617     13\n",
       "3              1    153765     32\n",
       "4              1    168705     40\n",
       "...          ...       ...    ...\n",
       "5907655    45174     83375      1\n",
       "5907656    45174     86122      1\n",
       "5907657    45174     87296      1\n",
       "5907658    45174     87766      1\n",
       "5907659    45174     88889      1\n",
       "\n",
       "[5907660 rows x 3 columns]"
      ]
     },
     "execution_count": 10,
     "metadata": {},
     "output_type": "execute_result"
    }
   ],
   "source": [
    "train_df2"
   ]
  },
  {
   "cell_type": "code",
   "execution_count": 11,
   "metadata": {},
   "outputs": [],
   "source": [
    "left_out_df = left_out_df[left_out_df['user_id'].isin(set(train_df2['user_id']))]"
   ]
  },
  {
   "cell_type": "markdown",
   "metadata": {},
   "source": [
    "### 2. Prepare artists and left-out set dictionaries"
   ]
  },
  {
   "cell_type": "code",
   "execution_count": 12,
   "metadata": {},
   "outputs": [],
   "source": [
    "people_df = pd.read_pickle('data/new_persons_df.pickle')"
   ]
  },
  {
   "cell_type": "code",
   "execution_count": 13,
   "metadata": {},
   "outputs": [],
   "source": [
    "people_df['person_id'] = people_df['person_id'].astype(str)"
   ]
  },
  {
   "cell_type": "code",
   "execution_count": 14,
   "metadata": {},
   "outputs": [
    {
     "data": {
      "text/plain": [
       "560927"
      ]
     },
     "execution_count": 14,
     "metadata": {},
     "output_type": "execute_result"
    }
   ],
   "source": [
    "len(people_df['person_id'].unique())"
   ]
  },
  {
   "cell_type": "code",
   "execution_count": 15,
   "metadata": {},
   "outputs": [],
   "source": [
    "people_dict = pd.Series(people_df['person_name'].values, index=people_df['person_id']).to_dict()"
   ]
  },
  {
   "cell_type": "code",
   "execution_count": 16,
   "metadata": {},
   "outputs": [
    {
     "data": {
      "text/plain": [
       "'Everything+Is+Illuminated'"
      ]
     },
     "execution_count": 16,
     "metadata": {},
     "output_type": "execute_result"
    }
   ],
   "source": [
    "people_dict['145148']"
   ]
  },
  {
   "cell_type": "markdown",
   "metadata": {},
   "source": [
    "**************"
   ]
  },
  {
   "cell_type": "code",
   "execution_count": 17,
   "metadata": {},
   "outputs": [],
   "source": [
    "left_out_dict = pd.Series(left_out_df['person_id'].values, index=left_out_df['user_id']).to_dict()"
   ]
  },
  {
   "cell_type": "code",
   "execution_count": 18,
   "metadata": {},
   "outputs": [
    {
     "data": {
      "text/plain": [
       "'432322'"
      ]
     },
     "execution_count": 18,
     "metadata": {},
     "output_type": "execute_result"
    }
   ],
   "source": [
    "left_out_dict[13693]"
   ]
  },
  {
   "cell_type": "markdown",
   "metadata": {},
   "source": [
    "### 3. Collaborative filtering for implicit feedback data"
   ]
  },
  {
   "cell_type": "code",
   "execution_count": 19,
   "metadata": {},
   "outputs": [],
   "source": [
    "#user and person ids to categorical\n",
    "train_df2['user_id'] = train_df2['user_id'].astype(\"category\")\n",
    "train_df2['person_id'] = train_df2['person_id'].astype(\"category\")"
   ]
  },
  {
   "cell_type": "code",
   "execution_count": 20,
   "metadata": {},
   "outputs": [
    {
     "data": {
      "text/html": [
       "<div>\n",
       "<style scoped>\n",
       "    .dataframe tbody tr th:only-of-type {\n",
       "        vertical-align: middle;\n",
       "    }\n",
       "\n",
       "    .dataframe tbody tr th {\n",
       "        vertical-align: top;\n",
       "    }\n",
       "\n",
       "    .dataframe thead th {\n",
       "        text-align: right;\n",
       "    }\n",
       "</style>\n",
       "<table border=\"1\" class=\"dataframe\">\n",
       "  <thead>\n",
       "    <tr style=\"text-align: right;\">\n",
       "      <th></th>\n",
       "      <th>user_id</th>\n",
       "      <th>person_id</th>\n",
       "      <th>plays</th>\n",
       "    </tr>\n",
       "  </thead>\n",
       "  <tbody>\n",
       "    <tr>\n",
       "      <th>0</th>\n",
       "      <td>1</td>\n",
       "      <td>104136</td>\n",
       "      <td>72</td>\n",
       "    </tr>\n",
       "    <tr>\n",
       "      <th>1</th>\n",
       "      <td>1</td>\n",
       "      <td>11467</td>\n",
       "      <td>63</td>\n",
       "    </tr>\n",
       "    <tr>\n",
       "      <th>2</th>\n",
       "      <td>1</td>\n",
       "      <td>11617</td>\n",
       "      <td>13</td>\n",
       "    </tr>\n",
       "    <tr>\n",
       "      <th>3</th>\n",
       "      <td>1</td>\n",
       "      <td>153765</td>\n",
       "      <td>32</td>\n",
       "    </tr>\n",
       "    <tr>\n",
       "      <th>4</th>\n",
       "      <td>1</td>\n",
       "      <td>168705</td>\n",
       "      <td>40</td>\n",
       "    </tr>\n",
       "  </tbody>\n",
       "</table>\n",
       "</div>"
      ],
      "text/plain": [
       "  user_id person_id  plays\n",
       "0       1    104136     72\n",
       "1       1     11467     63\n",
       "2       1     11617     13\n",
       "3       1    153765     32\n",
       "4       1    168705     40"
      ]
     },
     "execution_count": 20,
     "metadata": {},
     "output_type": "execute_result"
    }
   ],
   "source": [
    "train_df2.head()"
   ]
  },
  {
   "cell_type": "code",
   "execution_count": 21,
   "metadata": {},
   "outputs": [],
   "source": [
    "#save person codes and construct useful dictionaries\n",
    "person_codes = train_df2['person_id'].cat.codes\n",
    "user_codes = train_df2['user_id'].cat.codes\n",
    "\n",
    "code_person_dict = dict(zip(person_codes, train_df2['person_id']))\n",
    "person_code_dict = dict(zip(train_df2['person_id'], person_codes))\n",
    "\n",
    "code_user_dict = dict(zip(user_codes, train_df2['user_id']))\n",
    "user_code_dict = dict(zip(train_df2['user_id'], user_codes))"
   ]
  },
  {
   "cell_type": "code",
   "execution_count": 22,
   "metadata": {},
   "outputs": [],
   "source": [
    "# get persons ids to later use it for person vectors dictionary\n",
    "code_person_dict_items = [x[1] for x in sorted(code_person_dict.items())]"
   ]
  },
  {
   "cell_type": "code",
   "execution_count": 23,
   "metadata": {},
   "outputs": [],
   "source": [
    "# create a sparse matrix of artist/user/n_plays \n",
    "artist_user_matrix = coo_matrix((train_df2['plays'].astype(float), \n",
    "                                (person_codes, \n",
    "                                 user_codes)))\n"
   ]
  },
  {
   "cell_type": "code",
   "execution_count": 24,
   "metadata": {},
   "outputs": [
    {
     "data": {
      "text/plain": [
       "(515111, 36139)"
      ]
     },
     "execution_count": 24,
     "metadata": {},
     "output_type": "execute_result"
    }
   ],
   "source": [
    "artist_user_matrix.shape"
   ]
  },
  {
   "cell_type": "markdown",
   "metadata": {},
   "source": [
    "Initialize several models with different parameters (manual hyperparameter tuning)"
   ]
  },
  {
   "cell_type": "code",
   "execution_count": 25,
   "metadata": {},
   "outputs": [
    {
     "name": "stderr",
     "output_type": "stream",
     "text": [
      "WARNING:root:Intel MKL BLAS detected. Its highly recommend to set the environment variable 'export MKL_NUM_THREADS=1' to disable its internal multithreading\n"
     ]
    }
   ],
   "source": [
    "# initialize a model\n",
    "model1 = implicit.als.AlternatingLeastSquares(factors=50, iterations=30)\n",
    "model2 = implicit.als.AlternatingLeastSquares(factors=100, iterations=30)"
   ]
  },
  {
   "cell_type": "code",
   "execution_count": 26,
   "metadata": {},
   "outputs": [
    {
     "data": {
      "application/vnd.jupyter.widget-view+json": {
       "model_id": "343bbeb5cbb546e1ac4e71eeb3701e24",
       "version_major": 2,
       "version_minor": 0
      },
      "text/plain": [
       "HBox(children=(IntProgress(value=0, max=30), HTML(value='')))"
      ]
     },
     "metadata": {},
     "output_type": "display_data"
    },
    {
     "name": "stdout",
     "output_type": "stream",
     "text": [
      "\n"
     ]
    }
   ],
   "source": [
    "model1.fit(artist_user_matrix)"
   ]
  },
  {
   "cell_type": "code",
   "execution_count": 27,
   "metadata": {},
   "outputs": [
    {
     "data": {
      "application/vnd.jupyter.widget-view+json": {
       "model_id": "291f453d8062464da24e72296922c681",
       "version_major": 2,
       "version_minor": 0
      },
      "text/plain": [
       "HBox(children=(IntProgress(value=0, max=30), HTML(value='')))"
      ]
     },
     "metadata": {},
     "output_type": "display_data"
    },
    {
     "name": "stdout",
     "output_type": "stream",
     "text": [
      "\n"
     ]
    }
   ],
   "source": [
    "model2.fit(artist_user_matrix)"
   ]
  },
  {
   "cell_type": "code",
   "execution_count": 28,
   "metadata": {},
   "outputs": [
    {
     "data": {
      "text/plain": [
       "array([[ 2.3767738e-04, -1.9776321e-03, -2.3199029e-03, ...,\n",
       "         3.6011722e-03,  5.7390769e-04,  1.5309113e-03],\n",
       "       [ 1.3070554e-04, -1.0336972e-04, -8.3678649e-05, ...,\n",
       "         8.2720899e-06, -1.5551643e-05,  8.9416499e-06],\n",
       "       [ 1.5553256e-04,  7.8542238e-05,  3.3827714e-06, ...,\n",
       "         5.8673973e-05, -7.9712110e-05,  6.4117557e-05],\n",
       "       ...,\n",
       "       [ 1.8496075e-04,  3.5762598e-04,  9.5885262e-05, ...,\n",
       "         2.8970922e-04, -2.9832865e-05,  2.5424601e-05],\n",
       "       [ 3.4473944e-04, -6.0299260e-04, -8.8563265e-04, ...,\n",
       "         1.0696728e-03,  3.0537942e-04,  5.8903394e-04],\n",
       "       [-1.6431708e-02, -1.3337076e-02,  1.1959351e-02, ...,\n",
       "         3.5670795e-02, -3.0058967e-03,  2.6921444e-02]], dtype=float32)"
      ]
     },
     "execution_count": 28,
     "metadata": {},
     "output_type": "execute_result"
    }
   ],
   "source": [
    "model1.item_factors"
   ]
  },
  {
   "cell_type": "markdown",
   "metadata": {},
   "source": [
    "### 4. Calculate hit rate"
   ]
  },
  {
   "cell_type": "markdown",
   "metadata": {},
   "source": [
    "Claculate hit rate using left-one-out data in order to decide which model is better"
   ]
  },
  {
   "cell_type": "code",
   "execution_count": 29,
   "metadata": {},
   "outputs": [],
   "source": [
    "def calculate_hit_rate(left_out_dict, user_ids_lst, top_20_recommended_ids):\n",
    "    '''\n",
    "    Claculated hit rate for top 20 using left-one-out set\n",
    "    '''\n",
    "    hit_rate = 0\n",
    "    total_users = len(user_ids_lst)\n",
    "    \n",
    "    for user, ids_lst in zip(user_ids_lst, top_20_recommended_ids):\n",
    "        #print(user)\n",
    "        #print(left_out_dict[user])\n",
    "        #print(ids_lst)\n",
    "        if left_out_dict[user] in ids_lst:\n",
    "            hit_rate += 1\n",
    "    return hit_rate/total_users"
   ]
  },
  {
   "cell_type": "code",
   "execution_count": 30,
   "metadata": {},
   "outputs": [],
   "source": [
    "user_artist_matrix = artist_user_matrix.T.tocsr()"
   ]
  },
  {
   "cell_type": "code",
   "execution_count": 31,
   "metadata": {},
   "outputs": [
    {
     "name": "stdout",
     "output_type": "stream",
     "text": [
      "CPU times: user 6min 38s, sys: 12.7 ms, total: 6min 38s\n",
      "Wall time: 1min 39s\n"
     ]
    }
   ],
   "source": [
    "%%time\n",
    "recs1 = list(left_out_df.apply(lambda row: recommend_by_user(model1, row, \n",
    "                                                             user_code_dict,\n",
    "                                                             code_person_dict,\n",
    "                                                             user_artist_matrix), axis=1))"
   ]
  },
  {
   "cell_type": "code",
   "execution_count": 32,
   "metadata": {},
   "outputs": [
    {
     "data": {
      "text/plain": [
       "0.22955583229555832"
      ]
     },
     "execution_count": 32,
     "metadata": {},
     "output_type": "execute_result"
    }
   ],
   "source": [
    "hit_rate1 = calculate_hit_rate(left_out_dict, list(left_out_df['user_id']), recs1)\n",
    "hit_rate1"
   ]
  },
  {
   "cell_type": "code",
   "execution_count": 33,
   "metadata": {},
   "outputs": [
    {
     "name": "stdout",
     "output_type": "stream",
     "text": [
      "CPU times: user 10min 42s, sys: 15.1 ms, total: 10min 42s\n",
      "Wall time: 2min 40s\n"
     ]
    }
   ],
   "source": [
    "%%time\n",
    "recs2 = list(left_out_df.apply(lambda row: recommend_by_user(model2, row, \n",
    "                                                             user_code_dict,\n",
    "                                                             code_person_dict,\n",
    "                                                             user_artist_matrix), axis=1))"
   ]
  },
  {
   "cell_type": "code",
   "execution_count": 34,
   "metadata": {},
   "outputs": [
    {
     "data": {
      "text/plain": [
       "0.23868825238688252"
      ]
     },
     "execution_count": 34,
     "metadata": {},
     "output_type": "execute_result"
    }
   ],
   "source": [
    "hit_rate2 = calculate_hit_rate(left_out_dict, list(left_out_df['user_id']), recs2)\n",
    "hit_rate2"
   ]
  },
  {
   "cell_type": "markdown",
   "metadata": {},
   "source": [
    "For collaborative filtering, hit rates for model1 and model2 equal to 0. It means that the model bad at predicting items that that user didn't interact with before. "
   ]
  },
  {
   "cell_type": "markdown",
   "metadata": {},
   "source": [
    "### 5. Make recommendations for test set and calculate MAPk and recall"
   ]
  },
  {
   "cell_type": "code",
   "execution_count": 35,
   "metadata": {},
   "outputs": [],
   "source": [
    "artists_vectors = dict(zip(code_person_dict_items, model2.item_factors))"
   ]
  },
  {
   "cell_type": "code",
   "execution_count": 36,
   "metadata": {},
   "outputs": [],
   "source": [
    "artists_vectors_df = pd.DataFrame(columns=['person_id', 'vector'])\n",
    "artists_vectors_df['person_id'] = code_person_dict_items\n",
    "artists_vectors_df['vector'] = list(model2.item_factors)"
   ]
  },
  {
   "cell_type": "code",
   "execution_count": 37,
   "metadata": {},
   "outputs": [
    {
     "data": {
      "text/html": [
       "<div>\n",
       "<style scoped>\n",
       "    .dataframe tbody tr th:only-of-type {\n",
       "        vertical-align: middle;\n",
       "    }\n",
       "\n",
       "    .dataframe tbody tr th {\n",
       "        vertical-align: top;\n",
       "    }\n",
       "\n",
       "    .dataframe thead th {\n",
       "        text-align: right;\n",
       "    }\n",
       "</style>\n",
       "<table border=\"1\" class=\"dataframe\">\n",
       "  <thead>\n",
       "    <tr style=\"text-align: right;\">\n",
       "      <th></th>\n",
       "      <th>person_id</th>\n",
       "      <th>vector</th>\n",
       "    </tr>\n",
       "  </thead>\n",
       "  <tbody>\n",
       "    <tr>\n",
       "      <th>0</th>\n",
       "      <td>1</td>\n",
       "      <td>[0.0046833134, 0.0052596247, 0.0060501643, 0.0...</td>\n",
       "    </tr>\n",
       "    <tr>\n",
       "      <th>1</th>\n",
       "      <td>10</td>\n",
       "      <td>[0.00451187, 0.0023319805, 0.0023501331, 0.004...</td>\n",
       "    </tr>\n",
       "    <tr>\n",
       "      <th>2</th>\n",
       "      <td>1000</td>\n",
       "      <td>[0.0047891326, 0.0023434267, 0.002760814, 0.00...</td>\n",
       "    </tr>\n",
       "    <tr>\n",
       "      <th>3</th>\n",
       "      <td>10000</td>\n",
       "      <td>[0.0047093695, 0.0025743272, 0.0028270192, 0.0...</td>\n",
       "    </tr>\n",
       "    <tr>\n",
       "      <th>4</th>\n",
       "      <td>100000</td>\n",
       "      <td>[-0.0027736675, 0.008846769, 0.019597149, 0.00...</td>\n",
       "    </tr>\n",
       "  </tbody>\n",
       "</table>\n",
       "</div>"
      ],
      "text/plain": [
       "  person_id                                             vector\n",
       "0         1  [0.0046833134, 0.0052596247, 0.0060501643, 0.0...\n",
       "1        10  [0.00451187, 0.0023319805, 0.0023501331, 0.004...\n",
       "2      1000  [0.0047891326, 0.0023434267, 0.002760814, 0.00...\n",
       "3     10000  [0.0047093695, 0.0025743272, 0.0028270192, 0.0...\n",
       "4    100000  [-0.0027736675, 0.008846769, 0.019597149, 0.00..."
      ]
     },
     "execution_count": 37,
     "metadata": {},
     "output_type": "execute_result"
    }
   ],
   "source": [
    "artists_vectors_df.head()"
   ]
  },
  {
   "cell_type": "code",
   "execution_count": 38,
   "metadata": {},
   "outputs": [],
   "source": [
    "def separate_pers_lst(row):\n",
    "    persons_lst = list(set(row['persons_lst']))\n",
    "    n = len(persons_lst)    \n",
    "    l = persons_lst[:n//2]\n",
    "    r = persons_lst[n//2:]\n",
    "    d = {'persons_lst': l,\n",
    "         'right_lst' : r}\n",
    "    return d   "
   ]
  },
  {
   "cell_type": "code",
   "execution_count": 39,
   "metadata": {},
   "outputs": [],
   "source": [
    "test_df_sep = pd.DataFrame(list(test_df.apply(lambda row: separate_pers_lst(row), axis=1)))\n",
    "test_df_sep['user_id'] = test_df['user_id']"
   ]
  },
  {
   "cell_type": "code",
   "execution_count": 40,
   "metadata": {},
   "outputs": [
    {
     "data": {
      "text/html": [
       "<div>\n",
       "<style scoped>\n",
       "    .dataframe tbody tr th:only-of-type {\n",
       "        vertical-align: middle;\n",
       "    }\n",
       "\n",
       "    .dataframe tbody tr th {\n",
       "        vertical-align: top;\n",
       "    }\n",
       "\n",
       "    .dataframe thead th {\n",
       "        text-align: right;\n",
       "    }\n",
       "</style>\n",
       "<table border=\"1\" class=\"dataframe\">\n",
       "  <thead>\n",
       "    <tr style=\"text-align: right;\">\n",
       "      <th></th>\n",
       "      <th>persons_lst</th>\n",
       "      <th>right_lst</th>\n",
       "      <th>user_id</th>\n",
       "    </tr>\n",
       "  </thead>\n",
       "  <tbody>\n",
       "    <tr>\n",
       "      <th>0</th>\n",
       "      <td>[70886, 259767, 382004, 294948, 33239, 436802,...</td>\n",
       "      <td>[354658, 302485, 409053, 162669, 189203, 26467...</td>\n",
       "      <td>2</td>\n",
       "    </tr>\n",
       "    <tr>\n",
       "      <th>1</th>\n",
       "      <td>[272632, 294652, 13342, 304147, 304149, 309593...</td>\n",
       "      <td>[54493, 304141, 281959, 112558, 105529, 304150...</td>\n",
       "      <td>6</td>\n",
       "    </tr>\n",
       "    <tr>\n",
       "      <th>2</th>\n",
       "      <td>[378590, 400535, 294583, 74637, 363398, 124222...</td>\n",
       "      <td>[351629, 330635, 106304, 50495, 231436, 427089...</td>\n",
       "      <td>9</td>\n",
       "    </tr>\n",
       "    <tr>\n",
       "      <th>3</th>\n",
       "      <td>[302401]</td>\n",
       "      <td>[263881]</td>\n",
       "      <td>10</td>\n",
       "    </tr>\n",
       "    <tr>\n",
       "      <th>4</th>\n",
       "      <td>[245929, 172300, 137066, 40664, 414988, 36874,...</td>\n",
       "      <td>[385051, 164555, 302609, 307609, 212650, 39741...</td>\n",
       "      <td>19</td>\n",
       "    </tr>\n",
       "    <tr>\n",
       "      <th>...</th>\n",
       "      <td>...</td>\n",
       "      <td>...</td>\n",
       "      <td>...</td>\n",
       "    </tr>\n",
       "    <tr>\n",
       "      <th>9030</th>\n",
       "      <td>[438992, 211585, 20674, 538952, 174298, 538954...</td>\n",
       "      <td>[269833, 34180, 311224, 538951, 383340, 36823,...</td>\n",
       "      <td>45138</td>\n",
       "    </tr>\n",
       "    <tr>\n",
       "      <th>9031</th>\n",
       "      <td>[448992, 381567, 387785, 537919, 370672, 97923...</td>\n",
       "      <td>[440590, 248381, 143048, 11309, 357494, 398286...</td>\n",
       "      <td>45147</td>\n",
       "    </tr>\n",
       "    <tr>\n",
       "      <th>9032</th>\n",
       "      <td>[29661, 16783, 117659, 192393, 190028, 275082,...</td>\n",
       "      <td>[549895, 54198, 218992, 549894, 335800, 129, 1...</td>\n",
       "      <td>45148</td>\n",
       "    </tr>\n",
       "    <tr>\n",
       "      <th>9033</th>\n",
       "      <td>[427743, 123799, 247367, 138443, 255583, 40851...</td>\n",
       "      <td>[120181, 345801, 148559, 110366, 221303, 52520...</td>\n",
       "      <td>45172</td>\n",
       "    </tr>\n",
       "    <tr>\n",
       "      <th>9034</th>\n",
       "      <td>[348909, 198277, 19863, 426475, 259883, 13309,...</td>\n",
       "      <td>[58406, 303596, 17857, 135005, 119698, 390280,...</td>\n",
       "      <td>45175</td>\n",
       "    </tr>\n",
       "  </tbody>\n",
       "</table>\n",
       "<p>9035 rows × 3 columns</p>\n",
       "</div>"
      ],
      "text/plain": [
       "                                            persons_lst  \\\n",
       "0     [70886, 259767, 382004, 294948, 33239, 436802,...   \n",
       "1     [272632, 294652, 13342, 304147, 304149, 309593...   \n",
       "2     [378590, 400535, 294583, 74637, 363398, 124222...   \n",
       "3                                              [302401]   \n",
       "4     [245929, 172300, 137066, 40664, 414988, 36874,...   \n",
       "...                                                 ...   \n",
       "9030  [438992, 211585, 20674, 538952, 174298, 538954...   \n",
       "9031  [448992, 381567, 387785, 537919, 370672, 97923...   \n",
       "9032  [29661, 16783, 117659, 192393, 190028, 275082,...   \n",
       "9033  [427743, 123799, 247367, 138443, 255583, 40851...   \n",
       "9034  [348909, 198277, 19863, 426475, 259883, 13309,...   \n",
       "\n",
       "                                              right_lst  user_id  \n",
       "0     [354658, 302485, 409053, 162669, 189203, 26467...        2  \n",
       "1     [54493, 304141, 281959, 112558, 105529, 304150...        6  \n",
       "2     [351629, 330635, 106304, 50495, 231436, 427089...        9  \n",
       "3                                              [263881]       10  \n",
       "4     [385051, 164555, 302609, 307609, 212650, 39741...       19  \n",
       "...                                                 ...      ...  \n",
       "9030  [269833, 34180, 311224, 538951, 383340, 36823,...    45138  \n",
       "9031  [440590, 248381, 143048, 11309, 357494, 398286...    45147  \n",
       "9032  [549895, 54198, 218992, 549894, 335800, 129, 1...    45148  \n",
       "9033  [120181, 345801, 148559, 110366, 221303, 52520...    45172  \n",
       "9034  [58406, 303596, 17857, 135005, 119698, 390280,...    45175  \n",
       "\n",
       "[9035 rows x 3 columns]"
      ]
     },
     "execution_count": 40,
     "metadata": {},
     "output_type": "execute_result"
    }
   ],
   "source": [
    "test_df_sep"
   ]
  },
  {
   "cell_type": "code",
   "execution_count": 41,
   "metadata": {},
   "outputs": [
    {
     "data": {
      "text/plain": [
       "(9035, 2)"
      ]
     },
     "execution_count": 41,
     "metadata": {},
     "output_type": "execute_result"
    }
   ],
   "source": [
    "test_df.shape"
   ]
  },
  {
   "cell_type": "code",
   "execution_count": 42,
   "metadata": {},
   "outputs": [
    {
     "name": "stdout",
     "output_type": "stream",
     "text": [
      "CPU times: user 4h 6min 34s, sys: 19min 36s, total: 4h 26min 11s\n",
      "Wall time: 1h 51min 46s\n"
     ]
    }
   ],
   "source": [
    "%%time\n",
    "top_20_ids = list(test_df_sep.apply(lambda row: recommend_by_average(row, artists_vectors_df), axis=1))"
   ]
  },
  {
   "cell_type": "code",
   "execution_count": 43,
   "metadata": {},
   "outputs": [],
   "source": [
    "y_true = test_df_sep['right_lst']\n",
    "y_pred = top_20_ids"
   ]
  },
  {
   "cell_type": "code",
   "execution_count": 44,
   "metadata": {},
   "outputs": [],
   "source": [
    "mapk_scores = []\n",
    "\n",
    "for t, p in zip(y_true, y_pred):\n",
    "    mapk_scores.append(MAPk(t,p))"
   ]
  },
  {
   "cell_type": "code",
   "execution_count": 45,
   "metadata": {},
   "outputs": [
    {
     "data": {
      "text/plain": [
       "0.025194398152964474"
      ]
     },
     "execution_count": 45,
     "metadata": {},
     "output_type": "execute_result"
    }
   ],
   "source": [
    "np.mean(mapk_scores)"
   ]
  },
  {
   "cell_type": "code",
   "execution_count": 46,
   "metadata": {},
   "outputs": [],
   "source": [
    "rec = []\n",
    "\n",
    "for t, p in zip(y_true, y_pred):\n",
    "    rec.append(recall(t,p))"
   ]
  },
  {
   "cell_type": "code",
   "execution_count": 47,
   "metadata": {},
   "outputs": [
    {
     "data": {
      "text/plain": [
       "0.057066397317200854"
      ]
     },
     "execution_count": 47,
     "metadata": {},
     "output_type": "execute_result"
    }
   ],
   "source": [
    "np.mean(rec)"
   ]
  },
  {
   "cell_type": "code",
   "execution_count": 48,
   "metadata": {},
   "outputs": [],
   "source": [
    "scores_dict = {'mapk': mapk_scores,\n",
    "               'recall': rec}"
   ]
  },
  {
   "cell_type": "code",
   "execution_count": 49,
   "metadata": {},
   "outputs": [],
   "source": [
    "a_file = open(\"CF_savings/scores_dict_cf.pkl\", \"wb\")\n",
    "pickle.dump(scores_dict, a_file)\n",
    "a_file.close()"
   ]
  },
  {
   "cell_type": "markdown",
   "metadata": {},
   "source": [
    "### 6. List top-20 most similar artists for some artists"
   ]
  },
  {
   "cell_type": "code",
   "execution_count": 50,
   "metadata": {},
   "outputs": [
    {
     "data": {
      "text/plain": [
       "'Ariana+Grande'"
      ]
     },
     "execution_count": 50,
     "metadata": {},
     "output_type": "execute_result"
    }
   ],
   "source": [
    "#pop\n",
    "people_dict['29692']"
   ]
  },
  {
   "cell_type": "code",
   "execution_count": 51,
   "metadata": {},
   "outputs": [
    {
     "name": "stdout",
     "output_type": "stream",
     "text": [
      "Meghan+Trainor 0.6882256\n",
      "Jessie+J. 0.6794357\n",
      "Iggy+Azalea+ft.+Charli+XCX 0.6700493\n",
      "The+Fault+In+Our+Stars+I+Charli+XCX 0.59241873\n",
      "Clean+Bandit+&+Jess+Glyne 0.5734758\n",
      "Magic!+&+Zedd 0.57257116\n",
      "ToveLoVEVO 0.57134956\n",
      "Nicki+Minaj 0.5705345\n",
      "Sam+Smith 0.56995296\n",
      "Jason+Derulo 0.55801547\n",
      "Katy+Perry+Ft+Juicy+J 0.5548027\n",
      "Calvin+Harris+feat.+Florence+Welch 0.54130036\n",
      "Sia+&+Beck 0.53977466\n",
      "David+Guetta+&+Nicky+Romero 0.53765625\n",
      "Pitbull+feat.+T-Pain+&+Sean+Paul 0.534914\n",
      "Maroon+5+Ft.+Rihanna 0.529191\n",
      "Selena+Gomez+&+Selena 0.51391065\n",
      "Becky+G 0.50457126\n",
      "Kiesza 0.49299043\n",
      "One+Direction 0.48563552\n"
     ]
    }
   ],
   "source": [
    "sim_items = model2.similar_items(person_code_dict['29692'], N=21)[1:]\n",
    "for item, score in sim_items:\n",
    "    print(people_dict[code_person_dict[item]], score)"
   ]
  },
  {
   "cell_type": "markdown",
   "metadata": {},
   "source": [
    "************"
   ]
  },
  {
   "cell_type": "code",
   "execution_count": 52,
   "metadata": {},
   "outputs": [
    {
     "data": {
      "text/plain": [
       "'Freddie+Mercury'"
      ]
     },
     "execution_count": 52,
     "metadata": {},
     "output_type": "execute_result"
    }
   ],
   "source": [
    "#rock\n",
    "people_dict['157384']"
   ]
  },
  {
   "cell_type": "code",
   "execution_count": 53,
   "metadata": {},
   "outputs": [
    {
     "name": "stdout",
     "output_type": "stream",
     "text": [
      "Black 0.13345204\n",
      "Bad+Boys+Blue 0.13065952\n",
      "Gazebo 0.1304788\n",
      "Ricchi+e+poveri 0.12982155\n",
      "F.R.+David 0.12976216\n",
      "Masterboy 0.12834346\n",
      "Modern+Talking 0.12814285\n",
      "Patrick+Swayze 0.12814005\n",
      "Twenty+4+Seven 0.12773447\n",
      "Limahl 0.12604512\n",
      "Samantha+Fox 0.12597412\n",
      "M+People 0.12593555\n",
      "Dr.+Alban+&+Jessica+Folcker 0.125536\n",
      "Blue+System 0.12529485\n",
      "Katrina+and+the+Waves 0.12523259\n",
      "Bonnie+Tyler+&+Meatloaf 0.12477777\n",
      "The+Cross 0.124489\n",
      "Tight+Fit 0.124375716\n",
      "Tina+Turner+feat.+Sting 0.12407678\n",
      "Smokie+&+Suzi+Quatro 0.124019444\n"
     ]
    }
   ],
   "source": [
    "sim_items = model2.similar_items(person_code_dict['157384'], N=21)[1:]\n",
    "for item, score in sim_items:\n",
    "    print(people_dict[code_person_dict[item]], score)"
   ]
  },
  {
   "cell_type": "markdown",
   "metadata": {},
   "source": [
    "************"
   ]
  },
  {
   "cell_type": "code",
   "execution_count": 54,
   "metadata": {},
   "outputs": [
    {
     "data": {
      "text/plain": [
       "'Mac+Miller+feat.+Action+Bronson'"
      ]
     },
     "execution_count": 54,
     "metadata": {},
     "output_type": "execute_result"
    }
   ],
   "source": [
    "#rap\n",
    "people_dict['211094']"
   ]
  },
  {
   "cell_type": "code",
   "execution_count": 55,
   "metadata": {},
   "outputs": [
    {
     "name": "stdout",
     "output_type": "stream",
     "text": [
      "Schoolboy+Q. 0.44531786\n",
      "Asher+Roth 0.44493726\n",
      "Ab-Soul+&+Jay+Rock 0.44266513\n",
      "YG 0.43413195\n",
      "Pusha+T 0.43391928\n",
      "2+Chainz+&+Future 0.42097405\n",
      "Logic+&+Last+Resort 0.4193839\n",
      "Tyler+the+Creator 0.41901627\n",
      "A$AP+Rocky 0.41446146\n",
      "Domo+Genesis+&+The+Alchemist 0.41219902\n",
      "Kid+Cudi+vs+Crookers 0.41112053\n",
      "Young+Jeezy+&+Bun-B 0.40926802\n",
      "J+Cole+&+Miguel 0.405432\n",
      "Curren$y+&+Alchemist 0.39938217\n",
      "A$AP+Ferg+ft.+A$AP+Rocky+&+Shabba+Ranks 0.39918393\n",
      "Wiz+Khalifa+&+John+Cena 0.3980419\n",
      "Flatbush+ZOMBiES+&+The+Underachievers 0.39765757\n",
      "MellowHype 0.39396873\n",
      "Earl+Sweatshirt 0.39297706\n",
      "Chance+The+Rapper+&+The+Social+Experiment 0.3921629\n"
     ]
    }
   ],
   "source": [
    "sim_items = model2.similar_items(person_code_dict['211094'], N=21)[1:]\n",
    "for item, score in sim_items:\n",
    "    print(people_dict[code_person_dict[item]], score)"
   ]
  },
  {
   "cell_type": "code",
   "execution_count": null,
   "metadata": {},
   "outputs": [],
   "source": []
  }
 ],
 "metadata": {
  "kernelspec": {
   "display_name": "Python 3",
   "language": "python",
   "name": "python3"
  },
  "language_info": {
   "codemirror_mode": {
    "name": "ipython",
    "version": 3
   },
   "file_extension": ".py",
   "mimetype": "text/x-python",
   "name": "python",
   "nbconvert_exporter": "python",
   "pygments_lexer": "ipython3",
   "version": "3.6.6"
  }
 },
 "nbformat": 4,
 "nbformat_minor": 2
}
