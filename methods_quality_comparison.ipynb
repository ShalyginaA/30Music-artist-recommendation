{
 "cells": [
  {
   "cell_type": "code",
   "execution_count": 1,
   "metadata": {},
   "outputs": [],
   "source": [
    "import pandas as pd\n",
    "import numpy as np\n",
    "import pickle\n",
    "from scipy.stats import mannwhitneyu"
   ]
  },
  {
   "cell_type": "markdown",
   "metadata": {},
   "source": [
    "### 1. Load scores dictionaries"
   ]
  },
  {
   "cell_type": "code",
   "execution_count": 2,
   "metadata": {},
   "outputs": [],
   "source": [
    "with open('CF_savings/scores_dict_cf.pkl', 'rb') as d:\n",
    "    cf_scores = pickle.load(d)"
   ]
  },
  {
   "cell_type": "code",
   "execution_count": 3,
   "metadata": {},
   "outputs": [],
   "source": [
    "with open('CF_savings/scores_dict_cf_enhanced.pkl', 'rb') as d:\n",
    "    cf_enh_scores = pickle.load(d)"
   ]
  },
  {
   "cell_type": "code",
   "execution_count": 4,
   "metadata": {},
   "outputs": [],
   "source": [
    "with open('item2vec_savings/scores_dict.pkl', 'rb') as d:\n",
    "    item2vec_scores = pickle.load(d)"
   ]
  },
  {
   "cell_type": "markdown",
   "metadata": {},
   "source": [
    "### 2. Compare mean of the scores"
   ]
  },
  {
   "cell_type": "code",
   "execution_count": 5,
   "metadata": {},
   "outputs": [
    {
     "name": "stdout",
     "output_type": "stream",
     "text": [
      "CF MAPk:  0.025194398152964474\n"
     ]
    }
   ],
   "source": [
    "print('CF MAPk: ', np.mean(cf_scores['mapk']))"
   ]
  },
  {
   "cell_type": "code",
   "execution_count": 6,
   "metadata": {},
   "outputs": [
    {
     "name": "stdout",
     "output_type": "stream",
     "text": [
      "CF enhanced MAPk:  0.024464442441922623\n"
     ]
    }
   ],
   "source": [
    "print('CF enhanced MAPk: ', np.mean(cf_enh_scores['mapk']))"
   ]
  },
  {
   "cell_type": "code",
   "execution_count": 7,
   "metadata": {},
   "outputs": [
    {
     "name": "stdout",
     "output_type": "stream",
     "text": [
      "item2vec MAPk:  0.010763071704202754\n"
     ]
    }
   ],
   "source": [
    "print('item2vec MAPk: ', np.mean(item2vec_scores['mapk']))"
   ]
  },
  {
   "cell_type": "markdown",
   "metadata": {},
   "source": [
    "*************"
   ]
  },
  {
   "cell_type": "code",
   "execution_count": 8,
   "metadata": {},
   "outputs": [
    {
     "name": "stdout",
     "output_type": "stream",
     "text": [
      "CF mean recall:  0.057066397317200854\n"
     ]
    }
   ],
   "source": [
    "print('CF mean recall: ', np.mean(cf_scores['recall']))"
   ]
  },
  {
   "cell_type": "code",
   "execution_count": 9,
   "metadata": {},
   "outputs": [
    {
     "name": "stdout",
     "output_type": "stream",
     "text": [
      "CF enhanced mean recall:  0.05716726677431336\n"
     ]
    }
   ],
   "source": [
    "print('CF enhanced mean recall: ', np.mean(cf_enh_scores['recall']))"
   ]
  },
  {
   "cell_type": "code",
   "execution_count": 10,
   "metadata": {},
   "outputs": [
    {
     "name": "stdout",
     "output_type": "stream",
     "text": [
      "item2vec mean recall:  0.023103183039375138\n"
     ]
    }
   ],
   "source": [
    "print('item2vec mean recall: ', np.mean(item2vec_scores['recall']))"
   ]
  },
  {
   "cell_type": "markdown",
   "metadata": {},
   "source": [
    "CF mean scores are better"
   ]
  },
  {
   "cell_type": "markdown",
   "metadata": {},
   "source": [
    "### 3. Compare scores distributions with the rank test"
   ]
  },
  {
   "cell_type": "code",
   "execution_count": 11,
   "metadata": {},
   "outputs": [
    {
     "data": {
      "text/plain": [
       "MannwhitneyuResult(statistic=48845921.0, pvalue=1.0)"
      ]
     },
     "execution_count": 11,
     "metadata": {},
     "output_type": "execute_result"
    }
   ],
   "source": [
    "#CF vs item2vec MAPk\n",
    "mannwhitneyu(cf_scores['mapk'], item2vec_scores['mapk'], alternative='less')"
   ]
  },
  {
   "cell_type": "code",
   "execution_count": 12,
   "metadata": {},
   "outputs": [
    {
     "data": {
      "text/plain": [
       "MannwhitneyuResult(statistic=48847524.0, pvalue=1.0)"
      ]
     },
     "execution_count": 12,
     "metadata": {},
     "output_type": "execute_result"
    }
   ],
   "source": [
    "#CF vs item2vec recall\n",
    "mannwhitneyu(cf_scores['recall'], item2vec_scores['recall'], alternative='less')"
   ]
  },
  {
   "cell_type": "markdown",
   "metadata": {},
   "source": [
    "According to the rank test, CF scores are greater then item2vec scores"
   ]
  },
  {
   "cell_type": "code",
   "execution_count": 13,
   "metadata": {},
   "outputs": [
    {
     "data": {
      "text/plain": [
       "MannwhitneyuResult(statistic=41883055.0, pvalue=0.9997813747039823)"
      ]
     },
     "execution_count": 13,
     "metadata": {},
     "output_type": "execute_result"
    }
   ],
   "source": [
    "#CF vs CF enhanced MAPk\n",
    "mannwhitneyu(cf_scores['mapk'], cf_enh_scores['mapk'], alternative='less')"
   ]
  },
  {
   "cell_type": "code",
   "execution_count": 14,
   "metadata": {},
   "outputs": [
    {
     "data": {
      "text/plain": [
       "MannwhitneyuResult(statistic=41763757.5, pvalue=0.9991065464462938)"
      ]
     },
     "execution_count": 14,
     "metadata": {},
     "output_type": "execute_result"
    }
   ],
   "source": [
    "#CF vs CF enhanced recall\n",
    "mannwhitneyu(cf_scores['recall'], cf_enh_scores['recall'], alternative='less')"
   ]
  },
  {
   "cell_type": "markdown",
   "metadata": {},
   "source": [
    "Accroding to the rank test, CF scores are greater then CF enhanced with user likes scores"
   ]
  },
  {
   "cell_type": "code",
   "execution_count": 15,
   "metadata": {},
   "outputs": [
    {
     "data": {
      "text/plain": [
       "MannwhitneyuResult(statistic=47663755.5, pvalue=1.0)"
      ]
     },
     "execution_count": 15,
     "metadata": {},
     "output_type": "execute_result"
    }
   ],
   "source": [
    "#CF enhanced vs item2vec MAPk\n",
    "mannwhitneyu(cf_enh_scores['mapk'], item2vec_scores['mapk'], alternative='less')"
   ]
  },
  {
   "cell_type": "code",
   "execution_count": 16,
   "metadata": {},
   "outputs": [
    {
     "data": {
      "text/plain": [
       "MannwhitneyuResult(statistic=47730022.5, pvalue=1.0)"
      ]
     },
     "execution_count": 16,
     "metadata": {},
     "output_type": "execute_result"
    }
   ],
   "source": [
    "#CF enhanced vs item2vec recall\n",
    "mannwhitneyu(cf_enh_scores['recall'], item2vec_scores['recall'], alternative='less')"
   ]
  },
  {
   "cell_type": "markdown",
   "metadata": {},
   "source": [
    "According to the rank test, CF enhanced scores are greater then item2vec scores"
   ]
  },
  {
   "cell_type": "markdown",
   "metadata": {},
   "source": [
    "### 4. Hit rates comparison"
   ]
  },
  {
   "cell_type": "code",
   "execution_count": 17,
   "metadata": {},
   "outputs": [
    {
     "name": "stdout",
     "output_type": "stream",
     "text": [
      "CF hit rate:  0.24\n",
      "CF enhanced hit rate:  0.23\n",
      "item2vec hit rate:  0.009\n"
     ]
    }
   ],
   "source": [
    "print('CF hit rate: ', 0.24)\n",
    "print('CF enhanced hit rate: ', 0.23)\n",
    "print('item2vec hit rate: ', 0.009)"
   ]
  },
  {
   "cell_type": "markdown",
   "metadata": {},
   "source": [
    "According to scores and hit rates comparison, simple CF for implicit feedback datasets model gave the best performance for the Artist Recommendation task."
   ]
  }
 ],
 "metadata": {
  "kernelspec": {
   "display_name": "Python 3",
   "language": "python",
   "name": "python3"
  },
  "language_info": {
   "codemirror_mode": {
    "name": "ipython",
    "version": 3
   },
   "file_extension": ".py",
   "mimetype": "text/x-python",
   "name": "python",
   "nbconvert_exporter": "python",
   "pygments_lexer": "ipython3",
   "version": "3.6.6"
  }
 },
 "nbformat": 4,
 "nbformat_minor": 2
}
